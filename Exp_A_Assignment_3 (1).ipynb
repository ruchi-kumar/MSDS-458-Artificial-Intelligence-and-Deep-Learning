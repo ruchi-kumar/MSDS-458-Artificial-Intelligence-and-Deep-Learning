{
  "nbformat": 4,
  "nbformat_minor": 0,
  "metadata": {
    "colab": {
      "name": "Exp A Assignment 3.ipynb",
      "provenance": [],
      "collapsed_sections": []
    },
    "kernelspec": {
      "name": "python3",
      "display_name": "Python 3"
    },
    "language_info": {
      "name": "python"
    }
  },
  "cells": [
    {
      "cell_type": "code",
      "metadata": {
        "id": "Ns1F_FT_MhPm"
      },
      "source": [
        "import datetime\n",
        "from packaging import version\n",
        "from collections import Counter\n",
        "import numpy as np\n",
        "import pandas as pd\n",
        "import time\n",
        "\n",
        "import matplotlib.pyplot as plt\n",
        "import matplotlib as mpl\n",
        "import seaborn as sns\n",
        "\n",
        "from sklearn.metrics import confusion_matrix, classification_report\n",
        "from sklearn.preprocessing import StandardScaler\n",
        "from sklearn.decomposition import PCA\n",
        "from sklearn.manifold import TSNE\n",
        "from sklearn.ensemble import RandomForestClassifier\n",
        "from sklearn.metrics import mean_squared_error as MSE\n",
        "from sklearn.metrics import accuracy_score\n",
        "\n",
        "import tensorflow as tf\n",
        "from tensorflow import keras\n",
        "import tensorflow_datasets as tfds"
      ],
      "execution_count": null,
      "outputs": []
    },
    {
      "cell_type": "code",
      "metadata": {
        "colab": {
          "base_uri": "https://localhost:8080/"
        },
        "id": "dEmcgGX2LzEO",
        "outputId": "8eb23b6b-d89d-404d-a65d-962a24b590e2"
      },
      "source": [
        "pip install nltk"
      ],
      "execution_count": null,
      "outputs": [
        {
          "output_type": "stream",
          "name": "stdout",
          "text": [
            "Requirement already satisfied: nltk in /usr/local/lib/python3.7/dist-packages (3.2.5)\n",
            "Requirement already satisfied: six in /usr/local/lib/python3.7/dist-packages (from nltk) (1.15.0)\n"
          ]
        }
      ]
    },
    {
      "cell_type": "code",
      "metadata": {
        "colab": {
          "base_uri": "https://localhost:8080/"
        },
        "id": "pXNJijMTLLJk",
        "outputId": "5c46087b-23da-4271-af5a-84c5332dcba9"
      },
      "source": [
        "import nltk\n",
        "from nltk.corpus import stopwords\n",
        "nltk.download('stopwords')"
      ],
      "execution_count": null,
      "outputs": [
        {
          "output_type": "stream",
          "name": "stdout",
          "text": [
            "[nltk_data] Downloading package stopwords to /root/nltk_data...\n",
            "[nltk_data]   Unzipping corpora/stopwords.zip.\n"
          ]
        },
        {
          "output_type": "execute_result",
          "data": {
            "text/plain": [
              "True"
            ]
          },
          "metadata": {},
          "execution_count": 3
        }
      ]
    },
    {
      "cell_type": "code",
      "metadata": {
        "id": "KXPP4Ib8MonL"
      },
      "source": [
        "#tf.get_logger().setLevel('INFO')"
      ],
      "execution_count": null,
      "outputs": []
    },
    {
      "cell_type": "code",
      "metadata": {
        "id": "tbejjF1cMoun"
      },
      "source": [
        "%matplotlib inline\n",
        "np.set_printoptions(precision=3, suppress=True)"
      ],
      "execution_count": null,
      "outputs": []
    },
    {
      "cell_type": "code",
      "metadata": {
        "colab": {
          "base_uri": "https://localhost:8080/"
        },
        "id": "X5lb1ADOMo17",
        "outputId": "895f260a-1315-424d-fefe-b5ee00037eca"
      },
      "source": [
        "print(\"This notebook requires TensorFlow 2.0 or above\")\n",
        "print(\"TensorFlow version: \", tf.__version__)\n",
        "assert version.parse(tf.__version__).release[0] >=2"
      ],
      "execution_count": null,
      "outputs": [
        {
          "output_type": "stream",
          "name": "stdout",
          "text": [
            "This notebook requires TensorFlow 2.0 or above\n",
            "TensorFlow version:  2.6.0\n"
          ]
        }
      ]
    },
    {
      "cell_type": "code",
      "metadata": {
        "colab": {
          "base_uri": "https://localhost:8080/"
        },
        "id": "c8HNHKk5MzN4",
        "outputId": "aaaa417a-3413-4b58-a9f8-ad6bf3ec074a"
      },
      "source": [
        "print(\"Keras version: \", keras.__version__)"
      ],
      "execution_count": null,
      "outputs": [
        {
          "output_type": "stream",
          "name": "stdout",
          "text": [
            "Keras version:  2.6.0\n"
          ]
        }
      ]
    },
    {
      "cell_type": "markdown",
      "metadata": {
        "id": "2RS8e_yAM45i"
      },
      "source": [
        "**Functions**"
      ]
    },
    {
      "cell_type": "code",
      "metadata": {
        "id": "FyCFP46uMzUK"
      },
      "source": [
        "def print_validation_report(test_labels, predictions):\n",
        "    print(\"Classification Report\")\n",
        "    print(classification_report(test_labels, predictions))\n",
        "    print('Accuracy Score: {}'.format(accuracy_score(test_labels, predictions)))\n",
        "    print('Root Mean Square Error: {}'.format(np.sqrt(MSE(test_labels, predictions))))"
      ],
      "execution_count": null,
      "outputs": []
    },
    {
      "cell_type": "code",
      "metadata": {
        "id": "gf1w9VN5MzZD"
      },
      "source": [
        "def plot_confusion_matrix(y_true, y_pred):\n",
        "    mtx = confusion_matrix(y_true, y_pred)\n",
        "    fig, ax = plt.subplots(figsize=(8,8))\n",
        "    sns.heatmap(mtx, annot=True, fmt='d', linewidths=.75,  cbar=False, ax=ax,cmap='Blues',linecolor='white')\n",
        "    #  square=True,\n",
        "    plt.ylabel('true label')\n",
        "    plt.xlabel('predicted label')"
      ],
      "execution_count": null,
      "outputs": []
    },
    {
      "cell_type": "code",
      "metadata": {
        "id": "hB1OgEGcMzd9"
      },
      "source": [
        "def plot_graphs(history, metric):\n",
        "  plt.plot(history.history[metric])\n",
        "  plt.plot(history.history['val_'+metric], '')\n",
        "  plt.xlabel(\"Epochs\")\n",
        "  plt.ylabel(metric)\n",
        "  plt.legend([metric, 'val_'+metric])"
      ],
      "execution_count": null,
      "outputs": []
    },
    {
      "cell_type": "markdown",
      "metadata": {
        "id": "0BPdaGYzNNeb"
      },
      "source": [
        "**Mount Google Drive**"
      ]
    },
    {
      "cell_type": "code",
      "metadata": {
        "id": "xVcLDywfMzlA"
      },
      "source": [
        "#from google.colab import drive\n",
        "#drive.mount('/content/gdrive')"
      ],
      "execution_count": null,
      "outputs": []
    },
    {
      "cell_type": "markdown",
      "metadata": {
        "id": "t5PPgCOQNWwI"
      },
      "source": [
        "**TensorFlow Datasets Information**"
      ]
    },
    {
      "cell_type": "markdown",
      "metadata": {
        "id": "lRx0RW-FN0Qs"
      },
      "source": [
        "Get all the words in the documents (as well as the number of words in each document) by using the encoder to get the indices associated with each token and then translating the indices to tokens. But first we need to get the \"unpadded\" new articles so that we can get their length."
      ]
    },
    {
      "cell_type": "code",
      "metadata": {
        "colab": {
          "base_uri": "https://localhost:8080/"
        },
        "id": "nQ8OSXjdMzqe",
        "outputId": "466da239-3e93-4b70-ba39-ab31f032d04b"
      },
      "source": [
        "#register  ag_news_subset so that tfds.load doesn't generate a checksum (mismatch) error\n",
        "!python -m tensorflow_datasets.scripts.download_and_prepare --register_checksums --datasets=ag_news_subset\n",
        "\n",
        "# https://www.tensorflow.org/datasets/splits\n",
        "# The full `train` and `test` splits, interleaved together.\n",
        "ri = tfds.core.ReadInstruction('train') + tfds.core.ReadInstruction('test')\n",
        "dataset_all, info = tfds.load('ag_news_subset', with_info=True,  split=ri, as_supervised=True)"
      ],
      "execution_count": null,
      "outputs": [
        {
          "output_type": "stream",
          "name": "stdout",
          "text": [
            "2021-10-30 16:57:38.885507: E tensorflow/stream_executor/cuda/cuda_driver.cc:271] failed call to cuInit: CUDA_ERROR_NO_DEVICE: no CUDA-capable device is detected\n",
            "2021-10-30 16:57:38.885576: I tensorflow/stream_executor/cuda/cuda_diagnostics.cc:156] kernel driver does not appear to be running on this host (29c936c21721): /proc/driver/nvidia/version does not exist\n",
            "I1030 16:57:38.885839 140142982784896 download_and_prepare.py:200] Running download_and_prepare for dataset(s):\n",
            "ag_news_subset\n",
            "2021-10-30 16:57:38.895899: I tensorflow/core/platform/cloud/google_auth_provider.cc:180] Attempting an empty bearer token since no token was retrieved from files, and GCE metadata check was skipped.\n",
            "2021-10-30 16:57:39.110474: I tensorflow/core/platform/cloud/google_auth_provider.cc:180] Attempting an empty bearer token since no token was retrieved from files, and GCE metadata check was skipped.\n",
            "2021-10-30 16:57:39.308940: I tensorflow/core/platform/cloud/google_auth_provider.cc:180] Attempting an empty bearer token since no token was retrieved from files, and GCE metadata check was skipped.\n",
            "I1030 16:57:39.508526 140142982784896 dataset_info.py:434] Load pre-computed DatasetInfo (eg: splits, num examples,...) from GCS: ag_news_subset/1.0.0\n",
            "2021-10-30 16:57:39.519337: I tensorflow/core/platform/cloud/google_auth_provider.cc:180] Attempting an empty bearer token since no token was retrieved from files, and GCE metadata check was skipped.\n",
            "2021-10-30 16:57:40.104918: I tensorflow/core/platform/cloud/google_auth_provider.cc:180] Attempting an empty bearer token since no token was retrieved from files, and GCE metadata check was skipped.\n",
            "I1030 16:57:40.713269 140142982784896 dataset_info.py:361] Load dataset info from /tmp/tmp1gr99ni5tfds\n",
            "I1030 16:57:40.718003 140142982784896 download_and_prepare.py:138] download_and_prepare for dataset ag_news_subset/1.0.0...\n",
            "I1030 16:57:40.718553 140142982784896 dataset_builder.py:357] Generating dataset ag_news_subset (/root/tensorflow_datasets/ag_news_subset/1.0.0)\n",
            "\u001b[1mDownloading and preparing dataset ag_news_subset/1.0.0 (download: 11.24 MiB, generated: 35.79 MiB, total: 47.03 MiB) to /root/tensorflow_datasets/ag_news_subset/1.0.0...\u001b[0m\n",
            "2021-10-30 16:57:40.916168: I tensorflow/core/platform/cloud/google_auth_provider.cc:180] Attempting an empty bearer token since no token was retrieved from files, and GCE metadata check was skipped.\n",
            "2021-10-30 16:57:41.099710: I tensorflow/core/platform/cloud/google_auth_provider.cc:180] Attempting an empty bearer token since no token was retrieved from files, and GCE metadata check was skipped.\n",
            "Dl Completed...: 0 url [00:00, ? url/s]\n",
            "Dl Size...: 0 MiB [00:00, ? MiB/s]\u001b[A\n",
            "\n",
            "Extraction completed...: 0 file [00:00, ? file/s]\u001b[A\u001b[AI1030 16:57:41.305898 140142982784896 download_manager.py:476] Downloading https://drive.google.com/uc?export=download&id=0Bz8a_Dbh9QhbUDNpeUdjb0wxRms into /root/tensorflow_datasets/downloads/ucexport_download_id_0Bz8a_Dbh9QhbUDNpeUdjb0wxj4g1umFAV8OV-uDwxSJR0LdxO_k1jxMuFWwAfNX9jos.tmp.9da1475a09ba4716865ebd795c7528ce...\n",
            "Dl Completed...:   0% 0/1 [00:00<?, ? url/s]\n",
            "Dl Size...: 0 MiB [00:00, ? MiB/s]\u001b[A\n",
            "\n",
            "Dl Completed...:   0% 0/1 [00:25<?, ? url/s]\n",
            "Dl Size...:   0% 0/11 [00:25<?, ? MiB/s]\u001b[A\n",
            "\n",
            "Extraction completed...: 0 file [00:25, ? file/s]\u001b[A\u001b[A\n",
            "Dl Completed...:   0% 0/1 [00:25<?, ? url/s]\n",
            "Dl Size...:   9% 1/11 [00:25<04:16, 25.62s/ MiB]\u001b[A\n",
            "\n",
            "Dl Completed...:   0% 0/1 [00:25<?, ? url/s]\n",
            "Dl Size...:  18% 2/11 [00:25<03:50, 25.62s/ MiB]\u001b[A\n",
            "\n",
            "Dl Completed...:   0% 0/1 [00:25<?, ? url/s]\n",
            "Dl Size...:  27% 3/11 [00:25<03:24, 25.62s/ MiB]\u001b[A\n",
            "\n",
            "Dl Completed...:   0% 0/1 [00:25<?, ? url/s]\n",
            "Dl Size...:  36% 4/11 [00:25<02:59, 25.62s/ MiB]\u001b[A\n",
            "\n",
            "Dl Completed...:   0% 0/1 [00:25<?, ? url/s]\n",
            "Dl Size...:  45% 5/11 [00:25<02:33, 25.62s/ MiB]\u001b[A\n",
            "\n",
            "Dl Completed...:   0% 0/1 [00:25<?, ? url/s]\n",
            "Dl Size...:  55% 6/11 [00:25<02:08, 25.62s/ MiB]\u001b[A\n",
            "\n",
            "Dl Completed...:   0% 0/1 [00:25<?, ? url/s]\n",
            "Dl Size...:  64% 7/11 [00:25<01:42, 25.62s/ MiB]\u001b[A\n",
            "\n",
            "Dl Completed...:   0% 0/1 [00:25<?, ? url/s]\n",
            "Dl Size...:  73% 8/11 [00:25<01:16, 25.62s/ MiB]\u001b[A\n",
            "\n",
            "Dl Completed...:   0% 0/1 [00:25<?, ? url/s]\n",
            "Dl Size...:  82% 9/11 [00:25<00:51, 25.62s/ MiB]\u001b[A\n",
            "\n",
            "Extraction completed...: 0 file [00:25, ? file/s]\u001b[A\u001b[A\n",
            "Dl Completed...:   0% 0/1 [00:25<?, ? url/s]\n",
            "Dl Size...:  91% 10/11 [00:25<00:01,  1.86s/ MiB]\u001b[A\n",
            "\n",
            "Dl Completed...:   0% 0/1 [00:25<?, ? url/s]\n",
            "Dl Size...: 100% 11/11 [00:25<00:00,  1.86s/ MiB]\u001b[A\n",
            "\n",
            "Dl Completed...: 100% 1/1 [00:25<00:00, 25.75s/ url]\n",
            "Dl Size...: 100% 11/11 [00:25<00:00,  1.86s/ MiB]\u001b[A\n",
            "\n",
            "Dl Completed...: 100% 1/1 [00:25<00:00, 25.75s/ url]\n",
            "Dl Size...: 100% 11/11 [00:25<00:00,  1.86s/ MiB]\u001b[A\n",
            "\n",
            "Extraction completed...:   0% 0/1 [00:25<?, ? file/s]\u001b[A\u001b[A\n",
            "\n",
            "Dl Completed...: 100% 1/1 [00:26<00:00, 25.75s/ url]\n",
            "Dl Size...: 100% 11/11 [00:26<00:00,  1.86s/ MiB]\u001b[A\n",
            "\n",
            "Extraction completed...: 100% 1/1 [00:26<00:00, 26.12s/ file]\u001b[A\u001b[A\n",
            "Extraction completed...: 100% 1/1 [00:26<00:00, 26.12s/ file]\n",
            "\n",
            "Dl Size...: 100% 11/11 [00:26<00:00,  2.38s/ MiB]\n",
            "\n",
            "Dl Completed...: 100% 1/1 [00:26<00:00, 26.13s/ url]\n",
            "I1030 16:58:07.429890 140142982784896 dataset_builder.py:970] Generating split train\n",
            "Shuffling and writing examples to /root/tensorflow_datasets/ag_news_subset/1.0.0.incomplete5USL9J/ag_news_subset-train.tfrecord\n",
            " 67% 80426/120000 [00:00<00:00, 277315.93 examples/s]I1030 16:58:32.850660 140142982784896 tfrecords_writer.py:226] Done writing /root/tensorflow_datasets/ag_news_subset/1.0.0.incomplete5USL9J/ag_news_subset-train.tfrecord. Shard lengths: [120000]\n",
            "I1030 16:58:32.871463 140142982784896 dataset_builder.py:970] Generating split test\n",
            "Shuffling and writing examples to /root/tensorflow_datasets/ag_news_subset/1.0.0.incomplete5USL9J/ag_news_subset-test.tfrecord\n",
            "  0% 0/7600 [00:00<?, ? examples/s]I1030 16:58:34.449545 140142982784896 tfrecords_writer.py:226] Done writing /root/tensorflow_datasets/ag_news_subset/1.0.0.incomplete5USL9J/ag_news_subset-test.tfrecord. Shard lengths: [7600]\n",
            "I1030 16:58:34.451952 140142982784896 dataset_builder.py:412] Skipping computing stats for mode ComputeStatsMode.SKIP.\n",
            "\u001b[1mDataset ag_news_subset downloaded and prepared to /root/tensorflow_datasets/ag_news_subset/1.0.0. Subsequent calls will reuse this data.\u001b[0m\n",
            "\u001b[1mname: \"ag_news_subset\"\n",
            "description: \"AG is a collection of more than 1 million news articles.\\nNews articles have been gathered from more than 2000  news sources by ComeToMyHead in more than 1 year of activity.\\nComeToMyHead is an academic news search engine which has been running since July, 2004.\\nThe dataset is provided by the academic comunity for research purposes in data mining (clustering, classification, etc),\\ninformation retrieval (ranking, search, etc), xml, data compression, data streaming,\\nand any other non-commercial activity.\\nFor more information, please refer to the link http://www.di.unipi.it/~gulli/AG_corpus_of_news_articles.html .\\n\\nThe AG\\'s news topic classification dataset is constructed by Xiang Zhang (xiang.zhang@nyu.edu) from the dataset above.\\nIt is used as a text classification benchmark in the following paper:\\nXiang Zhang, Junbo Zhao, Yann LeCun. Character-level Convolutional Networks for Text Classification. Advances in Neural Information Processing Systems 28 (NIPS 2015).\\n\\nThe AG\\'s news topic classification dataset is constructed by choosing 4 largest classes from the original corpus.\\nEach class contains 30,000 training samples and 1,900 testing samples.\\nThe total number of training samples is 120,000 and testing 7,600.\"\n",
            "citation: \"@misc{zhang2015characterlevel,\\n    title={Character-level Convolutional Networks for Text Classification},\\n    author={Xiang Zhang and Junbo Zhao and Yann LeCun},\\n    year={2015},\\n    eprint={1509.01626},\\n    archivePrefix={arXiv},\\n    primaryClass={cs.LG}\\n}\"\n",
            "location {\n",
            "  urls: \"https://arxiv.org/abs/1509.01626\"\n",
            "}\n",
            "splits {\n",
            "  name: \"test\"\n",
            "  shard_lengths: 7600\n",
            "  num_bytes: 2226751\n",
            "}\n",
            "splits {\n",
            "  name: \"train\"\n",
            "  shard_lengths: 120000\n",
            "  num_bytes: 35301386\n",
            "}\n",
            "supervised_keys {\n",
            "  input: \"description\"\n",
            "  output: \"label\"\n",
            "}\n",
            "version: \"1.0.0\"\n",
            "download_size: 11784327\n",
            "\u001b[0m\n"
          ]
        }
      ]
    },
    {
      "cell_type": "markdown",
      "metadata": {
        "id": "CudHOmX7OJLB"
      },
      "source": [
        "**Exploratory Analysis AG News Subset**\n",
        "\n",
        "Get information about the ag_news_subset dataset. We combined the training and test data for a total of 127,600 news articles."
      ]
    },
    {
      "cell_type": "code",
      "metadata": {
        "colab": {
          "base_uri": "https://localhost:8080/"
        },
        "id": "YDCp6LNiNY5G",
        "outputId": "b9d1d6c0-f583-4bb5-c982-e9a42ab02441"
      },
      "source": [
        "print(info)"
      ],
      "execution_count": null,
      "outputs": [
        {
          "output_type": "stream",
          "name": "stdout",
          "text": [
            "tfds.core.DatasetInfo(\n",
            "    name='ag_news_subset',\n",
            "    version=1.0.0,\n",
            "    description='AG is a collection of more than 1 million news articles.\n",
            "News articles have been gathered from more than 2000  news sources by ComeToMyHead in more than 1 year of activity.\n",
            "ComeToMyHead is an academic news search engine which has been running since July, 2004.\n",
            "The dataset is provided by the academic comunity for research purposes in data mining (clustering, classification, etc),\n",
            "information retrieval (ranking, search, etc), xml, data compression, data streaming,\n",
            "and any other non-commercial activity.\n",
            "For more information, please refer to the link http://www.di.unipi.it/~gulli/AG_corpus_of_news_articles.html .\n",
            "\n",
            "The AG's news topic classification dataset is constructed by Xiang Zhang (xiang.zhang@nyu.edu) from the dataset above.\n",
            "It is used as a text classification benchmark in the following paper:\n",
            "Xiang Zhang, Junbo Zhao, Yann LeCun. Character-level Convolutional Networks for Text Classification. Advances in Neural Information Processing Systems 28 (NIPS 2015).\n",
            "\n",
            "The AG's news topic classification dataset is constructed by choosing 4 largest classes from the original corpus.\n",
            "Each class contains 30,000 training samples and 1,900 testing samples.\n",
            "The total number of training samples is 120,000 and testing 7,600.',\n",
            "    homepage='https://arxiv.org/abs/1509.01626',\n",
            "    features=FeaturesDict({\n",
            "        'description': Text(shape=(), dtype=tf.string),\n",
            "        'label': ClassLabel(shape=(), dtype=tf.int64, num_classes=4),\n",
            "        'title': Text(shape=(), dtype=tf.string),\n",
            "    }),\n",
            "    total_num_examples=127600,\n",
            "    splits={\n",
            "        'test': 7600,\n",
            "        'train': 120000,\n",
            "    },\n",
            "    supervised_keys=('description', 'label'),\n",
            "    citation=\"\"\"@misc{zhang2015characterlevel,\n",
            "        title={Character-level Convolutional Networks for Text Classification},\n",
            "        author={Xiang Zhang and Junbo Zhao and Yann LeCun},\n",
            "        year={2015},\n",
            "        eprint={1509.01626},\n",
            "        archivePrefix={arXiv},\n",
            "        primaryClass={cs.LG}\n",
            "    }\"\"\",\n",
            "    redistribution_info=,\n",
            ")\n",
            "\n"
          ]
        }
      ]
    },
    {
      "cell_type": "code",
      "metadata": {
        "colab": {
          "base_uri": "https://localhost:8080/",
          "height": 335
        },
        "id": "yVSZzDOnNY8C",
        "outputId": "7b5fd71b-f596-4d34-cafa-421e5d5981cd"
      },
      "source": [
        "tfds.as_dataframe(dataset_all.take(10),info)"
      ],
      "execution_count": null,
      "outputs": [
        {
          "output_type": "execute_result",
          "data": {
            "text/html": [
              "<style  type=\"text/css\" >\n",
              "</style><table id=\"T_bac412a4_39a2_11ec_9f4c_0242ac1c0002\" ><thead>    <tr>        <th class=\"blank level0\" ></th>        <th class=\"col_heading level0 col0\" >description</th>        <th class=\"col_heading level0 col1\" >label</th>    </tr></thead><tbody>\n",
              "                <tr>\n",
              "                        <th id=\"T_bac412a4_39a2_11ec_9f4c_0242ac1c0002level0_row0\" class=\"row_heading level0 row0\" >0</th>\n",
              "                        <td id=\"T_bac412a4_39a2_11ec_9f4c_0242ac1c0002row0_col0\" class=\"data row0 col0\" >AMD #39;s new dual-core Opteron chip is designed mainly for corporate computing applications, including databases, Web services, and financial transactions.</td>\n",
              "                        <td id=\"T_bac412a4_39a2_11ec_9f4c_0242ac1c0002row0_col1\" class=\"data row0 col1\" >3 (Sci/Tech)</td>\n",
              "            </tr>\n",
              "            <tr>\n",
              "                        <th id=\"T_bac412a4_39a2_11ec_9f4c_0242ac1c0002level0_row1\" class=\"row_heading level0 row1\" >1</th>\n",
              "                        <td id=\"T_bac412a4_39a2_11ec_9f4c_0242ac1c0002row1_col0\" class=\"data row1 col0\" >Reuters - Major League Baseball\\Monday announced a decision on the appeal filed by Chicago Cubs\\pitcher Kerry Wood regarding a suspension stemming from an\\incident earlier this season.</td>\n",
              "                        <td id=\"T_bac412a4_39a2_11ec_9f4c_0242ac1c0002row1_col1\" class=\"data row1 col1\" >1 (Sports)</td>\n",
              "            </tr>\n",
              "            <tr>\n",
              "                        <th id=\"T_bac412a4_39a2_11ec_9f4c_0242ac1c0002level0_row2\" class=\"row_heading level0 row2\" >2</th>\n",
              "                        <td id=\"T_bac412a4_39a2_11ec_9f4c_0242ac1c0002row2_col0\" class=\"data row2 col0\" >President Bush #39;s quot;revenue-neutral quot; tax reform needs losers to balance its winners, and people claiming the federal deduction for state and local taxes may be in administration planners #39; sights, news reports say.</td>\n",
              "                        <td id=\"T_bac412a4_39a2_11ec_9f4c_0242ac1c0002row2_col1\" class=\"data row2 col1\" >2 (Business)</td>\n",
              "            </tr>\n",
              "            <tr>\n",
              "                        <th id=\"T_bac412a4_39a2_11ec_9f4c_0242ac1c0002level0_row3\" class=\"row_heading level0 row3\" >3</th>\n",
              "                        <td id=\"T_bac412a4_39a2_11ec_9f4c_0242ac1c0002row3_col0\" class=\"data row3 col0\" >Britain will run out of leading scientists unless science education is improved, says Professor Colin Pillinger.</td>\n",
              "                        <td id=\"T_bac412a4_39a2_11ec_9f4c_0242ac1c0002row3_col1\" class=\"data row3 col1\" >3 (Sci/Tech)</td>\n",
              "            </tr>\n",
              "            <tr>\n",
              "                        <th id=\"T_bac412a4_39a2_11ec_9f4c_0242ac1c0002level0_row4\" class=\"row_heading level0 row4\" >4</th>\n",
              "                        <td id=\"T_bac412a4_39a2_11ec_9f4c_0242ac1c0002row4_col0\" class=\"data row4 col0\" >London, England (Sports Network) - England midfielder Steven Gerrard injured his groin late in Thursday #39;s training session, but is hopeful he will be ready for Saturday #39;s World Cup qualifier against Austria.</td>\n",
              "                        <td id=\"T_bac412a4_39a2_11ec_9f4c_0242ac1c0002row4_col1\" class=\"data row4 col1\" >1 (Sports)</td>\n",
              "            </tr>\n",
              "            <tr>\n",
              "                        <th id=\"T_bac412a4_39a2_11ec_9f4c_0242ac1c0002level0_row5\" class=\"row_heading level0 row5\" >5</th>\n",
              "                        <td id=\"T_bac412a4_39a2_11ec_9f4c_0242ac1c0002row5_col0\" class=\"data row5 col0\" >TOKYO - Sony Corp. is banking on the \\$3 billion deal to acquire Hollywood studio Metro-Goldwyn-Mayer Inc...</td>\n",
              "                        <td id=\"T_bac412a4_39a2_11ec_9f4c_0242ac1c0002row5_col1\" class=\"data row5 col1\" >0 (World)</td>\n",
              "            </tr>\n",
              "            <tr>\n",
              "                        <th id=\"T_bac412a4_39a2_11ec_9f4c_0242ac1c0002level0_row6\" class=\"row_heading level0 row6\" >6</th>\n",
              "                        <td id=\"T_bac412a4_39a2_11ec_9f4c_0242ac1c0002row6_col0\" class=\"data row6 col0\" >Giant pandas may well prefer bamboo to laptops, but wireless technology is helping researchers in China in their efforts to protect the engandered animals living in the remote Wolong Nature Reserve.</td>\n",
              "                        <td id=\"T_bac412a4_39a2_11ec_9f4c_0242ac1c0002row6_col1\" class=\"data row6 col1\" >3 (Sci/Tech)</td>\n",
              "            </tr>\n",
              "            <tr>\n",
              "                        <th id=\"T_bac412a4_39a2_11ec_9f4c_0242ac1c0002level0_row7\" class=\"row_heading level0 row7\" >7</th>\n",
              "                        <td id=\"T_bac412a4_39a2_11ec_9f4c_0242ac1c0002row7_col0\" class=\"data row7 col0\" >VILNIUS, Lithuania - Lithuania #39;s main parties formed an alliance to try to keep a Russian-born tycoon and his populist promises out of the government in Sunday #39;s second round of parliamentary elections in this Baltic country.</td>\n",
              "                        <td id=\"T_bac412a4_39a2_11ec_9f4c_0242ac1c0002row7_col1\" class=\"data row7 col1\" >0 (World)</td>\n",
              "            </tr>\n",
              "            <tr>\n",
              "                        <th id=\"T_bac412a4_39a2_11ec_9f4c_0242ac1c0002level0_row8\" class=\"row_heading level0 row8\" >8</th>\n",
              "                        <td id=\"T_bac412a4_39a2_11ec_9f4c_0242ac1c0002row8_col0\" class=\"data row8 col0\" >Witnesses in the trial of a US soldier charged with abusing prisoners at Abu Ghraib have told the court that the CIA sometimes directed abuse and orders were received from military command to toughen interrogations.</td>\n",
              "                        <td id=\"T_bac412a4_39a2_11ec_9f4c_0242ac1c0002row8_col1\" class=\"data row8 col1\" >0 (World)</td>\n",
              "            </tr>\n",
              "            <tr>\n",
              "                        <th id=\"T_bac412a4_39a2_11ec_9f4c_0242ac1c0002level0_row9\" class=\"row_heading level0 row9\" >9</th>\n",
              "                        <td id=\"T_bac412a4_39a2_11ec_9f4c_0242ac1c0002row9_col0\" class=\"data row9 col0\" >Dan Olsen of Ponte Vedra Beach, Fla., shot a 7-under 65 Thursday to take a one-shot lead after two rounds of the PGA Tour qualifying tournament.</td>\n",
              "                        <td id=\"T_bac412a4_39a2_11ec_9f4c_0242ac1c0002row9_col1\" class=\"data row9 col1\" >1 (Sports)</td>\n",
              "            </tr>\n",
              "    </tbody></table>"
            ],
            "text/plain": [
              "                                         description  label\n",
              "0  b'AMD #39;s new dual-core Opteron chip is desi...      3\n",
              "1  b'Reuters - Major League Baseball\\\\Monday anno...      1\n",
              "2  b'President Bush #39;s  quot;revenue-neutral q...      2\n",
              "3  b'Britain will run out of leading scientists u...      3\n",
              "4  b'London, England (Sports Network) - England m...      1\n",
              "5  b'TOKYO - Sony Corp. is banking on the \\\\$3 bi...      0\n",
              "6  b'Giant pandas may well prefer bamboo to lapto...      3\n",
              "7  b'VILNIUS, Lithuania - Lithuania #39;s main pa...      0\n",
              "8  b'Witnesses in the trial of a US soldier charg...      0\n",
              "9  b'Dan Olsen of Ponte Vedra Beach, Fla., shot a...      1"
            ]
          },
          "metadata": {},
          "execution_count": 10
        }
      ]
    },
    {
      "cell_type": "markdown",
      "metadata": {
        "id": "JBLIZ3u3OcIr"
      },
      "source": [
        "**Review Labels (Categories)**\n"
      ]
    },
    {
      "cell_type": "code",
      "metadata": {
        "colab": {
          "base_uri": "https://localhost:8080/"
        },
        "id": "dFSV556dNY_r",
        "outputId": "43a4172a-e93b-42a9-f9db-9abc6b22f0fd"
      },
      "source": [
        "print(f'There are {info.features[\"label\"].num_classes} classes in the dataset.')\n",
        "print(f'The class names are {info.features[\"label\"].names}')"
      ],
      "execution_count": null,
      "outputs": [
        {
          "output_type": "stream",
          "name": "stdout",
          "text": [
            "There are 4 classes in the dataset.\n",
            "The class names are ['World', 'Sports', 'Business', 'Sci/Tech']\n"
          ]
        }
      ]
    },
    {
      "cell_type": "code",
      "metadata": {
        "colab": {
          "base_uri": "https://localhost:8080/"
        },
        "id": "1SvHT3skNZDW",
        "outputId": "75857db2-b480-469c-caec-72a2bfcbdce6"
      },
      "source": [
        "# classes dictionary\n",
        "categories =dict(enumerate(info.features[\"label\"].names))\n",
        "categories"
      ],
      "execution_count": null,
      "outputs": [
        {
          "output_type": "execute_result",
          "data": {
            "text/plain": [
              "{0: 'World', 1: 'Sports', 2: 'Business', 3: 'Sci/Tech'}"
            ]
          },
          "metadata": {},
          "execution_count": 12
        }
      ]
    },
    {
      "cell_type": "markdown",
      "metadata": {
        "id": "NeM9OqYgS0bO"
      },
      "source": [
        "The 127,600 news articles are evenly distributed among the 4 categories\n"
      ]
    },
    {
      "cell_type": "code",
      "metadata": {
        "colab": {
          "base_uri": "https://localhost:8080/"
        },
        "id": "gQyDjsceR3r7",
        "outputId": "2b188e77-6a36-4021-88f5-30cadf6f36a1"
      },
      "source": [
        "train_categories = [categories[label] for label in dataset_all.map(lambda text, label: label).as_numpy_iterator()]\n",
        "Counter(train_categories).most_common()"
      ],
      "execution_count": null,
      "outputs": [
        {
          "output_type": "execute_result",
          "data": {
            "text/plain": [
              "[('Sci/Tech', 31900), ('Sports', 31900), ('Business', 31900), ('World', 31900)]"
            ]
          },
          "metadata": {},
          "execution_count": 13
        }
      ]
    },
    {
      "cell_type": "markdown",
      "metadata": {
        "id": "01PZkzdTSwL0"
      },
      "source": [
        "We will use the tf.keras.layers.experimental.preprocessing.TextVectorization layer to transform each news article into a \"list\" of non-negative integers representing the tokens in the news article.\n",
        "\n",
        "For the purpose of training our models each such \"encoding\" will have a fixed length corresponding to the news article(s) with the most tokens. Shorter articles will be right-padded with zeros in the encoding. Also to speed up the training process, we will set max_tokens = 1000 so that words not in the vabulary set of top 1000 most common tokes are encoded as 1. But first we set max_tokens = None (which is the default value) in order to get the vocabulary size of the corpus."
      ]
    },
    {
      "cell_type": "code",
      "metadata": {
        "colab": {
          "base_uri": "https://localhost:8080/"
        },
        "id": "1wwTFLAgR3zA",
        "outputId": "88f635cd-6923-47f1-ff59-3e602941aa96"
      },
      "source": [
        "%%time\n",
        "encoder = tf.keras.layers.experimental.preprocessing.TextVectorization(max_tokens=None)\n",
        "encoder.adapt(dataset_all.map(lambda text, label: text))\n",
        "vocab = np.array(encoder.get_vocabulary())"
      ],
      "execution_count": null,
      "outputs": [
        {
          "output_type": "stream",
          "name": "stdout",
          "text": [
            "WARNING:tensorflow:AutoGraph could not transform <function <lambda> at 0x7f9a50964830> and will run it as-is.\n",
            "Cause: could not parse the source code of <function <lambda> at 0x7f9a50964830>: no matching AST found\n",
            "To silence this warning, decorate the function with @tf.autograph.experimental.do_not_convert\n"
          ]
        },
        {
          "output_type": "stream",
          "name": "stderr",
          "text": [
            "WARNING:tensorflow:AutoGraph could not transform <function <lambda> at 0x7f9a50964830> and will run it as-is.\n",
            "Cause: could not parse the source code of <function <lambda> at 0x7f9a50964830>: no matching AST found\n",
            "To silence this warning, decorate the function with @tf.autograph.experimental.do_not_convert\n"
          ]
        },
        {
          "output_type": "stream",
          "name": "stdout",
          "text": [
            "WARNING: AutoGraph could not transform <function <lambda> at 0x7f9a50964830> and will run it as-is.\n",
            "Cause: could not parse the source code of <function <lambda> at 0x7f9a50964830>: no matching AST found\n",
            "To silence this warning, decorate the function with @tf.autograph.experimental.do_not_convert\n",
            "CPU times: user 1min 42s, sys: 11.1 s, total: 1min 54s\n",
            "Wall time: 1min 19s\n"
          ]
        }
      ]
    },
    {
      "cell_type": "code",
      "metadata": {
        "colab": {
          "base_uri": "https://localhost:8080/"
        },
        "id": "-UNRJfBUR33S",
        "outputId": "52458ebb-053d-4a94-ec8d-adcdd818a855"
      },
      "source": [
        "print(f\"There are {len(vocab)} vocabulary words in the corpus.\")"
      ],
      "execution_count": null,
      "outputs": [
        {
          "output_type": "stream",
          "name": "stdout",
          "text": [
            "There are 95976 vocabulary words in the corpus.\n"
          ]
        }
      ]
    },
    {
      "cell_type": "markdown",
      "metadata": {
        "id": "JO8TP6SnSpk3"
      },
      "source": [
        "There are 95976 vocabulary words in the corpus.\n",
        "\n",
        "The .adapt method sets the layer's vocabulary. Here are the first 20 tokens. After the padding and unknown tokens they're sorted by frequency:"
      ]
    },
    {
      "cell_type": "code",
      "metadata": {
        "colab": {
          "base_uri": "https://localhost:8080/"
        },
        "id": "kt-f3rfTR37f",
        "outputId": "4d07863b-924a-47d4-a3d9-cd87592a311d"
      },
      "source": [
        "vocab[:20]"
      ],
      "execution_count": null,
      "outputs": [
        {
          "output_type": "execute_result",
          "data": {
            "text/plain": [
              "array(['', '[UNK]', 'the', 'a', 'to', 'of', 'in', 'and', 'on', 'for',\n",
              "       'that', '39s', 'with', 'its', 'as', 'at', 'is', 'said', 'by', 'it'],\n",
              "      dtype='<U150')"
            ]
          },
          "metadata": {},
          "execution_count": 89
        }
      ]
    },
    {
      "cell_type": "markdown",
      "metadata": {
        "id": "bknukXA0SjYv"
      },
      "source": [
        "Let us get the total number of words in the corpus and the sizes of the news articles"
      ]
    },
    {
      "cell_type": "code",
      "metadata": {
        "colab": {
          "base_uri": "https://localhost:8080/"
        },
        "id": "WtTQ_xNBR3_4",
        "outputId": "c039252d-fd21-467d-9ef0-119ca932d660"
      },
      "source": [
        "%%time\n",
        "doc_sizes = []\n",
        "corpus = []\n",
        "for example, _ in dataset_all.as_numpy_iterator():\n",
        "  enc_example = encoder(example)\n",
        "  doc_sizes.append(len(enc_example))\n",
        "  corpus+=list(enc_example.numpy())"
      ],
      "execution_count": null,
      "outputs": [
        {
          "output_type": "stream",
          "name": "stdout",
          "text": [
            "CPU times: user 7min 39s, sys: 10.1 s, total: 7min 49s\n",
            "Wall time: 8min 21s\n"
          ]
        }
      ]
    },
    {
      "cell_type": "code",
      "metadata": {
        "colab": {
          "base_uri": "https://localhost:8080/"
        },
        "id": "SVMEor1jSINc",
        "outputId": "9248a83d-e7de-4a0a-d30e-25e7e291c050"
      },
      "source": [
        "print(f\"There are {len(corpus)} words in the corpus of {len(doc_sizes)} news articles.\")\n",
        "print(f\"Each news article has between {min(doc_sizes)} and {max(doc_sizes)} tokens in it.\")"
      ],
      "execution_count": null,
      "outputs": [
        {
          "output_type": "stream",
          "name": "stdout",
          "text": [
            "There are 3909695 words in the corpus of 127600 news articles.\n",
            "Each news article has between 3 and 173 tokens in it.\n"
          ]
        }
      ]
    },
    {
      "cell_type": "code",
      "metadata": {
        "colab": {
          "base_uri": "https://localhost:8080/",
          "height": 551
        },
        "id": "WP2cfFGvSIRq",
        "outputId": "8ff12223-46fa-4d80-8ac5-8ecd88e19ab2"
      },
      "source": [
        "plt.figure(figsize=(15,9))\n",
        "plt.hist(doc_sizes, bins=20,range = (0,120))\n",
        "plt.xlabel(\"Tokens Per Document\")\n",
        "plt.ylabel(\"Number of AG News Articles\");"
      ],
      "execution_count": null,
      "outputs": [
        {
          "output_type": "display_data",
          "data": {
            "image/png": "[encoded data removed]",
            "text/plain": [
              "<Figure size 1080x648 with 1 Axes>"
            ]
          },
          "metadata": {
            "needs_background": "light"
          }
        }
      ]
    },
    {
      "cell_type": "markdown",
      "metadata": {
        "id": "InSIstGlSbWL"
      },
      "source": [
        "Encode the news articles using the top 1000 most common words in the corpus\n",
        "\n"
      ]
    },
    {
      "cell_type": "code",
      "metadata": {
        "colab": {
          "base_uri": "https://localhost:8080/"
        },
        "id": "WYL48XbPSIf9",
        "outputId": "cad95cff-9640-44bd-87f4-07e9fbab0867"
      },
      "source": [
        "%%time\n",
        "encoder_1000 = tf.keras.layers.experimental.preprocessing.TextVectorization(max_tokens=1000)\n",
        "encoder_1000.adapt(dataset_all.map(lambda text, label: text))\n",
        "vocab_1000 = np.array(encoder_1000.get_vocabulary());"
      ],
      "execution_count": null,
      "outputs": [
        {
          "output_type": "stream",
          "name": "stdout",
          "text": [
            "WARNING:tensorflow:AutoGraph could not transform <function <lambda> at 0x7f9a72e8b4d0> and will run it as-is.\n",
            "Cause: could not parse the source code of <function <lambda> at 0x7f9a72e8b4d0>: no matching AST found\n",
            "To silence this warning, decorate the function with @tf.autograph.experimental.do_not_convert\n"
          ]
        },
        {
          "output_type": "stream",
          "name": "stderr",
          "text": [
            "WARNING:tensorflow:AutoGraph could not transform <function <lambda> at 0x7f9a72e8b4d0> and will run it as-is.\n",
            "Cause: could not parse the source code of <function <lambda> at 0x7f9a72e8b4d0>: no matching AST found\n",
            "To silence this warning, decorate the function with @tf.autograph.experimental.do_not_convert\n"
          ]
        },
        {
          "output_type": "stream",
          "name": "stdout",
          "text": [
            "WARNING: AutoGraph could not transform <function <lambda> at 0x7f9a72e8b4d0> and will run it as-is.\n",
            "Cause: could not parse the source code of <function <lambda> at 0x7f9a72e8b4d0>: no matching AST found\n",
            "To silence this warning, decorate the function with @tf.autograph.experimental.do_not_convert\n",
            "CPU times: user 1min 39s, sys: 11.4 s, total: 1min 51s\n",
            "Wall time: 1min 16s\n"
          ]
        }
      ]
    },
    {
      "cell_type": "markdown",
      "metadata": {
        "id": "RLt02DwnVw5g"
      },
      "source": [
        "The .adapt method sets the layer's vocabulary. Here are the first 20 tokens. After the padding and unknown tokens they're sorted by frequency:\n"
      ]
    },
    {
      "cell_type": "code",
      "metadata": {
        "colab": {
          "base_uri": "https://localhost:8080/"
        },
        "id": "bVS2EeafVtyt",
        "outputId": "069c6754-cc7e-4804-caa2-988c22e9c45f"
      },
      "source": [
        "vocab_1000[:20]"
      ],
      "execution_count": null,
      "outputs": [
        {
          "output_type": "execute_result",
          "data": {
            "text/plain": [
              "array(['', '[UNK]', 'the', 'a', 'to', 'of', 'in', 'and', 'on', 'for',\n",
              "       'that', '39s', 'with', 'its', 'as', 'at', 'is', 'said', 'by', 'it'],\n",
              "      dtype='<U14')"
            ]
          },
          "metadata": {},
          "execution_count": 34
        }
      ]
    },
    {
      "cell_type": "markdown",
      "metadata": {
        "id": "0rWk826zV12y"
      },
      "source": [
        "\n",
        "In particular, 0 is use for padding, 1 for the unknown words, 2 for the common word, i.e. 'the', etc. Let us look at the same example we encoded previously using the encoder for all the vocabulary words. Note that there are now five 1's denoting words that are not in the top 1000 in frequency.\n",
        "\n",
        "We encode the same example as before using the new encoder. Note that there are now 5 out of vocabulary words."
      ]
    },
    {
      "cell_type": "code",
      "metadata": {
        "colab": {
          "base_uri": "https://localhost:8080/"
        },
        "id": "nkdtWEujVt5B",
        "outputId": "4e135987-8741-4ce0-cf2e-90cf78ba8af4"
      },
      "source": [
        "example = \"the dog ran after a red ball as it rolled by the hat on the ground.\"\n",
        "encoder_1000(example)"
      ],
      "execution_count": null,
      "outputs": [
        {
          "output_type": "execute_result",
          "data": {
            "text/plain": [
              "<tf.Tensor: shape=(16,), dtype=int64, numpy=\n",
              "array([  2,   1,   1,  29,   3, 232,   1,  14,  19,   1,  18,   2,   1,\n",
              "         8,   2, 999])>"
            ]
          },
          "metadata": {},
          "execution_count": 35
        }
      ]
    },
    {
      "cell_type": "code",
      "metadata": {
        "colab": {
          "base_uri": "https://localhost:8080/"
        },
        "id": "ea24T0heVt-W",
        "outputId": "9a842a4f-83d1-43d0-df8d-1c62f0124e5e"
      },
      "source": [
        "for word in example.split():\n",
        "  print(f'\"{word}\" is {\"*not* \" if word not in vocab_1000  else \"\"}in the vocabulary.')"
      ],
      "execution_count": null,
      "outputs": [
        {
          "output_type": "stream",
          "name": "stdout",
          "text": [
            "\"the\" is in the vocabulary.\n",
            "\"dog\" is *not* in the vocabulary.\n",
            "\"ran\" is *not* in the vocabulary.\n",
            "\"after\" is in the vocabulary.\n",
            "\"a\" is in the vocabulary.\n",
            "\"red\" is in the vocabulary.\n",
            "\"ball\" is *not* in the vocabulary.\n",
            "\"as\" is in the vocabulary.\n",
            "\"it\" is in the vocabulary.\n",
            "\"rolled\" is *not* in the vocabulary.\n",
            "\"by\" is in the vocabulary.\n",
            "\"the\" is in the vocabulary.\n",
            "\"hat\" is *not* in the vocabulary.\n",
            "\"on\" is in the vocabulary.\n",
            "\"the\" is in the vocabulary.\n",
            "\"ground.\" is *not* in the vocabulary.\n"
          ]
        }
      ]
    },
    {
      "cell_type": "markdown",
      "metadata": {
        "id": "AmizTJvxV-Ig"
      },
      "source": [
        "We want to determine the number of non-vocabulary words in each news articles (denoted by 1s in the encoding)\n"
      ]
    },
    {
      "cell_type": "code",
      "metadata": {
        "colab": {
          "base_uri": "https://localhost:8080/"
        },
        "id": "aW2QOPpsVuHG",
        "outputId": "3191049a-ff62-4f85-97c4-3a5d9886a47b"
      },
      "source": [
        "%%time\n",
        "doc1000_sizes = []\n",
        "corpus1000 = []\n",
        "count1000=0\n",
        "useless = 0\n",
        "# stop = 0\n",
        "percents = []\n",
        "for example, _ in dataset_all.as_numpy_iterator():\n",
        "  # stop+=1\n",
        "  # if stop > 5: break\n",
        "  enc_example = encoder_1000(example)\n",
        "  num_ones = tf.math.count_nonzero(enc_example==1).numpy()\n",
        "  percent_ones = round(num_ones*100/len(enc_example))\n",
        "  # print(f\"{percent_ones}%\")\n",
        "  percents.append(percent_ones)\n",
        "\n",
        "  s = set(list(enc_example.numpy()))\n",
        "  if s == {1}: useless+=1\n",
        "\n",
        "  doc1000_sizes.append(len(enc_example))\n",
        "  corpus1000+=list(enc_example.numpy())\n",
        "\n",
        "  count1000 += tf.math.count_nonzero(enc_example>1)"
      ],
      "execution_count": null,
      "outputs": [
        {
          "output_type": "stream",
          "name": "stdout",
          "text": [
            "CPU times: user 8min 2s, sys: 8.3 s, total: 8min 10s\n",
            "Wall time: 8min 21s\n"
          ]
        }
      ]
    },
    {
      "cell_type": "code",
      "metadata": {
        "colab": {
          "base_uri": "https://localhost:8080/"
        },
        "id": "GjvxnZC0WKHP",
        "outputId": "5889257a-927c-4dad-af3b-d9d0e346ead0"
      },
      "source": [
        "print(f\"Each news article has between {min(doc1000_sizes)} and {max(doc1000_sizes)} tokens in it.\")"
      ],
      "execution_count": null,
      "outputs": [
        {
          "output_type": "stream",
          "name": "stdout",
          "text": [
            "Each news article has between 3 and 173 tokens in it.\n"
          ]
        }
      ]
    },
    {
      "cell_type": "code",
      "metadata": {
        "colab": {
          "base_uri": "https://localhost:8080/"
        },
        "id": "9yQ1WpNdWKQb",
        "outputId": "3b9349c2-59e4-45b8-b7a7-cca08e250d85"
      },
      "source": [
        "Counter(percents).most_common(10)\n",
        "np.unique(percents, return_counts=True)"
      ],
      "execution_count": null,
      "outputs": [
        {
          "output_type": "execute_result",
          "data": {
            "text/plain": [
              "(array([  0,   3,   4,   5,   6,   7,   8,   9,  10,  11,  12,  13,  14,\n",
              "         15,  16,  17,  18,  19,  20,  21,  22,  23,  24,  25,  26,  27,\n",
              "         28,  29,  30,  31,  32,  33,  34,  35,  36,  37,  38,  39,  40,\n",
              "         41,  42,  43,  44,  45,  46,  47,  48,  49,  50,  51,  52,  53,\n",
              "         54,  55,  56,  57,  58,  59,  60,  61,  62,  63,  64,  65,  66,\n",
              "         67,  68,  69,  70,  71,  72,  73,  74,  75,  76,  77,  78,  79,\n",
              "         80,  81,  82,  83,  84,  85,  86,  87,  88,  89,  90,  91,  92,\n",
              "         93,  95,  97, 100]),\n",
              " array([  12,    5,   20,   29,   49,   71,  120,  137,  172,  274,  486,\n",
              "         368,  682,  777,  828, 1346, 1376, 2123, 1610, 2863, 2687, 3018,\n",
              "        3957, 3315, 4605, 3934, 4148, 5737, 4954, 5072, 6123, 6165, 3255,\n",
              "        5095, 4596, 3438, 5880, 4205, 3109, 4063, 3555, 3030, 2904, 2294,\n",
              "        1967, 1716, 2174,  368, 2486,  234, 1246,  747,  573,  547,  520,\n",
              "         441,  348,  217,  250,  135,  234,   49,  131,  101,   11,  135,\n",
              "          40,   62,   33,   53,    8,   34,   10,   55,   10,    8,   15,\n",
              "           3,   27,    9,    5,   19,    1,    8,   12,    6,   16,   11,\n",
              "           5,    4,    2,    3,    1,    1,   22]))"
            ]
          },
          "metadata": {},
          "execution_count": 28
        }
      ]
    },
    {
      "cell_type": "code",
      "metadata": {
        "colab": {
          "base_uri": "https://localhost:8080/",
          "height": 551
        },
        "id": "He-tTcGqWKZI",
        "outputId": "ee1723ca-ad8b-400f-e345-968ee4ba7dd2"
      },
      "source": [
        "plt.figure(figsize=(15,9))\n",
        "plt.hist(percents, 20)\n",
        "plt.ylabel('Number of Documents')\n",
        "plt.xlabel('Percent of Non-Vocabulary Words in a Document');"
      ],
      "execution_count": null,
      "outputs": [
        {
          "output_type": "display_data",
          "data": {
            "image/png": "[encoded data removed]",
            "text/plain": [
              "<Figure size 1080x648 with 1 Axes>"
            ]
          },
          "metadata": {
            "needs_background": "light"
          }
        }
      ]
    },
    {
      "cell_type": "code",
      "metadata": {
        "colab": {
          "base_uri": "https://localhost:8080/"
        },
        "id": "Ud8RvGvgWVDy",
        "outputId": "3f7209f7-0711-4182-aaa4-136952890bac"
      },
      "source": [
        "print(f\"There are {count1000} top {len(vocab_1000)} vocabulary words in the corpus.\")"
      ],
      "execution_count": null,
      "outputs": [
        {
          "output_type": "stream",
          "name": "stdout",
          "text": [
            "There are 2602670 top 1000 vocabulary words in the corpus.\n"
          ]
        }
      ]
    },
    {
      "cell_type": "markdown",
      "metadata": {
        "id": "IejUk55TW0nT"
      },
      "source": [
        "**Preprocessing Data Create Input Pipeline**\n"
      ]
    },
    {
      "cell_type": "code",
      "metadata": {
        "colab": {
          "base_uri": "https://localhost:8080/"
        },
        "id": "H2BFdZ0SWVIu",
        "outputId": "b1c5bc22-2026-49f4-acd9-99f2ef09d1f3"
      },
      "source": [
        "# register  ag_news_subset so that tfds.load doesn't generate a checksum (mismatch) error\n",
        "!python -m tensorflow_datasets.scripts.download_and_prepare --register_checksums --datasets=ag_news_subset\n",
        "\n",
        "# Example Approaches to Split Data Set\n",
        "# dataset, info = tfds.load('ag_news_subset', with_info=True,  split=['train[:]','test[:1000]', 'test[1000:]'],\n",
        "dataset, info = tfds.load('ag_news_subset', with_info=True,  split=['train[:95%]','train[95%:]', 'test[:]'],\n",
        "# dataset, info = tfds.load('ag_news_subset', with_info=True,  split=['train[:114000]','train[114000:]', 'test[:]'],\n",
        "                          as_supervised=True)\n",
        "train_dataset, validation_dataset, test_dataset = dataset\n",
        "# train_dataset, test_dataset = dataset['train'],dataset['test']"
      ],
      "execution_count": null,
      "outputs": [
        {
          "output_type": "stream",
          "name": "stdout",
          "text": [
            "2021-10-30 17:00:13.115082: E tensorflow/stream_executor/cuda/cuda_driver.cc:271] failed call to cuInit: CUDA_ERROR_NO_DEVICE: no CUDA-capable device is detected\n",
            "2021-10-30 17:00:13.115137: I tensorflow/stream_executor/cuda/cuda_diagnostics.cc:156] kernel driver does not appear to be running on this host (29c936c21721): /proc/driver/nvidia/version does not exist\n",
            "I1030 17:00:13.115353 140550294378368 download_and_prepare.py:200] Running download_and_prepare for dataset(s):\n",
            "ag_news_subset\n",
            "I1030 17:00:13.116254 140550294378368 dataset_info.py:361] Load dataset info from /root/tensorflow_datasets/ag_news_subset/1.0.0\n",
            "I1030 17:00:13.117807 140550294378368 download_and_prepare.py:138] download_and_prepare for dataset ag_news_subset/1.0.0...\n",
            "I1030 17:00:13.118046 140550294378368 dataset_builder.py:299] Reusing dataset ag_news_subset (/root/tensorflow_datasets/ag_news_subset/1.0.0)\n",
            "\u001b[1mname: \"ag_news_subset\"\n",
            "description: \"AG is a collection of more than 1 million news articles.\\nNews articles have been gathered from more than 2000  news sources by ComeToMyHead in more than 1 year of activity.\\nComeToMyHead is an academic news search engine which has been running since July, 2004.\\nThe dataset is provided by the academic comunity for research purposes in data mining (clustering, classification, etc),\\ninformation retrieval (ranking, search, etc), xml, data compression, data streaming,\\nand any other non-commercial activity.\\nFor more information, please refer to the link http://www.di.unipi.it/~gulli/AG_corpus_of_news_articles.html .\\n\\nThe AG\\'s news topic classification dataset is constructed by Xiang Zhang (xiang.zhang@nyu.edu) from the dataset above.\\nIt is used as a text classification benchmark in the following paper:\\nXiang Zhang, Junbo Zhao, Yann LeCun. Character-level Convolutional Networks for Text Classification. Advances in Neural Information Processing Systems 28 (NIPS 2015).\\n\\nThe AG\\'s news topic classification dataset is constructed by choosing 4 largest classes from the original corpus.\\nEach class contains 30,000 training samples and 1,900 testing samples.\\nThe total number of training samples is 120,000 and testing 7,600.\"\n",
            "citation: \"@misc{zhang2015characterlevel,\\n    title={Character-level Convolutional Networks for Text Classification},\\n    author={Xiang Zhang and Junbo Zhao and Yann LeCun},\\n    year={2015},\\n    eprint={1509.01626},\\n    archivePrefix={arXiv},\\n    primaryClass={cs.LG}\\n}\"\n",
            "location {\n",
            "  urls: \"https://arxiv.org/abs/1509.01626\"\n",
            "}\n",
            "splits {\n",
            "  name: \"test\"\n",
            "  shard_lengths: 7600\n",
            "  num_bytes: 2226751\n",
            "}\n",
            "splits {\n",
            "  name: \"train\"\n",
            "  shard_lengths: 120000\n",
            "  num_bytes: 35301386\n",
            "}\n",
            "supervised_keys {\n",
            "  input: \"description\"\n",
            "  output: \"label\"\n",
            "}\n",
            "version: \"1.0.0\"\n",
            "download_size: 11784327\n",
            "\u001b[0m\n"
          ]
        }
      ]
    },
    {
      "cell_type": "code",
      "metadata": {
        "id": "d8cUvTi6WVNN"
      },
      "source": [
        "####  Dataset Splits (Training, Test, Validation)\n",
        "#### .8934 Training, .0470 Test, .0596 Validation"
      ],
      "execution_count": null,
      "outputs": []
    },
    {
      "cell_type": "code",
      "metadata": {
        "colab": {
          "base_uri": "https://localhost:8080/"
        },
        "id": "5YVES5iQWVSQ",
        "outputId": "6e9fce3b-40f9-462a-a31a-5ebdfe9b7dc1"
      },
      "source": [
        "len(train_dataset),len(validation_dataset),len(test_dataset) \n",
        "# len(train_dataset),len(test_dataset)"
      ],
      "execution_count": null,
      "outputs": [
        {
          "output_type": "execute_result",
          "data": {
            "text/plain": [
              "(114000, 6000, 7600)"
            ]
          },
          "metadata": {},
          "execution_count": 15
        }
      ]
    },
    {
      "cell_type": "markdown",
      "metadata": {
        "id": "tVpNTAXbXJiZ"
      },
      "source": [
        "**Review Distribution of Categorical Labels for the 114000 training data (news articles)**\n"
      ]
    },
    {
      "cell_type": "code",
      "metadata": {
        "colab": {
          "base_uri": "https://localhost:8080/"
        },
        "id": "CPsZUeOjWVWo",
        "outputId": "d20bd1a5-0a9d-4a03-bf98-12ac56925601"
      },
      "source": [
        "from collections import Counter\n",
        "train_categories = [categories[label] for label in train_dataset.map(lambda text, label: label).as_numpy_iterator()]\n",
        "Counter(train_categories).most_common()"
      ],
      "execution_count": null,
      "outputs": [
        {
          "output_type": "execute_result",
          "data": {
            "text/plain": [
              "[('Business', 28531), ('Sports', 28495), ('World', 28491), ('Sci/Tech', 28483)]"
            ]
          },
          "metadata": {},
          "execution_count": 16
        }
      ]
    },
    {
      "cell_type": "markdown",
      "metadata": {
        "id": "5agiNtkGXd0R"
      },
      "source": [
        "Review Example with Interger Label(text, label pairs):\n",
        "\n",
        "Review Example with Interger Label Encoded Classification(text, label pairs):"
      ]
    },
    {
      "cell_type": "code",
      "metadata": {
        "colab": {
          "base_uri": "https://localhost:8080/"
        },
        "id": "3Ox_UTjpWVa5",
        "outputId": "8ae4fe78-ab6a-4999-af6e-07b09494fea5"
      },
      "source": [
        "for example, label in train_dataset.take(1):\n",
        "  print('text: ', example.numpy())\n",
        "  print('class: ', categories[label.numpy()])"
      ],
      "execution_count": null,
      "outputs": [
        {
          "output_type": "stream",
          "name": "stdout",
          "text": [
            "text:  b'AMD #39;s new dual-core Opteron chip is designed mainly for corporate computing applications, including databases, Web services, and financial transactions.'\n",
            "class:  Sci/Tech\n"
          ]
        }
      ]
    },
    {
      "cell_type": "markdown",
      "metadata": {
        "id": "k7lL-5JWXgr5"
      },
      "source": [
        "**Preprocessing Shuffle Data for Training and Create Batches of (text, label) pairs:**\n"
      ]
    },
    {
      "cell_type": "code",
      "metadata": {
        "id": "2CAyTPR0XkcV"
      },
      "source": [
        "BUFFER_SIZE = 10000\n",
        "BATCH_SIZE = 64"
      ],
      "execution_count": null,
      "outputs": []
    },
    {
      "cell_type": "code",
      "metadata": {
        "id": "JtnxiulqXkfv"
      },
      "source": [
        "train_dataset = train_dataset.shuffle(BUFFER_SIZE).batch(BATCH_SIZE).prefetch(tf.data.experimental.AUTOTUNE)\n",
        "validation_dataset = validation_dataset.shuffle(BUFFER_SIZE).batch(BATCH_SIZE).prefetch(tf.data.experimental.AUTOTUNE)\n",
        "test_dataset = test_dataset.batch(BATCH_SIZE).prefetch(tf.data.experimental.AUTOTUNE)"
      ],
      "execution_count": null,
      "outputs": []
    },
    {
      "cell_type": "code",
      "metadata": {
        "colab": {
          "base_uri": "https://localhost:8080/"
        },
        "id": "uDOcqvc-XkjY",
        "outputId": "e17fa840-0bdb-40d8-cdc7-47167f74f4f7"
      },
      "source": [
        "for example, label in train_dataset.take(2):\n",
        "  print('texts: ', example.numpy()[:3])\n",
        "  print()\n",
        "  print('labels: ', label.numpy()[:3])"
      ],
      "execution_count": null,
      "outputs": [
        {
          "output_type": "stream",
          "name": "stdout",
          "text": [
            "texts:  [b'BIRMINGHAM, Ala. Wachovia Corporation says it will build a 400 (M) million dollar data center off Lakeshore Parkway in Birmingham.'\n",
            " b'DECEMBER 08, 2004 (COMPUTERWORLD) - Some 40,000 computers in the UK #39;s Department for Work and Pensions (DWP) were unable to access their network last month when an IT technician erroneously installed a software upgrade.'\n",
            " b'It was quite simply the performance of the year for the Americans. In a perfect storm of what could go right for the US mens national team, Panama ']\n",
            "\n",
            "labels:  [2 3 1]\n",
            "texts:  [b'Using video cameras to record films in movie theaters would become a federal crime punishable by up to six years in prison under a bill passed yesterday by the House.'\n",
            " b'NASA is preparing to launch a nimble spacecraft to detect the most violent explosions in the cosmos and study their afterglow for hints of their origin.'\n",
            " b'LOS ANGELES -- Southern California seemed helpless as Aaron Rodgers picked away at its defense, hitting pass after pass.']\n",
            "\n",
            "labels:  [2 3 1]\n"
          ]
        }
      ]
    },
    {
      "cell_type": "code",
      "metadata": {
        "colab": {
          "base_uri": "https://localhost:8080/"
        },
        "id": "sxIMmgW3YzjA",
        "outputId": "4d2c2d92-ff3e-42c9-8b41-567ba7500a57"
      },
      "source": [
        "for example, label in train_dataset.take(2):\n",
        "  print('texts: ', example.numpy()[:3])\n",
        "  print()\n",
        "  print('labels: ', [categories[n] for n in label.numpy()[:3]])\n",
        "  print()"
      ],
      "execution_count": null,
      "outputs": [
        {
          "output_type": "stream",
          "name": "stdout",
          "text": [
            "texts:  [b\"AP - Political parties are the public institutions most marred by corruption, an international watchdog group said Thursday in a new global survey marking the United Nations' first International Anti-Corruption Day.\"\n",
            " b\"AFP - It's never too late to start a new career, even if you're 96 years old -- and the new job is modelling cosmetics.\"\n",
            " b'Conflict seems to have become a way of life for Sudan that has struggled to find peace and stability since its independence in 1956.']\n",
            "\n",
            "labels:  ['World', 'World', 'World']\n",
            "\n",
            "texts:  [b'The Countryside Alliance prepares a legal challenge to the Parliament Act - used to force the hunt ban into law.'\n",
            " b'MELBOURNE (Dow Jones)--Stepping up its takeover defense from predator New Zealand Fonterra Cooperative Group Ltd. (FCO.YY), Australian dairy target National Foods Ltd.'\n",
            " b'Mahdi Army emerging as well-organized parallel government']\n",
            "\n",
            "labels:  ['World', 'Business', 'World']\n",
            "\n"
          ]
        }
      ]
    },
    {
      "cell_type": "markdown",
      "metadata": {
        "id": "R1YVk7pfY8Ck"
      },
      "source": [
        "**Create the Text Encoder**\n",
        "\n",
        "The raw text loaded by tfds needs to be processed before it can be used in a model. The simplest way to process text for training is using the experimental.preprocessing.TextVectorization layer. This layer has many capabilities, but this tutorial sticks to the default behavior.\n",
        "\n",
        "Create the layer, and pass the dataset's text to the layer's .adapt method: The processing of each sample contains the following steps:\n",
        "\n",
        "standardize each sample (usually lowercasing + punctuation stripping)\n",
        "split each sample into substrings (usually words)\n",
        "recombine substrings into tokens (usually ngrams)\n",
        "index tokens (associate a unique int value with each token)\n",
        "transform each sample using this index, either into a vector of ints or a dense float vector.\n",
        "The .adapt method sets the layer's vocabulary. Here are the first 20 tokens. After the padding and unknown tokens they're sorted by frequency:"
      ]
    },
    {
      "cell_type": "code",
      "metadata": {
        "id": "JUel99DgYzm3"
      },
      "source": [
        "VOCAB_SIZE=1000\n",
        "encoder = tf.keras.layers.experimental.preprocessing.TextVectorization(\n",
        "    max_tokens=VOCAB_SIZE)\n",
        "encoder.adapt(train_dataset.map(lambda text, label: text))"
      ],
      "execution_count": null,
      "outputs": []
    },
    {
      "cell_type": "code",
      "metadata": {
        "colab": {
          "base_uri": "https://localhost:8080/"
        },
        "id": "n4Z_Kf_bYzsu",
        "outputId": "5eedc07c-ffbd-45da-93d5-a2b5fbb9ab89"
      },
      "source": [
        "vocab = np.array(encoder.get_vocabulary())\n",
        "len(vocab)"
      ],
      "execution_count": null,
      "outputs": [
        {
          "output_type": "execute_result",
          "data": {
            "text/plain": [
              "1000"
            ]
          },
          "metadata": {},
          "execution_count": 41
        }
      ]
    },
    {
      "cell_type": "code",
      "metadata": {
        "colab": {
          "base_uri": "https://localhost:8080/"
        },
        "id": "ihO64lNWYzyj",
        "outputId": "cf28fd72-58d8-413f-95cb-089bb273d106"
      },
      "source": [
        "vocab = np.array(encoder.get_vocabulary())\n",
        "vocab[:20]"
      ],
      "execution_count": null,
      "outputs": [
        {
          "output_type": "execute_result",
          "data": {
            "text/plain": [
              "array(['', '[UNK]', 'the', 'a', 'to', 'of', 'in', 'and', 'on', 'for',\n",
              "       'that', '39s', 'with', 'its', 'as', 'at', 'is', 'said', 'by', 'it'],\n",
              "      dtype='<U14')"
            ]
          },
          "metadata": {},
          "execution_count": 42
        }
      ]
    },
    {
      "cell_type": "code",
      "metadata": {
        "colab": {
          "base_uri": "https://localhost:8080/"
        },
        "id": "sIKZs8x7ZIVy",
        "outputId": "0b3b1921-8d6a-4c18-c5fa-5b0a2ee0bdd7"
      },
      "source": [
        "vocab[-20:]"
      ],
      "execution_count": null,
      "outputs": [
        {
          "output_type": "execute_result",
          "data": {
            "text/plain": [
              "array(['black', 'turn', 'build', 'countrys', 'advanced', 'whose',\n",
              "       'crisis', 'create', '23', 'sources', 'body', 'militant', 'hope',\n",
              "       'event', 'started', 'ready', 'jones', 'lawsuit', 'focus',\n",
              "       'singapore'], dtype='<U14')"
            ]
          },
          "metadata": {},
          "execution_count": 43
        }
      ]
    },
    {
      "cell_type": "code",
      "metadata": {
        "colab": {
          "base_uri": "https://localhost:8080/"
        },
        "id": "-HRDO2I6ZIdQ",
        "outputId": "1f77f172-cfec-4ba4-cdcb-0600f8325632"
      },
      "source": [
        "encoded_example = encoder(example)[:3].numpy()\n",
        "encoded_example"
      ],
      "execution_count": null,
      "outputs": [
        {
          "output_type": "execute_result",
          "data": {
            "text/plain": [
              "array([[883,   1,   1,   1,   1,   8,  44,  10,  36,  74,  31,   1,   3,\n",
              "          1,   1,   1, 228,  83, 146,   4,  40,  16, 176,   2,   1,   1,\n",
              "          1,  17, 239, 548, 321,   1,   1,   4, 883,   0,   0,   0,   0,\n",
              "          0,   0,   0,   0,   0,   0,   0,   0,   0,   0],\n",
              "       [  1, 216, 749, 590,   4,   1,  32,   1,  42,  14,  38, 284,   1,\n",
              "        927,   1,   1,   1, 106, 384,  12,   3,   1,   1,   0,   0,   0,\n",
              "          0,   0,   0,   0,   0,   0,   0,   0,   0,   0,   0,   0,   0,\n",
              "          0,   0,   0,   0,   0,   0,   0,   0,   0,   0],\n",
              "       [ 35, 423,  66,   1,   1,  17,  44,  24, 167,  16,   1,   1,   4,\n",
              "        510, 280,   6,  22, 105, 419,   8,  93,  95, 175,   0,   0,   0,\n",
              "          0,   0,   0,   0,   0,   0,   0,   0,   0,   0,   0,   0,   0,\n",
              "          0,   0,   0,   0,   0,   0,   0,   0,   0,   0]])"
            ]
          },
          "metadata": {},
          "execution_count": 44
        }
      ]
    },
    {
      "cell_type": "markdown",
      "metadata": {
        "id": "SzE0nvagZbjG"
      },
      "source": [
        "With the default settings, the process is not completely reversible. There are three main reasons for that:\n",
        "\n",
        "1. The default value for preprocessing.TextVectorization's standardize argument is \"lower_and_strip_punctuation\".\n",
        "2. The limited vocabulary size and lack of character-based fallback results in some unknown tokens."
      ]
    },
    {
      "cell_type": "code",
      "metadata": {
        "colab": {
          "base_uri": "https://localhost:8080/"
        },
        "id": "-baO_cqEZdjO",
        "outputId": "257378de-d73b-4cd0-ae2b-5b125246dc1f"
      },
      "source": [
        "for n in range(3):\n",
        "  print(\"Original: \", example[n].numpy())\n",
        "  print(\"Round-trip: \", \" \".join(vocab[encoded_example[n]]))\n",
        "  print()"
      ],
      "execution_count": null,
      "outputs": [
        {
          "output_type": "stream",
          "name": "stdout",
          "text": [
            "Original:  b'Arsenal boss Arsene Wenger intimated on Tuesday that he would be signing a contact extension  quot;within days quot;. According to This is London, the Frenchman,said:  quot;I #39;ve said many times I am committed to Arsenal '\n",
            "Round-trip:  arsenal [UNK] [UNK] [UNK] [UNK] on tuesday that he would be [UNK] a [UNK] [UNK] [UNK] days quot according to this is london the [UNK] [UNK] [UNK] said many times i [UNK] [UNK] to arsenal              \n",
            "\n",
            "Original:  b'Entertainment industry executives got to strut their stuff Monday as two big traditional winter investor conferences kicked off here with a star-studded lineup.'\n",
            "Round-trip:  [UNK] industry executives got to [UNK] their [UNK] monday as two big [UNK] winter [UNK] [UNK] [UNK] off here with a [UNK] [UNK]                          \n",
            "\n",
            "Original:  b'AP - French President Jacques Chirac said Tuesday his country is \"entirely committed\" to taking part in an international conference on Iraq next month.'\n",
            "Round-trip:  ap french president [UNK] [UNK] said tuesday his country is [UNK] [UNK] to taking part in an international conference on iraq next month                          \n",
            "\n"
          ]
        }
      ]
    },
    {
      "cell_type": "markdown",
      "metadata": {
        "id": "GEF8dxWcZlC0"
      },
      "source": [
        "**Create the model**\n",
        "\n",
        "A drawing of the information flow in the model\n",
        "\n",
        "Above is a diagram of the model.\n",
        "\n",
        "This model can be build as a tf.keras.Sequential.\n",
        "\n",
        "The first layer is the encoder, which converts the text to a sequence of token indices.\n",
        "\n",
        "After the encoder is an embedding layer. An embedding layer stores one vector per word. When called, it converts the sequences of word indices to sequences of vectors. These vectors are trainable. After training (on enough data), words with similar meanings often have similar vectors.\n",
        "\n",
        "This index-lookup is much more efficient than the equivalent operation of passing a one-hot encoded vector through a tf.keras.layers.Dense layer.\n",
        "\n",
        "A recurrent neural network (RNN) processes sequence input by iterating through the elements. RNNs pass the outputs from one timestep to their input on the next timestep.\n",
        "\n",
        "The tf.keras.layers.Bidirectional wrapper can also be used with an RNN layer. This propagates the input forward and backwards through the RNN layer and then concatenates the final output.\n",
        "\n",
        "The main advantage to a bidirectional RNN is that the signal from the beginning of the input doesn't need to be processed all the way through every timestep to affect the output.\n",
        "\n",
        "The main disadvantage of a bidirectional RNN is that you can't efficiently stream predictions as words are being added to the end.\n",
        "\n",
        "After the RNN has converted the sequence to a single vector the two layers.Dense do some final processing, and convert from this vector representation to a single logit as the classification output.\n",
        "\n"
      ]
    },
    {
      "cell_type": "code",
      "metadata": {
        "id": "IWpDJTBaZdm8"
      },
      "source": [
        "num_classes = 4\n",
        "model = tf.keras.Sequential([\n",
        "                              encoder\n",
        "                              ,tf.keras.layers.Embedding(input_dim=len(encoder.get_vocabulary())\n",
        "                              ,output_dim=64\n",
        "                                # Use masking to handle the variable sequence lengths\n",
        "                              ,mask_zero=True)\n",
        "                              ,tf.keras.layers.Bidirectional(tf.keras.layers.LSTM(64))\n",
        "                              ,tf.keras.layers.Dense(64, activation='relu')\n",
        "                              ,tf.keras.layers.Dense(num_classes,activation='softmax')   # num_classes = 4\n",
        "])"
      ],
      "execution_count": null,
      "outputs": []
    },
    {
      "cell_type": "markdown",
      "metadata": {
        "id": "P6JqUQWrZzNl"
      },
      "source": [
        "**Compile Model**"
      ]
    },
    {
      "cell_type": "code",
      "metadata": {
        "id": "8VAwAuQrZdqY"
      },
      "source": [
        "model.compile(optimizer=tf.keras.optimizers.Adam(1e-4)\n",
        "              ,loss=tf.keras.losses.SparseCategoricalCrossentropy() # if we set from_logits=True we don not have specify a softmax activation function in the last layer\n",
        "              ,metrics=['accuracy'])"
      ],
      "execution_count": null,
      "outputs": []
    },
    {
      "cell_type": "markdown",
      "metadata": {
        "id": "payrYDxoZ43Q"
      },
      "source": [
        "Please note that Keras sequential model is used here since all the layers in the model only have single input and produce single output. In case you want to use stateful RNN layer, you might want to build your model with Keras functional API or model subclassing so that you can retrieve and reuse the RNN layer states. Please check Keras RNN guide for more details.\n",
        "\n",
        "The embedding layer uses masking to handle the varying sequence-lengths. All the layers after the Embedding support masking:"
      ]
    },
    {
      "cell_type": "code",
      "metadata": {
        "colab": {
          "base_uri": "https://localhost:8080/"
        },
        "id": "qS2kta7iZdt9",
        "outputId": "1fea6f38-6d97-4a13-9d71-7aa10dd18ed9"
      },
      "source": [
        "print([layer.supports_masking for layer in model.layers])"
      ],
      "execution_count": null,
      "outputs": [
        {
          "output_type": "stream",
          "name": "stdout",
          "text": [
            "[False, True, True, True, True]\n"
          ]
        }
      ]
    },
    {
      "cell_type": "markdown",
      "metadata": {
        "id": "Xii8W14Oa0hb"
      },
      "source": [
        "**Train the model**"
      ]
    },
    {
      "cell_type": "code",
      "metadata": {
        "colab": {
          "base_uri": "https://localhost:8080/"
        },
        "id": "R1gzb5Z6Zdw9",
        "outputId": "5e406194-34e7-4339-9211-809e3f51d7ec"
      },
      "source": [
        "history = model.fit(train_dataset\n",
        "                    ,epochs = 200\n",
        "                    ,validation_data=validation_dataset\n",
        "                    ,callbacks=[tf.keras.callbacks.EarlyStopping(monitor='val_accuracy', patience=2)]\n",
        "                    )"
      ],
      "execution_count": null,
      "outputs": [
        {
          "output_type": "stream",
          "name": "stdout",
          "text": [
            "Epoch 1/200\n",
            "1782/1782 [==============================] - 233s 127ms/step - loss: 0.7126 - accuracy: 0.7334 - val_loss: 0.4945 - val_accuracy: 0.8342\n",
            "Epoch 2/200\n",
            "1782/1782 [==============================] - 225s 126ms/step - loss: 0.4663 - accuracy: 0.8328 - val_loss: 0.4566 - val_accuracy: 0.8393\n",
            "Epoch 3/200\n",
            "1782/1782 [==============================] - 224s 126ms/step - loss: 0.4427 - accuracy: 0.8401 - val_loss: 0.4411 - val_accuracy: 0.8458\n",
            "Epoch 4/200\n",
            "1782/1782 [==============================] - 225s 126ms/step - loss: 0.4266 - accuracy: 0.8460 - val_loss: 0.4284 - val_accuracy: 0.8460\n",
            "Epoch 5/200\n",
            "1782/1782 [==============================] - 224s 126ms/step - loss: 0.4086 - accuracy: 0.8523 - val_loss: 0.4051 - val_accuracy: 0.8565\n",
            "Epoch 6/200\n",
            "1782/1782 [==============================] - 224s 125ms/step - loss: 0.3949 - accuracy: 0.8577 - val_loss: 0.3933 - val_accuracy: 0.8565\n",
            "Epoch 7/200\n",
            "1782/1782 [==============================] - 225s 126ms/step - loss: 0.3855 - accuracy: 0.8601 - val_loss: 0.3846 - val_accuracy: 0.8620\n",
            "Epoch 8/200\n",
            "1782/1782 [==============================] - 224s 126ms/step - loss: 0.3795 - accuracy: 0.8622 - val_loss: 0.3880 - val_accuracy: 0.8607\n",
            "Epoch 9/200\n",
            "1782/1782 [==============================] - 224s 126ms/step - loss: 0.3749 - accuracy: 0.8636 - val_loss: 0.3834 - val_accuracy: 0.8622\n",
            "Epoch 10/200\n",
            "1782/1782 [==============================] - 223s 125ms/step - loss: 0.3712 - accuracy: 0.8650 - val_loss: 0.3840 - val_accuracy: 0.8635\n",
            "Epoch 11/200\n",
            "1782/1782 [==============================] - 224s 126ms/step - loss: 0.3674 - accuracy: 0.8661 - val_loss: 0.3783 - val_accuracy: 0.8665\n",
            "Epoch 12/200\n",
            "1782/1782 [==============================] - 223s 125ms/step - loss: 0.3645 - accuracy: 0.8668 - val_loss: 0.3704 - val_accuracy: 0.8665\n",
            "Epoch 13/200\n",
            "1782/1782 [==============================] - 225s 126ms/step - loss: 0.3613 - accuracy: 0.8678 - val_loss: 0.3718 - val_accuracy: 0.8648\n"
          ]
        }
      ]
    },
    {
      "cell_type": "code",
      "metadata": {
        "colab": {
          "base_uri": "https://localhost:8080/"
        },
        "id": "HGZbi_6vZd1X",
        "outputId": "c53af215-6650-4c41-ddf0-4f03715090b3"
      },
      "source": [
        "test_loss, test_acc = model.evaluate(test_dataset)\n",
        "\n",
        "print('Test Loss: {}'.format(test_loss))\n",
        "print('Test Accuracy: {}'.format(test_acc))"
      ],
      "execution_count": null,
      "outputs": [
        {
          "output_type": "stream",
          "name": "stdout",
          "text": [
            "119/119 [==============================] - 4s 37ms/step - loss: 0.3932 - accuracy: 0.8570\n",
            "Test Loss: 0.3932257294654846\n",
            "Test Accuracy: 0.8569737076759338\n"
          ]
        }
      ]
    },
    {
      "cell_type": "markdown",
      "metadata": {
        "id": "I66ycaVIa9MT"
      },
      "source": [
        "**Plotting Performance Metrics - Single Layer Bidirectional RNN**\n",
        "\n",
        "We use Matplotlib to create 2 plots--displaying the training and validation loss (resp. accuracy) for each (training) epoch side by side."
      ]
    },
    {
      "cell_type": "code",
      "metadata": {
        "colab": {
          "base_uri": "https://localhost:8080/"
        },
        "id": "4u8L7de6a_5z",
        "outputId": "9a98d96a-4833-4823-efe6-bcd7f768bea2"
      },
      "source": [
        "history_dict = history.history\n",
        "history_dict.keys()"
      ],
      "execution_count": null,
      "outputs": [
        {
          "output_type": "execute_result",
          "data": {
            "text/plain": [
              "dict_keys(['loss', 'accuracy', 'val_loss', 'val_accuracy'])"
            ]
          },
          "metadata": {},
          "execution_count": 52
        }
      ]
    },
    {
      "cell_type": "code",
      "metadata": {
        "colab": {
          "base_uri": "https://localhost:8080/",
          "height": 359
        },
        "id": "qZNkhZX7bAFn",
        "outputId": "70c25c88-953b-4863-d1e8-c9999a503d28"
      },
      "source": [
        "history_df=pd.DataFrame(history_dict)\n",
        "history_df.tail(10).round(3)"
      ],
      "execution_count": null,
      "outputs": [
        {
          "output_type": "execute_result",
          "data": {
            "text/html": [
              "<div>\n",
              "<style scoped>\n",
              "    .dataframe tbody tr th:only-of-type {\n",
              "        vertical-align: middle;\n",
              "    }\n",
              "\n",
              "    .dataframe tbody tr th {\n",
              "        vertical-align: top;\n",
              "    }\n",
              "\n",
              "    .dataframe thead th {\n",
              "        text-align: right;\n",
              "    }\n",
              "</style>\n",
              "<table border=\"1\" class=\"dataframe\">\n",
              "  <thead>\n",
              "    <tr style=\"text-align: right;\">\n",
              "      <th></th>\n",
              "      <th>loss</th>\n",
              "      <th>accuracy</th>\n",
              "      <th>val_loss</th>\n",
              "      <th>val_accuracy</th>\n",
              "    </tr>\n",
              "  </thead>\n",
              "  <tbody>\n",
              "    <tr>\n",
              "      <th>3</th>\n",
              "      <td>0.427</td>\n",
              "      <td>0.846</td>\n",
              "      <td>0.428</td>\n",
              "      <td>0.846</td>\n",
              "    </tr>\n",
              "    <tr>\n",
              "      <th>4</th>\n",
              "      <td>0.409</td>\n",
              "      <td>0.852</td>\n",
              "      <td>0.405</td>\n",
              "      <td>0.857</td>\n",
              "    </tr>\n",
              "    <tr>\n",
              "      <th>5</th>\n",
              "      <td>0.395</td>\n",
              "      <td>0.858</td>\n",
              "      <td>0.393</td>\n",
              "      <td>0.857</td>\n",
              "    </tr>\n",
              "    <tr>\n",
              "      <th>6</th>\n",
              "      <td>0.386</td>\n",
              "      <td>0.860</td>\n",
              "      <td>0.385</td>\n",
              "      <td>0.862</td>\n",
              "    </tr>\n",
              "    <tr>\n",
              "      <th>7</th>\n",
              "      <td>0.380</td>\n",
              "      <td>0.862</td>\n",
              "      <td>0.388</td>\n",
              "      <td>0.861</td>\n",
              "    </tr>\n",
              "    <tr>\n",
              "      <th>8</th>\n",
              "      <td>0.375</td>\n",
              "      <td>0.864</td>\n",
              "      <td>0.383</td>\n",
              "      <td>0.862</td>\n",
              "    </tr>\n",
              "    <tr>\n",
              "      <th>9</th>\n",
              "      <td>0.371</td>\n",
              "      <td>0.865</td>\n",
              "      <td>0.384</td>\n",
              "      <td>0.863</td>\n",
              "    </tr>\n",
              "    <tr>\n",
              "      <th>10</th>\n",
              "      <td>0.367</td>\n",
              "      <td>0.866</td>\n",
              "      <td>0.378</td>\n",
              "      <td>0.867</td>\n",
              "    </tr>\n",
              "    <tr>\n",
              "      <th>11</th>\n",
              "      <td>0.364</td>\n",
              "      <td>0.867</td>\n",
              "      <td>0.370</td>\n",
              "      <td>0.867</td>\n",
              "    </tr>\n",
              "    <tr>\n",
              "      <th>12</th>\n",
              "      <td>0.361</td>\n",
              "      <td>0.868</td>\n",
              "      <td>0.372</td>\n",
              "      <td>0.865</td>\n",
              "    </tr>\n",
              "  </tbody>\n",
              "</table>\n",
              "</div>"
            ],
            "text/plain": [
              "     loss  accuracy  val_loss  val_accuracy\n",
              "3   0.427     0.846     0.428         0.846\n",
              "4   0.409     0.852     0.405         0.857\n",
              "5   0.395     0.858     0.393         0.857\n",
              "6   0.386     0.860     0.385         0.862\n",
              "7   0.380     0.862     0.388         0.861\n",
              "8   0.375     0.864     0.383         0.862\n",
              "9   0.371     0.865     0.384         0.863\n",
              "10  0.367     0.866     0.378         0.867\n",
              "11  0.364     0.867     0.370         0.867\n",
              "12  0.361     0.868     0.372         0.865"
            ]
          },
          "metadata": {},
          "execution_count": 53
        }
      ]
    },
    {
      "cell_type": "code",
      "metadata": {
        "id": "6I-VnW30bALG"
      },
      "source": [
        "losses = history.history['loss']\n",
        "accs = history.history['accuracy']\n",
        "val_losses = history.history['val_loss']\n",
        "val_accs = history.history['val_accuracy']\n",
        "epochs = len(losses)"
      ],
      "execution_count": null,
      "outputs": []
    },
    {
      "cell_type": "code",
      "metadata": {
        "colab": {
          "base_uri": "https://localhost:8080/",
          "height": 265
        },
        "id": "CtRSXqUMbAQw",
        "outputId": "2dfebccd-7952-469d-8b61-a7a1bc91fa0b"
      },
      "source": [
        "plt.figure(figsize=(16, 4))\n",
        "for i, metrics in enumerate(zip([losses, accs], [val_losses, val_accs], ['Loss', 'Accuracy'])):\n",
        "    plt.subplot(1, 2, i + 1)\n",
        "    plt.plot(range(epochs), metrics[0], label='Training {}'.format(metrics[2]))\n",
        "    plt.plot(range(epochs), metrics[1], label='Validation {}'.format(metrics[2]))\n",
        "    plt.legend()\n",
        "plt.show()"
      ],
      "execution_count": null,
      "outputs": [
        {
          "output_type": "display_data",
          "data": {
            "image/png": "[encoded data removed]",
            "text/plain": [
              "<Figure size 1152x288 with 2 Axes>"
            ]
          },
          "metadata": {
            "needs_background": "light"
          }
        }
      ]
    },
    {
      "cell_type": "markdown",
      "metadata": {
        "id": "iyNIDJS_bMlL"
      },
      "source": [
        "**Model Architecture Summary Single Layer Bidirectional RNN**"
      ]
    },
    {
      "cell_type": "code",
      "metadata": {
        "colab": {
          "base_uri": "https://localhost:8080/"
        },
        "id": "-xGO2xrhbAWR",
        "outputId": "f9c8fa66-784a-48dd-d3ec-823a9f7cf148"
      },
      "source": [
        "model.summary()"
      ],
      "execution_count": null,
      "outputs": [
        {
          "output_type": "stream",
          "name": "stdout",
          "text": [
            "Model: \"sequential\"\n",
            "_________________________________________________________________\n",
            "Layer (type)                 Output Shape              Param #   \n",
            "=================================================================\n",
            "text_vectorization_2 (TextVe (None, None)              0         \n",
            "_________________________________________________________________\n",
            "embedding (Embedding)        (None, None, 64)          64000     \n",
            "_________________________________________________________________\n",
            "bidirectional (Bidirectional (None, 128)               66048     \n",
            "_________________________________________________________________\n",
            "dense (Dense)                (None, 64)                8256      \n",
            "_________________________________________________________________\n",
            "dense_1 (Dense)              (None, 4)                 260       \n",
            "=================================================================\n",
            "Total params: 138,564\n",
            "Trainable params: 138,564\n",
            "Non-trainable params: 0\n",
            "_________________________________________________________________\n"
          ]
        }
      ]
    },
    {
      "cell_type": "code",
      "metadata": {
        "colab": {
          "base_uri": "https://localhost:8080/",
          "height": 644
        },
        "id": "X5BmVVoJbAZV",
        "outputId": "069d1aca-370a-4b75-8b5f-379a69fcd5a1"
      },
      "source": [
        "keras.utils.plot_model(model, \"BiDirectionalLSTM.png\", show_shapes=True)"
      ],
      "execution_count": null,
      "outputs": [
        {
          "output_type": "execute_result",
          "data": {
            "image/png": "[encoded data removed]",
            "text/plain": [
              "<IPython.core.display.Image object>"
            ]
          },
          "metadata": {},
          "execution_count": 57
        }
      ]
    },
    {
      "cell_type": "markdown",
      "metadata": {
        "id": "lO_3_CHYbyhl"
      },
      "source": [
        "**Stack two or more LSTM layers**\n",
        "\n",
        "Keras recurrent layers have two available modes that are controlled by the return_sequences constructor argument:\n",
        "\n",
        "If False it returns only the last output for each input sequence (a 2D tensor of shape (batch_size, output_features)). This is the default, used in the previous model.\n",
        "\n",
        "If True the full sequences of successive outputs for each timestep is returned (a 3D tensor of shape (batch_size, timesteps, output_features)).\n",
        "\n",
        "Here is what the flow of information looks like with return_sequences=True:\n",
        "\n",
        "![layered_bidirectional]?raw=1\"\n",
        "\n",
        "The interesting thing about using an RNN with return_sequences=True is that the output still has 3-axes, like the input, so it can be passed to another RNN layer, like this:\n",
        "\n"
      ]
    },
    {
      "cell_type": "code",
      "metadata": {
        "id": "H6nZsB-1bAeH"
      },
      "source": [
        "model2 = tf.keras.Sequential([\n",
        "                              encoder\n",
        "                              ,tf.keras.layers.Embedding(len(encoder.get_vocabulary()), 64, mask_zero=True)\n",
        "                              ,tf.keras.layers.Bidirectional(tf.keras.layers.LSTM(64,  return_sequences=True))\n",
        "                              ,tf.keras.layers.Bidirectional(tf.keras.layers.LSTM(32))\n",
        "                              ,tf.keras.layers.Dense(64, activation='relu')\n",
        "                              ,tf.keras.layers.Dropout(0.5)\n",
        "                              ,tf.keras.layers.Dense(num_classes,activation='softmax')   # not binary since there are num_classes categories\n",
        "])"
      ],
      "execution_count": null,
      "outputs": []
    },
    {
      "cell_type": "code",
      "metadata": {
        "id": "4B1X-kevbAhg"
      },
      "source": [
        "model2.compile(optimizer='adam'\n",
        "              ,loss=tf.keras.losses.SparseCategoricalCrossentropy() # if we set from_logits=True we do not have specify a softmax activation function in the last layer\n",
        "              ,metrics=['accuracy'])"
      ],
      "execution_count": null,
      "outputs": []
    },
    {
      "cell_type": "code",
      "metadata": {
        "colab": {
          "base_uri": "https://localhost:8080/"
        },
        "id": "z97mq7ynb9tv",
        "outputId": "501798be-a385-4abc-f66e-8ca0b0e239be"
      },
      "source": [
        "history2 = model2.fit(train_dataset\n",
        "                    ,epochs=200\n",
        "                    ,validation_data=validation_dataset\n",
        "                    ,validation_steps=30\n",
        "                    ,callbacks=[tf.keras.callbacks.EarlyStopping(monitor='val_accuracy', patience=2)]\n",
        "                    )"
      ],
      "execution_count": null,
      "outputs": [
        {
          "output_type": "stream",
          "name": "stdout",
          "text": [
            "Epoch 1/200\n",
            "1782/1782 [==============================] - 414s 224ms/step - loss: 0.5159 - accuracy: 0.8149 - val_loss: 0.3959 - val_accuracy: 0.8656\n",
            "Epoch 2/200\n",
            "1782/1782 [==============================] - 397s 223ms/step - loss: 0.4264 - accuracy: 0.8514 - val_loss: 0.4430 - val_accuracy: 0.8438\n",
            "Epoch 3/200\n",
            "1782/1782 [==============================] - 398s 223ms/step - loss: 0.4046 - accuracy: 0.8569 - val_loss: 0.3766 - val_accuracy: 0.8578\n"
          ]
        }
      ]
    },
    {
      "cell_type": "code",
      "metadata": {
        "colab": {
          "base_uri": "https://localhost:8080/"
        },
        "id": "V_25a4Djb9xT",
        "outputId": "280bcf2c-bb27-4e5c-a383-af6d9e0c4acb"
      },
      "source": [
        "test_loss, test_acc = model2.evaluate(test_dataset)\n",
        "\n",
        "print('Test Loss: {}'.format(test_loss))\n",
        "print('Test Accuracy: {}'.format(test_acc))"
      ],
      "execution_count": null,
      "outputs": [
        {
          "output_type": "stream",
          "name": "stdout",
          "text": [
            "119/119 [==============================] - 7s 58ms/step - loss: 0.4039 - accuracy: 0.8545\n",
            "Test Loss: 0.4038887321949005\n",
            "Test Accuracy: 0.8544737100601196\n"
          ]
        }
      ]
    },
    {
      "cell_type": "markdown",
      "metadata": {
        "id": "cuQ2iEdCcGh1"
      },
      "source": [
        "**Plotting Performance Metrics - Multi-Layer Bidirectional RNN**\n",
        "\n",
        "We use Matplotlib to create 2 plots--displaying the training and validation loss (resp. accuracy) for each (training) epoch side by side."
      ]
    },
    {
      "cell_type": "code",
      "metadata": {
        "colab": {
          "base_uri": "https://localhost:8080/"
        },
        "id": "UhFqMC3zb91X",
        "outputId": "89927b6a-eaff-4a9c-f90c-238e25a09ed6"
      },
      "source": [
        "history_dict2 = history2.history\n",
        "history_dict2.keys()"
      ],
      "execution_count": null,
      "outputs": [
        {
          "output_type": "execute_result",
          "data": {
            "text/plain": [
              "dict_keys(['loss', 'accuracy', 'val_loss', 'val_accuracy'])"
            ]
          },
          "metadata": {},
          "execution_count": 62
        }
      ]
    },
    {
      "cell_type": "code",
      "metadata": {
        "colab": {
          "base_uri": "https://localhost:8080/",
          "height": 142
        },
        "id": "ZrLmzd8db94g",
        "outputId": "cfa21e8e-8d39-4989-c79f-e1114199a380"
      },
      "source": [
        "history2_df=pd.DataFrame(history_dict2)\n",
        "history2_df.tail().round(3)"
      ],
      "execution_count": null,
      "outputs": [
        {
          "output_type": "execute_result",
          "data": {
            "text/html": [
              "<div>\n",
              "<style scoped>\n",
              "    .dataframe tbody tr th:only-of-type {\n",
              "        vertical-align: middle;\n",
              "    }\n",
              "\n",
              "    .dataframe tbody tr th {\n",
              "        vertical-align: top;\n",
              "    }\n",
              "\n",
              "    .dataframe thead th {\n",
              "        text-align: right;\n",
              "    }\n",
              "</style>\n",
              "<table border=\"1\" class=\"dataframe\">\n",
              "  <thead>\n",
              "    <tr style=\"text-align: right;\">\n",
              "      <th></th>\n",
              "      <th>loss</th>\n",
              "      <th>accuracy</th>\n",
              "      <th>val_loss</th>\n",
              "      <th>val_accuracy</th>\n",
              "    </tr>\n",
              "  </thead>\n",
              "  <tbody>\n",
              "    <tr>\n",
              "      <th>0</th>\n",
              "      <td>0.516</td>\n",
              "      <td>0.815</td>\n",
              "      <td>0.396</td>\n",
              "      <td>0.866</td>\n",
              "    </tr>\n",
              "    <tr>\n",
              "      <th>1</th>\n",
              "      <td>0.426</td>\n",
              "      <td>0.851</td>\n",
              "      <td>0.443</td>\n",
              "      <td>0.844</td>\n",
              "    </tr>\n",
              "    <tr>\n",
              "      <th>2</th>\n",
              "      <td>0.405</td>\n",
              "      <td>0.857</td>\n",
              "      <td>0.377</td>\n",
              "      <td>0.858</td>\n",
              "    </tr>\n",
              "  </tbody>\n",
              "</table>\n",
              "</div>"
            ],
            "text/plain": [
              "    loss  accuracy  val_loss  val_accuracy\n",
              "0  0.516     0.815     0.396         0.866\n",
              "1  0.426     0.851     0.443         0.844\n",
              "2  0.405     0.857     0.377         0.858"
            ]
          },
          "metadata": {},
          "execution_count": 63
        }
      ]
    },
    {
      "cell_type": "code",
      "metadata": {
        "id": "B0WG6MoRcQlq"
      },
      "source": [
        "losses = history2.history['loss']\n",
        "accs = history2.history['accuracy']\n",
        "val_losses = history2.history['val_loss']\n",
        "val_accs = history2.history['val_accuracy']\n",
        "epochs = len(losses)"
      ],
      "execution_count": null,
      "outputs": []
    },
    {
      "cell_type": "code",
      "metadata": {
        "colab": {
          "base_uri": "https://localhost:8080/",
          "height": 265
        },
        "id": "VAEqwLVZcQpP",
        "outputId": "2ee0c980-ab98-49ea-c2eb-d7e0b7dfcd55"
      },
      "source": [
        "plt.figure(figsize=(16, 4))\n",
        "for i, metrics in enumerate(zip([losses, accs], [val_losses, val_accs], ['Loss', 'Accuracy'])):\n",
        "    plt.subplot(1, 2, i + 1)\n",
        "    plt.plot(range(epochs), metrics[0], label='Training {}'.format(metrics[2]))\n",
        "    plt.plot(range(epochs), metrics[1], label='Validation {}'.format(metrics[2]))\n",
        "    plt.legend()\n",
        "plt.show()"
      ],
      "execution_count": null,
      "outputs": [
        {
          "output_type": "display_data",
          "data": {
            "image/png": "[encoded data removed]",
            "text/plain": [
              "<Figure size 1152x288 with 2 Axes>"
            ]
          },
          "metadata": {
            "needs_background": "light"
          }
        }
      ]
    },
    {
      "cell_type": "markdown",
      "metadata": {
        "id": "Wa38JltgctCI"
      },
      "source": [
        "**Confusion Matrix**\n"
      ]
    },
    {
      "cell_type": "code",
      "metadata": {
        "id": "jskGC-YIcQt9"
      },
      "source": [
        "preds = model.predict(test_dataset)"
      ],
      "execution_count": null,
      "outputs": []
    },
    {
      "cell_type": "code",
      "metadata": {
        "colab": {
          "base_uri": "https://localhost:8080/"
        },
        "id": "POX1cwyUczyh",
        "outputId": "7e91ef96-2297-4069-a12f-0d06308f4d90"
      },
      "source": [
        "preds.shape"
      ],
      "execution_count": null,
      "outputs": [
        {
          "output_type": "execute_result",
          "data": {
            "text/plain": [
              "(7600, 4)"
            ]
          },
          "metadata": {},
          "execution_count": 67
        }
      ]
    },
    {
      "cell_type": "code",
      "metadata": {
        "id": "XaqreU_Gcz7m"
      },
      "source": [
        "cm = sns.light_palette((260, 75, 60), input=\"husl\", as_cmap=True)"
      ],
      "execution_count": null,
      "outputs": []
    },
    {
      "cell_type": "code",
      "metadata": {
        "colab": {
          "base_uri": "https://localhost:8080/",
          "height": 124
        },
        "id": "Eg32IZ7ec0AK",
        "outputId": "d3423883-bb84-4287-a561-a7a6a703cc1c"
      },
      "source": [
        "df = pd.DataFrame(preds[0:15]\n",
        "                  ,columns = ['World','Sports','Business','Sci/Tech']).T\n",
        "df.style.format(\"{:.2%}\").background_gradient(cmap=cm)"
      ],
      "execution_count": null,
      "outputs": [
        {
          "output_type": "execute_result",
          "data": {
            "text/html": [
              "<style  type=\"text/css\" >\n",
              "#T_2a602cb2_3730_11ec_bd88_0242ac1c0002row0_col0,#T_2a602cb2_3730_11ec_bd88_0242ac1c0002row0_col2,#T_2a602cb2_3730_11ec_bd88_0242ac1c0002row0_col11,#T_2a602cb2_3730_11ec_bd88_0242ac1c0002row1_col1,#T_2a602cb2_3730_11ec_bd88_0242ac1c0002row1_col2,#T_2a602cb2_3730_11ec_bd88_0242ac1c0002row1_col4,#T_2a602cb2_3730_11ec_bd88_0242ac1c0002row1_col5,#T_2a602cb2_3730_11ec_bd88_0242ac1c0002row1_col8,#T_2a602cb2_3730_11ec_bd88_0242ac1c0002row1_col9,#T_2a602cb2_3730_11ec_bd88_0242ac1c0002row1_col10,#T_2a602cb2_3730_11ec_bd88_0242ac1c0002row1_col11,#T_2a602cb2_3730_11ec_bd88_0242ac1c0002row1_col12,#T_2a602cb2_3730_11ec_bd88_0242ac1c0002row1_col13,#T_2a602cb2_3730_11ec_bd88_0242ac1c0002row1_col14,#T_2a602cb2_3730_11ec_bd88_0242ac1c0002row2_col0,#T_2a602cb2_3730_11ec_bd88_0242ac1c0002row2_col1,#T_2a602cb2_3730_11ec_bd88_0242ac1c0002row2_col3,#T_2a602cb2_3730_11ec_bd88_0242ac1c0002row2_col4,#T_2a602cb2_3730_11ec_bd88_0242ac1c0002row2_col6,#T_2a602cb2_3730_11ec_bd88_0242ac1c0002row2_col7,#T_2a602cb2_3730_11ec_bd88_0242ac1c0002row2_col10,#T_2a602cb2_3730_11ec_bd88_0242ac1c0002row2_col14,#T_2a602cb2_3730_11ec_bd88_0242ac1c0002row3_col0,#T_2a602cb2_3730_11ec_bd88_0242ac1c0002row3_col1,#T_2a602cb2_3730_11ec_bd88_0242ac1c0002row3_col3,#T_2a602cb2_3730_11ec_bd88_0242ac1c0002row3_col4,#T_2a602cb2_3730_11ec_bd88_0242ac1c0002row3_col6,#T_2a602cb2_3730_11ec_bd88_0242ac1c0002row3_col10,#T_2a602cb2_3730_11ec_bd88_0242ac1c0002row3_col14{\n",
              "            background-color:  #f0f1f2;\n",
              "            color:  #000000;\n",
              "        }#T_2a602cb2_3730_11ec_bd88_0242ac1c0002row0_col1,#T_2a602cb2_3730_11ec_bd88_0242ac1c0002row0_col4,#T_2a602cb2_3730_11ec_bd88_0242ac1c0002row0_col8,#T_2a602cb2_3730_11ec_bd88_0242ac1c0002row0_col10,#T_2a602cb2_3730_11ec_bd88_0242ac1c0002row0_col13,#T_2a602cb2_3730_11ec_bd88_0242ac1c0002row0_col14,#T_2a602cb2_3730_11ec_bd88_0242ac1c0002row1_col0,#T_2a602cb2_3730_11ec_bd88_0242ac1c0002row1_col3,#T_2a602cb2_3730_11ec_bd88_0242ac1c0002row1_col6,#T_2a602cb2_3730_11ec_bd88_0242ac1c0002row1_col7,#T_2a602cb2_3730_11ec_bd88_0242ac1c0002row2_col9,#T_2a602cb2_3730_11ec_bd88_0242ac1c0002row2_col12,#T_2a602cb2_3730_11ec_bd88_0242ac1c0002row3_col2,#T_2a602cb2_3730_11ec_bd88_0242ac1c0002row3_col5,#T_2a602cb2_3730_11ec_bd88_0242ac1c0002row3_col11{\n",
              "            background-color:  #778ce4;\n",
              "            color:  #000000;\n",
              "        }#T_2a602cb2_3730_11ec_bd88_0242ac1c0002row0_col3,#T_2a602cb2_3730_11ec_bd88_0242ac1c0002row0_col5,#T_2a602cb2_3730_11ec_bd88_0242ac1c0002row0_col6{\n",
              "            background-color:  #f0f0f2;\n",
              "            color:  #000000;\n",
              "        }#T_2a602cb2_3730_11ec_bd88_0242ac1c0002row0_col7{\n",
              "            background-color:  #b6c0eb;\n",
              "            color:  #000000;\n",
              "        }#T_2a602cb2_3730_11ec_bd88_0242ac1c0002row0_col9,#T_2a602cb2_3730_11ec_bd88_0242ac1c0002row3_col7{\n",
              "            background-color:  #ebecf2;\n",
              "            color:  #000000;\n",
              "        }#T_2a602cb2_3730_11ec_bd88_0242ac1c0002row0_col12,#T_2a602cb2_3730_11ec_bd88_0242ac1c0002row2_col13{\n",
              "            background-color:  #eeeff2;\n",
              "            color:  #000000;\n",
              "        }#T_2a602cb2_3730_11ec_bd88_0242ac1c0002row2_col2{\n",
              "            background-color:  #ecedf2;\n",
              "            color:  #000000;\n",
              "        }#T_2a602cb2_3730_11ec_bd88_0242ac1c0002row2_col5{\n",
              "            background-color:  #dce0f0;\n",
              "            color:  #000000;\n",
              "        }#T_2a602cb2_3730_11ec_bd88_0242ac1c0002row2_col8{\n",
              "            background-color:  #eff0f2;\n",
              "            color:  #000000;\n",
              "        }#T_2a602cb2_3730_11ec_bd88_0242ac1c0002row2_col11,#T_2a602cb2_3730_11ec_bd88_0242ac1c0002row3_col12{\n",
              "            background-color:  #efeff2;\n",
              "            color:  #000000;\n",
              "        }#T_2a602cb2_3730_11ec_bd88_0242ac1c0002row3_col8,#T_2a602cb2_3730_11ec_bd88_0242ac1c0002row3_col13{\n",
              "            background-color:  #e9eaf1;\n",
              "            color:  #000000;\n",
              "        }#T_2a602cb2_3730_11ec_bd88_0242ac1c0002row3_col9{\n",
              "            background-color:  #d5daef;\n",
              "            color:  #000000;\n",
              "        }</style><table id=\"T_2a602cb2_3730_11ec_bd88_0242ac1c0002\" ><thead>    <tr>        <th class=\"blank level0\" ></th>        <th class=\"col_heading level0 col0\" >0</th>        <th class=\"col_heading level0 col1\" >1</th>        <th class=\"col_heading level0 col2\" >2</th>        <th class=\"col_heading level0 col3\" >3</th>        <th class=\"col_heading level0 col4\" >4</th>        <th class=\"col_heading level0 col5\" >5</th>        <th class=\"col_heading level0 col6\" >6</th>        <th class=\"col_heading level0 col7\" >7</th>        <th class=\"col_heading level0 col8\" >8</th>        <th class=\"col_heading level0 col9\" >9</th>        <th class=\"col_heading level0 col10\" >10</th>        <th class=\"col_heading level0 col11\" >11</th>        <th class=\"col_heading level0 col12\" >12</th>        <th class=\"col_heading level0 col13\" >13</th>        <th class=\"col_heading level0 col14\" >14</th>    </tr></thead><tbody>\n",
              "                <tr>\n",
              "                        <th id=\"T_2a602cb2_3730_11ec_bd88_0242ac1c0002level0_row0\" class=\"row_heading level0 row0\" >World</th>\n",
              "                        <td id=\"T_2a602cb2_3730_11ec_bd88_0242ac1c0002row0_col0\" class=\"data row0 col0\" >0.04%</td>\n",
              "                        <td id=\"T_2a602cb2_3730_11ec_bd88_0242ac1c0002row0_col1\" class=\"data row0 col1\" >99.94%</td>\n",
              "                        <td id=\"T_2a602cb2_3730_11ec_bd88_0242ac1c0002row0_col2\" class=\"data row0 col2\" >0.30%</td>\n",
              "                        <td id=\"T_2a602cb2_3730_11ec_bd88_0242ac1c0002row0_col3\" class=\"data row0 col3\" >0.51%</td>\n",
              "                        <td id=\"T_2a602cb2_3730_11ec_bd88_0242ac1c0002row0_col4\" class=\"data row0 col4\" >99.86%</td>\n",
              "                        <td id=\"T_2a602cb2_3730_11ec_bd88_0242ac1c0002row0_col5\" class=\"data row0 col5\" >0.69%</td>\n",
              "                        <td id=\"T_2a602cb2_3730_11ec_bd88_0242ac1c0002row0_col6\" class=\"data row0 col6\" >0.84%</td>\n",
              "                        <td id=\"T_2a602cb2_3730_11ec_bd88_0242ac1c0002row0_col7\" class=\"data row0 col7\" >31.35%</td>\n",
              "                        <td id=\"T_2a602cb2_3730_11ec_bd88_0242ac1c0002row0_col8\" class=\"data row0 col8\" >92.50%</td>\n",
              "                        <td id=\"T_2a602cb2_3730_11ec_bd88_0242ac1c0002row0_col9\" class=\"data row0 col9\" >3.89%</td>\n",
              "                        <td id=\"T_2a602cb2_3730_11ec_bd88_0242ac1c0002row0_col10\" class=\"data row0 col10\" >99.98%</td>\n",
              "                        <td id=\"T_2a602cb2_3730_11ec_bd88_0242ac1c0002row0_col11\" class=\"data row0 col11\" >0.25%</td>\n",
              "                        <td id=\"T_2a602cb2_3730_11ec_bd88_0242ac1c0002row0_col12\" class=\"data row0 col12\" >1.81%</td>\n",
              "                        <td id=\"T_2a602cb2_3730_11ec_bd88_0242ac1c0002row0_col13\" class=\"data row0 col13\" >90.90%</td>\n",
              "                        <td id=\"T_2a602cb2_3730_11ec_bd88_0242ac1c0002row0_col14\" class=\"data row0 col14\" >99.91%</td>\n",
              "            </tr>\n",
              "            <tr>\n",
              "                        <th id=\"T_2a602cb2_3730_11ec_bd88_0242ac1c0002level0_row1\" class=\"row_heading level0 row1\" >Sports</th>\n",
              "                        <td id=\"T_2a602cb2_3730_11ec_bd88_0242ac1c0002row1_col0\" class=\"data row1 col0\" >99.92%</td>\n",
              "                        <td id=\"T_2a602cb2_3730_11ec_bd88_0242ac1c0002row1_col1\" class=\"data row1 col1\" >0.00%</td>\n",
              "                        <td id=\"T_2a602cb2_3730_11ec_bd88_0242ac1c0002row1_col2\" class=\"data row1 col2\" >0.00%</td>\n",
              "                        <td id=\"T_2a602cb2_3730_11ec_bd88_0242ac1c0002row1_col3\" class=\"data row1 col3\" >99.38%</td>\n",
              "                        <td id=\"T_2a602cb2_3730_11ec_bd88_0242ac1c0002row1_col4\" class=\"data row1 col4\" >0.00%</td>\n",
              "                        <td id=\"T_2a602cb2_3730_11ec_bd88_0242ac1c0002row1_col5\" class=\"data row1 col5\" >0.07%</td>\n",
              "                        <td id=\"T_2a602cb2_3730_11ec_bd88_0242ac1c0002row1_col6\" class=\"data row1 col6\" >98.80%</td>\n",
              "                        <td id=\"T_2a602cb2_3730_11ec_bd88_0242ac1c0002row1_col7\" class=\"data row1 col7\" >64.78%</td>\n",
              "                        <td id=\"T_2a602cb2_3730_11ec_bd88_0242ac1c0002row1_col8\" class=\"data row1 col8\" >0.30%</td>\n",
              "                        <td id=\"T_2a602cb2_3730_11ec_bd88_0242ac1c0002row1_col9\" class=\"data row1 col9\" >0.04%</td>\n",
              "                        <td id=\"T_2a602cb2_3730_11ec_bd88_0242ac1c0002row1_col10\" class=\"data row1 col10\" >0.00%</td>\n",
              "                        <td id=\"T_2a602cb2_3730_11ec_bd88_0242ac1c0002row1_col11\" class=\"data row1 col11\" >0.13%</td>\n",
              "                        <td id=\"T_2a602cb2_3730_11ec_bd88_0242ac1c0002row1_col12\" class=\"data row1 col12\" >0.02%</td>\n",
              "                        <td id=\"T_2a602cb2_3730_11ec_bd88_0242ac1c0002row1_col13\" class=\"data row1 col13\" >0.50%</td>\n",
              "                        <td id=\"T_2a602cb2_3730_11ec_bd88_0242ac1c0002row1_col14\" class=\"data row1 col14\" >0.00%</td>\n",
              "            </tr>\n",
              "            <tr>\n",
              "                        <th id=\"T_2a602cb2_3730_11ec_bd88_0242ac1c0002level0_row2\" class=\"row_heading level0 row2\" >Business</th>\n",
              "                        <td id=\"T_2a602cb2_3730_11ec_bd88_0242ac1c0002row2_col0\" class=\"data row2 col0\" >0.02%</td>\n",
              "                        <td id=\"T_2a602cb2_3730_11ec_bd88_0242ac1c0002row2_col1\" class=\"data row2 col1\" >0.03%</td>\n",
              "                        <td id=\"T_2a602cb2_3730_11ec_bd88_0242ac1c0002row2_col2\" class=\"data row2 col2\" >3.58%</td>\n",
              "                        <td id=\"T_2a602cb2_3730_11ec_bd88_0242ac1c0002row2_col3\" class=\"data row2 col3\" >0.06%</td>\n",
              "                        <td id=\"T_2a602cb2_3730_11ec_bd88_0242ac1c0002row2_col4\" class=\"data row2 col4\" >0.06%</td>\n",
              "                        <td id=\"T_2a602cb2_3730_11ec_bd88_0242ac1c0002row2_col5\" class=\"data row2 col5\" >14.55%</td>\n",
              "                        <td id=\"T_2a602cb2_3730_11ec_bd88_0242ac1c0002row2_col6\" class=\"data row2 col6\" >0.09%</td>\n",
              "                        <td id=\"T_2a602cb2_3730_11ec_bd88_0242ac1c0002row2_col7\" class=\"data row2 col7\" >0.31%</td>\n",
              "                        <td id=\"T_2a602cb2_3730_11ec_bd88_0242ac1c0002row2_col8\" class=\"data row2 col8\" >1.02%</td>\n",
              "                        <td id=\"T_2a602cb2_3730_11ec_bd88_0242ac1c0002row2_col9\" class=\"data row2 col9\" >78.41%</td>\n",
              "                        <td id=\"T_2a602cb2_3730_11ec_bd88_0242ac1c0002row2_col10\" class=\"data row2 col10\" >0.01%</td>\n",
              "                        <td id=\"T_2a602cb2_3730_11ec_bd88_0242ac1c0002row2_col11\" class=\"data row2 col11\" >1.65%</td>\n",
              "                        <td id=\"T_2a602cb2_3730_11ec_bd88_0242ac1c0002row2_col12\" class=\"data row2 col12\" >97.01%</td>\n",
              "                        <td id=\"T_2a602cb2_3730_11ec_bd88_0242ac1c0002row2_col13\" class=\"data row2 col13\" >2.17%</td>\n",
              "                        <td id=\"T_2a602cb2_3730_11ec_bd88_0242ac1c0002row2_col14\" class=\"data row2 col14\" >0.06%</td>\n",
              "            </tr>\n",
              "            <tr>\n",
              "                        <th id=\"T_2a602cb2_3730_11ec_bd88_0242ac1c0002level0_row3\" class=\"row_heading level0 row3\" >Sci/Tech</th>\n",
              "                        <td id=\"T_2a602cb2_3730_11ec_bd88_0242ac1c0002row3_col0\" class=\"data row3 col0\" >0.01%</td>\n",
              "                        <td id=\"T_2a602cb2_3730_11ec_bd88_0242ac1c0002row3_col1\" class=\"data row3 col1\" >0.03%</td>\n",
              "                        <td id=\"T_2a602cb2_3730_11ec_bd88_0242ac1c0002row3_col2\" class=\"data row3 col2\" >96.12%</td>\n",
              "                        <td id=\"T_2a602cb2_3730_11ec_bd88_0242ac1c0002row3_col3\" class=\"data row3 col3\" >0.04%</td>\n",
              "                        <td id=\"T_2a602cb2_3730_11ec_bd88_0242ac1c0002row3_col4\" class=\"data row3 col4\" >0.08%</td>\n",
              "                        <td id=\"T_2a602cb2_3730_11ec_bd88_0242ac1c0002row3_col5\" class=\"data row3 col5\" >84.69%</td>\n",
              "                        <td id=\"T_2a602cb2_3730_11ec_bd88_0242ac1c0002row3_col6\" class=\"data row3 col6\" >0.27%</td>\n",
              "                        <td id=\"T_2a602cb2_3730_11ec_bd88_0242ac1c0002row3_col7\" class=\"data row3 col7\" >3.56%</td>\n",
              "                        <td id=\"T_2a602cb2_3730_11ec_bd88_0242ac1c0002row3_col8\" class=\"data row3 col8\" >6.18%</td>\n",
              "                        <td id=\"T_2a602cb2_3730_11ec_bd88_0242ac1c0002row3_col9\" class=\"data row3 col9\" >17.66%</td>\n",
              "                        <td id=\"T_2a602cb2_3730_11ec_bd88_0242ac1c0002row3_col10\" class=\"data row3 col10\" >0.01%</td>\n",
              "                        <td id=\"T_2a602cb2_3730_11ec_bd88_0242ac1c0002row3_col11\" class=\"data row3 col11\" >97.97%</td>\n",
              "                        <td id=\"T_2a602cb2_3730_11ec_bd88_0242ac1c0002row3_col12\" class=\"data row3 col12\" >1.16%</td>\n",
              "                        <td id=\"T_2a602cb2_3730_11ec_bd88_0242ac1c0002row3_col13\" class=\"data row3 col13\" >6.43%</td>\n",
              "                        <td id=\"T_2a602cb2_3730_11ec_bd88_0242ac1c0002row3_col14\" class=\"data row3 col14\" >0.03%</td>\n",
              "            </tr>\n",
              "    </tbody></table>"
            ],
            "text/plain": [
              "<pandas.io.formats.style.Styler at 0x7fd84a59dfd0>"
            ]
          },
          "metadata": {},
          "execution_count": 69
        }
      ]
    },
    {
      "cell_type": "markdown",
      "metadata": {
        "id": "jTWYez9cc9VJ"
      },
      "source": [
        "**Model Architecture Summary Single Layer Bidirectional RNN**"
      ]
    },
    {
      "cell_type": "code",
      "metadata": {
        "colab": {
          "base_uri": "https://localhost:8080/"
        },
        "id": "VjSINnQCc0D1",
        "outputId": "72ddabfe-c33a-4327-d3a8-3d6bb3de2c34"
      },
      "source": [
        "model2.summary()"
      ],
      "execution_count": null,
      "outputs": [
        {
          "output_type": "stream",
          "name": "stdout",
          "text": [
            "Model: \"sequential_1\"\n",
            "_________________________________________________________________\n",
            "Layer (type)                 Output Shape              Param #   \n",
            "=================================================================\n",
            "text_vectorization_2 (TextVe (None, None)              0         \n",
            "_________________________________________________________________\n",
            "embedding_1 (Embedding)      (None, None, 64)          64000     \n",
            "_________________________________________________________________\n",
            "bidirectional_1 (Bidirection (None, None, 128)         66048     \n",
            "_________________________________________________________________\n",
            "bidirectional_2 (Bidirection (None, 64)                41216     \n",
            "_________________________________________________________________\n",
            "dense_2 (Dense)              (None, 64)                4160      \n",
            "_________________________________________________________________\n",
            "dropout (Dropout)            (None, 64)                0         \n",
            "_________________________________________________________________\n",
            "dense_3 (Dense)              (None, 4)                 260       \n",
            "=================================================================\n",
            "Total params: 175,684\n",
            "Trainable params: 175,684\n",
            "Non-trainable params: 0\n",
            "_________________________________________________________________\n"
          ]
        }
      ]
    },
    {
      "cell_type": "code",
      "metadata": {
        "colab": {
          "base_uri": "https://localhost:8080/",
          "height": 865
        },
        "id": "RrL7Tg2VdFJB",
        "outputId": "844b0fe6-b46d-489c-8b20-d6fd520de947"
      },
      "source": [
        "keras.utils.plot_model(model2, \"2Layer_BiDirectionalLSTM.png\", show_shapes=True)"
      ],
      "execution_count": null,
      "outputs": [
        {
          "output_type": "execute_result",
          "data": {
            "image/png": "[encoded data removed]",
            "text/plain": [
              "<IPython.core.display.Image object>"
            ]
          },
          "metadata": {},
          "execution_count": 71
        }
      ]
    },
    {
      "cell_type": "code",
      "metadata": {
        "id": "OS9dY6hXdFUB"
      },
      "source": [
        "model2.compile(optimizer='adam'\n",
        "              ,loss=tf.keras.losses.SparseCategoricalCrossentropy() # if we set from_logits=True we do not have specify a softmax activation function in the last layer\n",
        "              ,metrics=['accuracy'])"
      ],
      "execution_count": null,
      "outputs": []
    },
    {
      "cell_type": "code",
      "metadata": {
        "colab": {
          "base_uri": "https://localhost:8080/"
        },
        "id": "y_Z8T2pMdFeQ",
        "outputId": "c495a397-3f40-40d5-b432-3120f4806cb8"
      },
      "source": [
        "history2 = model2.fit(train_dataset\n",
        "                    ,epochs=200\n",
        "                    ,validation_data=validation_dataset\n",
        "                    ,validation_steps=30\n",
        "                    ,callbacks=[tf.keras.callbacks.EarlyStopping(monitor='val_accuracy', patience=2)]\n",
        "                    )"
      ],
      "execution_count": null,
      "outputs": [
        {
          "output_type": "stream",
          "name": "stdout",
          "text": [
            "Epoch 1/200\n",
            "1782/1782 [==============================] - 418s 226ms/step - loss: 0.3865 - accuracy: 0.8631 - val_loss: 0.3683 - val_accuracy: 0.8661\n",
            "Epoch 2/200\n",
            "1782/1782 [==============================] - 401s 225ms/step - loss: 0.3663 - accuracy: 0.8678 - val_loss: 0.3944 - val_accuracy: 0.8516\n",
            "Epoch 3/200\n",
            "1782/1782 [==============================] - 402s 225ms/step - loss: 0.3520 - accuracy: 0.8727 - val_loss: 0.3860 - val_accuracy: 0.8672\n",
            "Epoch 4/200\n",
            "1782/1782 [==============================] - 403s 226ms/step - loss: 0.3381 - accuracy: 0.8776 - val_loss: 0.3574 - val_accuracy: 0.8682\n",
            "Epoch 5/200\n",
            "1782/1782 [==============================] - 404s 227ms/step - loss: 0.3257 - accuracy: 0.8822 - val_loss: 0.3737 - val_accuracy: 0.8594\n",
            "Epoch 6/200\n",
            "1782/1782 [==============================] - 394s 221ms/step - loss: 0.3120 - accuracy: 0.8866 - val_loss: 0.3616 - val_accuracy: 0.8708\n",
            "Epoch 7/200\n",
            "1782/1782 [==============================] - 394s 221ms/step - loss: 0.2993 - accuracy: 0.8915 - val_loss: 0.3788 - val_accuracy: 0.8625\n",
            "Epoch 8/200\n",
            "1782/1782 [==============================] - 390s 219ms/step - loss: 0.2862 - accuracy: 0.8959 - val_loss: 0.3651 - val_accuracy: 0.8734\n",
            "Epoch 9/200\n",
            "1782/1782 [==============================] - 387s 217ms/step - loss: 0.2722 - accuracy: 0.8992 - val_loss: 0.3650 - val_accuracy: 0.8661\n",
            "Epoch 10/200\n",
            "1782/1782 [==============================] - 394s 221ms/step - loss: 0.2585 - accuracy: 0.9048 - val_loss: 0.3802 - val_accuracy: 0.8734\n"
          ]
        }
      ]
    },
    {
      "cell_type": "markdown",
      "metadata": {
        "id": "JQUjt4tTloRM"
      },
      "source": [
        "**Experiment A: EDA**"
      ]
    },
    {
      "cell_type": "markdown",
      "metadata": {
        "id": "ACEapSpTmDd6"
      },
      "source": [
        "(a) Vocabulary Size: Tweak the vocabulary size, at least 3 levels."
      ]
    },
    {
      "cell_type": "markdown",
      "metadata": {
        "id": "qrpcdP_60jzV"
      },
      "source": [
        "Vocabulary of 250"
      ]
    },
    {
      "cell_type": "code",
      "metadata": {
        "colab": {
          "base_uri": "https://localhost:8080/"
        },
        "id": "2KQDDrRCGi7v",
        "outputId": "4d90fb8a-7d18-4c1c-9143-271676d771af"
      },
      "source": [
        "%%time\n",
        "encoder_250 = tf.keras.layers.experimental.preprocessing.TextVectorization(max_tokens=250)\n",
        "encoder_250.adapt(dataset_all.map(lambda text, label: text))\n",
        "vocab_250 = np.array(encoder_250.get_vocabulary());"
      ],
      "execution_count": null,
      "outputs": [
        {
          "output_type": "stream",
          "name": "stdout",
          "text": [
            "WARNING:tensorflow:AutoGraph could not transform <function <lambda> at 0x7f221e309e60> and will run it as-is.\n",
            "Cause: could not parse the source code of <function <lambda> at 0x7f221e309e60>: no matching AST found\n",
            "To silence this warning, decorate the function with @tf.autograph.experimental.do_not_convert\n"
          ]
        },
        {
          "output_type": "stream",
          "name": "stderr",
          "text": [
            "WARNING:tensorflow:AutoGraph could not transform <function <lambda> at 0x7f221e309e60> and will run it as-is.\n",
            "Cause: could not parse the source code of <function <lambda> at 0x7f221e309e60>: no matching AST found\n",
            "To silence this warning, decorate the function with @tf.autograph.experimental.do_not_convert\n"
          ]
        },
        {
          "output_type": "stream",
          "name": "stdout",
          "text": [
            "WARNING: AutoGraph could not transform <function <lambda> at 0x7f221e309e60> and will run it as-is.\n",
            "Cause: could not parse the source code of <function <lambda> at 0x7f221e309e60>: no matching AST found\n",
            "To silence this warning, decorate the function with @tf.autograph.experimental.do_not_convert\n",
            "CPU times: user 1min 36s, sys: 11.3 s, total: 1min 47s\n",
            "Wall time: 1min 15s\n"
          ]
        }
      ]
    },
    {
      "cell_type": "code",
      "metadata": {
        "colab": {
          "base_uri": "https://localhost:8080/"
        },
        "id": "fCUJxfm2vKkD",
        "outputId": "da6e5d53-bc76-4997-acd4-0ed0528633b8"
      },
      "source": [
        "vocab_250[:20]"
      ],
      "execution_count": null,
      "outputs": [
        {
          "output_type": "execute_result",
          "data": {
            "text/plain": [
              "array(['', '[UNK]', 'the', 'a', 'to', 'of', 'in', 'and', 'on', 'for',\n",
              "       'that', '39s', 'with', 'its', 'as', 'at', 'is', 'said', 'by', 'it'],\n",
              "      dtype='<U13')"
            ]
          },
          "metadata": {},
          "execution_count": 20
        }
      ]
    },
    {
      "cell_type": "code",
      "metadata": {
        "colab": {
          "base_uri": "https://localhost:8080/"
        },
        "id": "YTZA8NgSvKn2",
        "outputId": "a7044af0-31a3-4d0b-e40a-e9bc55068b38"
      },
      "source": [
        "example = \"the dog ran after a red ball as it rolled by the hat on the ground.\"\n",
        "encoder_250(example)"
      ],
      "execution_count": null,
      "outputs": [
        {
          "output_type": "execute_result",
          "data": {
            "text/plain": [
              "<tf.Tensor: shape=(16,), dtype=int64, numpy=\n",
              "array([  2,   1,   1,  29,   3, 232,   1,  14,  19,   1,  18,   2,   1,\n",
              "         8,   2,   1])>"
            ]
          },
          "metadata": {},
          "execution_count": 21
        }
      ]
    },
    {
      "cell_type": "code",
      "metadata": {
        "colab": {
          "base_uri": "https://localhost:8080/"
        },
        "id": "uyCXtD3OsOZ4",
        "outputId": "f39439fe-1413-43d6-9ff6-d0dfd371677b"
      },
      "source": [
        "for word in example.split():\n",
        "  print(f'\"{word}\" is {\"*not* \" if word not in vocab_250  else \"\"}in the vocabulary.')"
      ],
      "execution_count": null,
      "outputs": [
        {
          "output_type": "stream",
          "name": "stdout",
          "text": [
            "\"the\" is in the vocabulary.\n",
            "\"dog\" is *not* in the vocabulary.\n",
            "\"ran\" is *not* in the vocabulary.\n",
            "\"after\" is in the vocabulary.\n",
            "\"a\" is in the vocabulary.\n",
            "\"red\" is in the vocabulary.\n",
            "\"ball\" is *not* in the vocabulary.\n",
            "\"as\" is in the vocabulary.\n",
            "\"it\" is in the vocabulary.\n",
            "\"rolled\" is *not* in the vocabulary.\n",
            "\"by\" is in the vocabulary.\n",
            "\"the\" is in the vocabulary.\n",
            "\"hat\" is *not* in the vocabulary.\n",
            "\"on\" is in the vocabulary.\n",
            "\"the\" is in the vocabulary.\n",
            "\"ground.\" is *not* in the vocabulary.\n"
          ]
        }
      ]
    },
    {
      "cell_type": "code",
      "metadata": {
        "colab": {
          "base_uri": "https://localhost:8080/"
        },
        "id": "Ufq5Vt7_sOju",
        "outputId": "95e8407c-7278-4e5e-9faf-7dfa36ee825b"
      },
      "source": [
        "%%time\n",
        "doc250_sizes = []\n",
        "corpus250 = []\n",
        "count250=0\n",
        "useless = 0\n",
        "# stop = 0\n",
        "percents = []\n",
        "for example, _ in dataset_all.as_numpy_iterator():\n",
        "  # stop+=1\n",
        "  # if stop > 5: break\n",
        "  enc_example = encoder_250(example)\n",
        "  num_ones = tf.math.count_nonzero(enc_example==1).numpy()\n",
        "  percent_ones = round(num_ones*100/len(enc_example))\n",
        "  # print(f\"{percent_ones}%\")\n",
        "  percents.append(percent_ones)\n",
        "\n",
        "  s = set(list(enc_example.numpy()))\n",
        "  if s == {1}: useless+=1\n",
        "\n",
        "  doc250_sizes.append(len(enc_example))\n",
        "  corpus250+=list(enc_example.numpy())\n",
        "\n",
        "  count250 += tf.math.count_nonzero(enc_example>1)"
      ],
      "execution_count": null,
      "outputs": [
        {
          "output_type": "stream",
          "name": "stdout",
          "text": [
            "CPU times: user 8min 12s, sys: 9.26 s, total: 8min 21s\n",
            "Wall time: 8min 5s\n"
          ]
        }
      ]
    },
    {
      "cell_type": "code",
      "metadata": {
        "colab": {
          "base_uri": "https://localhost:8080/"
        },
        "id": "qOQqzQy4sOtR",
        "outputId": "0224638f-c4fd-451f-d028-ae6a01495d13"
      },
      "source": [
        "print(f\"Each news article has between {min(doc250_sizes)} and {max(doc250_sizes)} tokens in it.\")"
      ],
      "execution_count": null,
      "outputs": [
        {
          "output_type": "stream",
          "name": "stdout",
          "text": [
            "Each news article has between 3 and 173 tokens in it.\n"
          ]
        }
      ]
    },
    {
      "cell_type": "code",
      "metadata": {
        "colab": {
          "base_uri": "https://localhost:8080/"
        },
        "id": "YtD_qb3AsO3O",
        "outputId": "0fef1d8e-4d34-488f-e6c2-1f1fa52eb216"
      },
      "source": [
        "Counter(percents).most_common(10)\n",
        "np.unique(percents, return_counts=True)"
      ],
      "execution_count": null,
      "outputs": [
        {
          "output_type": "execute_result",
          "data": {
            "text/plain": [
              "(array([ 12,  13,  14,  15,  18,  19,  20,  21,  22,  23,  24,  25,  26,\n",
              "         27,  28,  29,  30,  31,  32,  33,  34,  35,  36,  37,  38,  39,\n",
              "         40,  41,  42,  43,  44,  45,  46,  47,  48,  49,  50,  51,  52,\n",
              "         53,  54,  55,  56,  57,  58,  59,  60,  61,  62,  63,  64,  65,\n",
              "         66,  67,  68,  69,  70,  71,  72,  73,  74,  75,  76,  77,  78,\n",
              "         79,  80,  81,  82,  83,  84,  85,  86,  87,  88,  89,  90,  91,\n",
              "         92,  93,  94,  95,  96,  97, 100]),\n",
              " array([    2,     1,     1,     1,     4,     7,    11,    14,    18,\n",
              "           38,    44,    45,    79,    84,   113,   231,   296,   360,\n",
              "          583,   766,   511,  1065,  1180,  1186,  2458,  2310,  2019,\n",
              "         3426,  3849,  3755,  4793,  4499,  4876,  4957,  7253,  2640,\n",
              "        10073,  2458,  7656,  5276,  5124,  5102,  5197,  4532,  4426,\n",
              "         3981,  2547,  2737,  3385,  1350,  1750,  1644,   531,  1603,\n",
              "          920,   632,   534,   572,   241,   315,   154,   294,   119,\n",
              "          117,   111,    93,   122,    46,    77,    74,    16,    28,\n",
              "           47,    19,    54,    33,    22,    13,    12,     9,    10,\n",
              "            5,     4,     7,    53]))"
            ]
          },
          "metadata": {},
          "execution_count": 78
        }
      ]
    },
    {
      "cell_type": "code",
      "metadata": {
        "colab": {
          "base_uri": "https://localhost:8080/",
          "height": 551
        },
        "id": "jGFko8ARsPKJ",
        "outputId": "68fde79d-399f-45bd-8371-c531fcea7849"
      },
      "source": [
        "plt.figure(figsize=(15,9))\n",
        "plt.hist(percents, 20)\n",
        "plt.ylabel('Number of Documents')\n",
        "plt.xlabel('Percent of Non-Vocabulary Words in a Document');"
      ],
      "execution_count": null,
      "outputs": [
        {
          "output_type": "display_data",
          "data": {
            "image/png": "[encoded data removed]",
            "text/plain": [
              "<Figure size 1080x648 with 1 Axes>"
            ]
          },
          "metadata": {
            "needs_background": "light"
          }
        }
      ]
    },
    {
      "cell_type": "code",
      "metadata": {
        "colab": {
          "base_uri": "https://localhost:8080/"
        },
        "id": "7udslwj9yEoZ",
        "outputId": "70deed3e-1c4e-4d9e-fd1c-92f8c2cd68ab"
      },
      "source": [
        "print(f\"There are {count250} top {len(vocab_250)} vocabulary words in the corpus.\")"
      ],
      "execution_count": null,
      "outputs": [
        {
          "output_type": "stream",
          "name": "stdout",
          "text": [
            "There are 1925982 top 250 vocabulary words in the corpus.\n"
          ]
        }
      ]
    },
    {
      "cell_type": "code",
      "metadata": {
        "id": "YFBmLU2C3NFa"
      },
      "source": [
        "num_classes = 4\n",
        "model = tf.keras.Sequential([\n",
        "                              encoder_250\n",
        "                              ,tf.keras.layers.Embedding(input_dim=len(encoder_250.get_vocabulary())\n",
        "                              ,output_dim=64\n",
        "                                # Use masking to handle the variable sequence lengths\n",
        "                              ,mask_zero=True)\n",
        "                              ,tf.keras.layers.Bidirectional(tf.keras.layers.LSTM(64))\n",
        "                              ,tf.keras.layers.Dense(64, activation='relu')\n",
        "                              ,tf.keras.layers.Dense(num_classes,activation='softmax')   # num_classes = 4\n",
        "])"
      ],
      "execution_count": null,
      "outputs": []
    },
    {
      "cell_type": "code",
      "metadata": {
        "id": "jDy5LIoE3NJ7"
      },
      "source": [
        "model.compile(optimizer=tf.keras.optimizers.Adam(1e-4)\n",
        "              ,loss=tf.keras.losses.SparseCategoricalCrossentropy() # if we set from_logits=True we don not have specify a softmax activation function in the last layer\n",
        "              ,metrics=['accuracy'])"
      ],
      "execution_count": null,
      "outputs": []
    },
    {
      "cell_type": "code",
      "metadata": {
        "colab": {
          "base_uri": "https://localhost:8080/"
        },
        "id": "3ZA0UDLF3NQw",
        "outputId": "cf7dd6d5-abd2-46d2-f914-e53f545c2c41"
      },
      "source": [
        "history = model.fit(train_dataset\n",
        "                    ,epochs = 200\n",
        "                    ,validation_data=validation_dataset\n",
        "                    ,callbacks=[tf.keras.callbacks.EarlyStopping(monitor='val_accuracy', patience=2)]\n",
        "                    )\n"
      ],
      "execution_count": null,
      "outputs": [
        {
          "output_type": "stream",
          "name": "stdout",
          "text": [
            "Epoch 1/200\n",
            "1782/1782 [==============================] - 253s 137ms/step - loss: 0.9113 - accuracy: 0.6353 - val_loss: 0.7215 - val_accuracy: 0.7222\n",
            "Epoch 2/200\n",
            "1782/1782 [==============================] - 240s 135ms/step - loss: 0.6912 - accuracy: 0.7306 - val_loss: 0.6771 - val_accuracy: 0.7398\n",
            "Epoch 3/200\n",
            "1782/1782 [==============================] - 240s 135ms/step - loss: 0.6598 - accuracy: 0.7436 - val_loss: 0.6416 - val_accuracy: 0.7578\n",
            "Epoch 4/200\n",
            "1782/1782 [==============================] - 243s 136ms/step - loss: 0.6358 - accuracy: 0.7542 - val_loss: 0.6280 - val_accuracy: 0.7595\n",
            "Epoch 5/200\n",
            "1782/1782 [==============================] - 243s 136ms/step - loss: 0.6240 - accuracy: 0.7590 - val_loss: 0.6172 - val_accuracy: 0.7658\n",
            "Epoch 6/200\n",
            "1782/1782 [==============================] - 243s 136ms/step - loss: 0.6187 - accuracy: 0.7620 - val_loss: 0.6168 - val_accuracy: 0.7608\n",
            "Epoch 7/200\n",
            "1782/1782 [==============================] - 242s 136ms/step - loss: 0.6137 - accuracy: 0.7629 - val_loss: 0.6100 - val_accuracy: 0.7698\n",
            "Epoch 8/200\n",
            "1782/1782 [==============================] - 243s 136ms/step - loss: 0.6104 - accuracy: 0.7640 - val_loss: 0.6072 - val_accuracy: 0.7690\n",
            "Epoch 9/200\n",
            "1782/1782 [==============================] - 242s 136ms/step - loss: 0.6074 - accuracy: 0.7653 - val_loss: 0.6063 - val_accuracy: 0.7718\n",
            "Epoch 10/200\n",
            "1782/1782 [==============================] - 242s 136ms/step - loss: 0.6045 - accuracy: 0.7667 - val_loss: 0.6153 - val_accuracy: 0.7668\n",
            "Epoch 11/200\n",
            "1782/1782 [==============================] - 243s 136ms/step - loss: 0.6024 - accuracy: 0.7666 - val_loss: 0.6030 - val_accuracy: 0.7682\n"
          ]
        }
      ]
    },
    {
      "cell_type": "code",
      "metadata": {
        "colab": {
          "base_uri": "https://localhost:8080/"
        },
        "id": "BN6Dycv83NY1",
        "outputId": "f689d42a-ad6b-4d1f-9be1-0d503576cf84"
      },
      "source": [
        "test_loss, test_acc = model.evaluate(test_dataset)\n",
        "\n",
        "print('Test Loss: {}'.format(test_loss))\n",
        "print('Test Accuracy: {}'.format(test_acc))"
      ],
      "execution_count": null,
      "outputs": [
        {
          "output_type": "stream",
          "name": "stdout",
          "text": [
            "119/119 [==============================] - 5s 39ms/step - loss: 0.6212 - accuracy: 0.7609\n",
            "Test Loss: 0.6211650371551514\n",
            "Test Accuracy: 0.760921061038971\n"
          ]
        }
      ]
    },
    {
      "cell_type": "code",
      "metadata": {
        "id": "l5NTyO4J2Kle"
      },
      "source": [
        "preds = model.predict(test_dataset)"
      ],
      "execution_count": null,
      "outputs": []
    },
    {
      "cell_type": "code",
      "metadata": {
        "id": "5gVVYIrk2KwV"
      },
      "source": [
        "cm = sns.light_palette((260, 75, 60), input=\"husl\", as_cmap=True)"
      ],
      "execution_count": null,
      "outputs": []
    },
    {
      "cell_type": "code",
      "metadata": {
        "colab": {
          "base_uri": "https://localhost:8080/",
          "height": 173
        },
        "id": "jkJBQZTD2bqZ",
        "outputId": "3a424200-c158-4418-bc31-a562d146dff5"
      },
      "source": [
        "df = pd.DataFrame(preds[0:15]\n",
        "                  ,columns = ['World','Sports','Business','Sci/Tech']).T\n",
        "df.style.format(\"{:.2%}\").background_gradient(cmap=cm)"
      ],
      "execution_count": null,
      "outputs": [
        {
          "output_type": "execute_result",
          "data": {
            "text/html": [
              "<style  type=\"text/css\" >\n",
              "#T_234587a6_39b5_11ec_9f4c_0242ac1c0002row0_col0,#T_234587a6_39b5_11ec_9f4c_0242ac1c0002row0_col2,#T_234587a6_39b5_11ec_9f4c_0242ac1c0002row1_col1,#T_234587a6_39b5_11ec_9f4c_0242ac1c0002row1_col2,#T_234587a6_39b5_11ec_9f4c_0242ac1c0002row1_col4,#T_234587a6_39b5_11ec_9f4c_0242ac1c0002row1_col5,#T_234587a6_39b5_11ec_9f4c_0242ac1c0002row1_col8,#T_234587a6_39b5_11ec_9f4c_0242ac1c0002row1_col9,#T_234587a6_39b5_11ec_9f4c_0242ac1c0002row1_col10,#T_234587a6_39b5_11ec_9f4c_0242ac1c0002row1_col12,#T_234587a6_39b5_11ec_9f4c_0242ac1c0002row1_col14,#T_234587a6_39b5_11ec_9f4c_0242ac1c0002row2_col0,#T_234587a6_39b5_11ec_9f4c_0242ac1c0002row2_col3,#T_234587a6_39b5_11ec_9f4c_0242ac1c0002row2_col6,#T_234587a6_39b5_11ec_9f4c_0242ac1c0002row2_col7,#T_234587a6_39b5_11ec_9f4c_0242ac1c0002row2_col11,#T_234587a6_39b5_11ec_9f4c_0242ac1c0002row2_col14,#T_234587a6_39b5_11ec_9f4c_0242ac1c0002row3_col0,#T_234587a6_39b5_11ec_9f4c_0242ac1c0002row3_col1,#T_234587a6_39b5_11ec_9f4c_0242ac1c0002row3_col3,#T_234587a6_39b5_11ec_9f4c_0242ac1c0002row3_col4,#T_234587a6_39b5_11ec_9f4c_0242ac1c0002row3_col10,#T_234587a6_39b5_11ec_9f4c_0242ac1c0002row3_col13,#T_234587a6_39b5_11ec_9f4c_0242ac1c0002row3_col14{\n",
              "            background-color:  #f0f1f2;\n",
              "            color:  #000000;\n",
              "        }#T_234587a6_39b5_11ec_9f4c_0242ac1c0002row0_col1,#T_234587a6_39b5_11ec_9f4c_0242ac1c0002row0_col4,#T_234587a6_39b5_11ec_9f4c_0242ac1c0002row0_col8,#T_234587a6_39b5_11ec_9f4c_0242ac1c0002row0_col10,#T_234587a6_39b5_11ec_9f4c_0242ac1c0002row0_col13,#T_234587a6_39b5_11ec_9f4c_0242ac1c0002row0_col14,#T_234587a6_39b5_11ec_9f4c_0242ac1c0002row1_col0,#T_234587a6_39b5_11ec_9f4c_0242ac1c0002row1_col3,#T_234587a6_39b5_11ec_9f4c_0242ac1c0002row1_col6,#T_234587a6_39b5_11ec_9f4c_0242ac1c0002row1_col7,#T_234587a6_39b5_11ec_9f4c_0242ac1c0002row2_col9,#T_234587a6_39b5_11ec_9f4c_0242ac1c0002row2_col12,#T_234587a6_39b5_11ec_9f4c_0242ac1c0002row3_col2,#T_234587a6_39b5_11ec_9f4c_0242ac1c0002row3_col5,#T_234587a6_39b5_11ec_9f4c_0242ac1c0002row3_col11{\n",
              "            background-color:  #778ce4;\n",
              "            color:  #000000;\n",
              "        }#T_234587a6_39b5_11ec_9f4c_0242ac1c0002row0_col3{\n",
              "            background-color:  #edeef2;\n",
              "            color:  #000000;\n",
              "        }#T_234587a6_39b5_11ec_9f4c_0242ac1c0002row0_col5,#T_234587a6_39b5_11ec_9f4c_0242ac1c0002row3_col7{\n",
              "            background-color:  #eeeff2;\n",
              "            color:  #000000;\n",
              "        }#T_234587a6_39b5_11ec_9f4c_0242ac1c0002row0_col6,#T_234587a6_39b5_11ec_9f4c_0242ac1c0002row1_col11{\n",
              "            background-color:  #dce0f0;\n",
              "            color:  #000000;\n",
              "        }#T_234587a6_39b5_11ec_9f4c_0242ac1c0002row0_col7{\n",
              "            background-color:  #e3e5f1;\n",
              "            color:  #000000;\n",
              "        }#T_234587a6_39b5_11ec_9f4c_0242ac1c0002row0_col9{\n",
              "            background-color:  #ebecf2;\n",
              "            color:  #000000;\n",
              "        }#T_234587a6_39b5_11ec_9f4c_0242ac1c0002row0_col11,#T_234587a6_39b5_11ec_9f4c_0242ac1c0002row2_col13{\n",
              "            background-color:  #e7e9f1;\n",
              "            color:  #000000;\n",
              "        }#T_234587a6_39b5_11ec_9f4c_0242ac1c0002row0_col12{\n",
              "            background-color:  #d8dcef;\n",
              "            color:  #000000;\n",
              "        }#T_234587a6_39b5_11ec_9f4c_0242ac1c0002row1_col13{\n",
              "            background-color:  #dde0f0;\n",
              "            color:  #000000;\n",
              "        }#T_234587a6_39b5_11ec_9f4c_0242ac1c0002row2_col1{\n",
              "            background-color:  #e6e8f1;\n",
              "            color:  #000000;\n",
              "        }#T_234587a6_39b5_11ec_9f4c_0242ac1c0002row2_col2{\n",
              "            background-color:  #e9ebf1;\n",
              "            color:  #000000;\n",
              "        }#T_234587a6_39b5_11ec_9f4c_0242ac1c0002row2_col4{\n",
              "            background-color:  #f0f0f2;\n",
              "            color:  #000000;\n",
              "        }#T_234587a6_39b5_11ec_9f4c_0242ac1c0002row2_col5,#T_234587a6_39b5_11ec_9f4c_0242ac1c0002row3_col8{\n",
              "            background-color:  #d3d8ef;\n",
              "            color:  #000000;\n",
              "        }#T_234587a6_39b5_11ec_9f4c_0242ac1c0002row2_col8{\n",
              "            background-color:  #eaebf1;\n",
              "            color:  #000000;\n",
              "        }#T_234587a6_39b5_11ec_9f4c_0242ac1c0002row2_col10,#T_234587a6_39b5_11ec_9f4c_0242ac1c0002row3_col12{\n",
              "            background-color:  #efeff2;\n",
              "            color:  #000000;\n",
              "        }#T_234587a6_39b5_11ec_9f4c_0242ac1c0002row3_col6{\n",
              "            background-color:  #e8eaf1;\n",
              "            color:  #000000;\n",
              "        }#T_234587a6_39b5_11ec_9f4c_0242ac1c0002row3_col9{\n",
              "            background-color:  #e1e4f0;\n",
              "            color:  #000000;\n",
              "        }</style><table id=\"T_234587a6_39b5_11ec_9f4c_0242ac1c0002\" class=\"dataframe\"><thead>    <tr>        <th class=\"blank level0\" ></th>        <th class=\"col_heading level0 col0\" >0</th>        <th class=\"col_heading level0 col1\" >1</th>        <th class=\"col_heading level0 col2\" >2</th>        <th class=\"col_heading level0 col3\" >3</th>        <th class=\"col_heading level0 col4\" >4</th>        <th class=\"col_heading level0 col5\" >5</th>        <th class=\"col_heading level0 col6\" >6</th>        <th class=\"col_heading level0 col7\" >7</th>        <th class=\"col_heading level0 col8\" >8</th>        <th class=\"col_heading level0 col9\" >9</th>        <th class=\"col_heading level0 col10\" >10</th>        <th class=\"col_heading level0 col11\" >11</th>        <th class=\"col_heading level0 col12\" >12</th>        <th class=\"col_heading level0 col13\" >13</th>        <th class=\"col_heading level0 col14\" >14</th>    </tr></thead><tbody>\n",
              "                <tr>\n",
              "                        <th id=\"T_234587a6_39b5_11ec_9f4c_0242ac1c0002level0_row0\" class=\"row_heading level0 row0\" >World</th>\n",
              "                        <td id=\"T_234587a6_39b5_11ec_9f4c_0242ac1c0002row0_col0\" class=\"data row0 col0\" >0.13%</td>\n",
              "                        <td id=\"T_234587a6_39b5_11ec_9f4c_0242ac1c0002row0_col1\" class=\"data row0 col1\" >82.87%</td>\n",
              "                        <td id=\"T_234587a6_39b5_11ec_9f4c_0242ac1c0002row0_col2\" class=\"data row0 col2\" >0.41%</td>\n",
              "                        <td id=\"T_234587a6_39b5_11ec_9f4c_0242ac1c0002row0_col3\" class=\"data row0 col3\" >2.79%</td>\n",
              "                        <td id=\"T_234587a6_39b5_11ec_9f4c_0242ac1c0002row0_col4\" class=\"data row0 col4\" >97.20%</td>\n",
              "                        <td id=\"T_234587a6_39b5_11ec_9f4c_0242ac1c0002row0_col5\" class=\"data row0 col5\" >2.10%</td>\n",
              "                        <td id=\"T_234587a6_39b5_11ec_9f4c_0242ac1c0002row0_col6\" class=\"data row0 col6\" >15.93%</td>\n",
              "                        <td id=\"T_234587a6_39b5_11ec_9f4c_0242ac1c0002row0_col7\" class=\"data row0 col7\" >9.91%</td>\n",
              "                        <td id=\"T_234587a6_39b5_11ec_9f4c_0242ac1c0002row0_col8\" class=\"data row0 col8\" >74.48%</td>\n",
              "                        <td id=\"T_234587a6_39b5_11ec_9f4c_0242ac1c0002row0_col9\" class=\"data row0 col9\" >4.02%</td>\n",
              "                        <td id=\"T_234587a6_39b5_11ec_9f4c_0242ac1c0002row0_col10\" class=\"data row0 col10\" >97.98%</td>\n",
              "                        <td id=\"T_234587a6_39b5_11ec_9f4c_0242ac1c0002row0_col11\" class=\"data row0 col11\" >10.74%</td>\n",
              "                        <td id=\"T_234587a6_39b5_11ec_9f4c_0242ac1c0002row0_col12\" class=\"data row0 col12\" >17.28%</td>\n",
              "                        <td id=\"T_234587a6_39b5_11ec_9f4c_0242ac1c0002row0_col13\" class=\"data row0 col13\" >67.54%</td>\n",
              "                        <td id=\"T_234587a6_39b5_11ec_9f4c_0242ac1c0002row0_col14\" class=\"data row0 col14\" >99.55%</td>\n",
              "            </tr>\n",
              "            <tr>\n",
              "                        <th id=\"T_234587a6_39b5_11ec_9f4c_0242ac1c0002level0_row1\" class=\"row_heading level0 row1\" >Sports</th>\n",
              "                        <td id=\"T_234587a6_39b5_11ec_9f4c_0242ac1c0002row1_col0\" class=\"data row1 col0\" >99.79%</td>\n",
              "                        <td id=\"T_234587a6_39b5_11ec_9f4c_0242ac1c0002row1_col1\" class=\"data row1 col1\" >3.41%</td>\n",
              "                        <td id=\"T_234587a6_39b5_11ec_9f4c_0242ac1c0002row1_col2\" class=\"data row1 col2\" >0.63%</td>\n",
              "                        <td id=\"T_234587a6_39b5_11ec_9f4c_0242ac1c0002row1_col3\" class=\"data row1 col3\" >96.28%</td>\n",
              "                        <td id=\"T_234587a6_39b5_11ec_9f4c_0242ac1c0002row1_col4\" class=\"data row1 col4\" >0.79%</td>\n",
              "                        <td id=\"T_234587a6_39b5_11ec_9f4c_0242ac1c0002row1_col5\" class=\"data row1 col5\" >0.34%</td>\n",
              "                        <td id=\"T_234587a6_39b5_11ec_9f4c_0242ac1c0002row1_col6\" class=\"data row1 col6\" >68.65%</td>\n",
              "                        <td id=\"T_234587a6_39b5_11ec_9f4c_0242ac1c0002row1_col7\" class=\"data row1 col7\" >87.64%</td>\n",
              "                        <td id=\"T_234587a6_39b5_11ec_9f4c_0242ac1c0002row1_col8\" class=\"data row1 col8\" >1.21%</td>\n",
              "                        <td id=\"T_234587a6_39b5_11ec_9f4c_0242ac1c0002row1_col9\" class=\"data row1 col9\" >0.07%</td>\n",
              "                        <td id=\"T_234587a6_39b5_11ec_9f4c_0242ac1c0002row1_col10\" class=\"data row1 col10\" >0.44%</td>\n",
              "                        <td id=\"T_234587a6_39b5_11ec_9f4c_0242ac1c0002row1_col11\" class=\"data row1 col11\" >16.14%</td>\n",
              "                        <td id=\"T_234587a6_39b5_11ec_9f4c_0242ac1c0002row1_col12\" class=\"data row1 col12\" >2.30%</td>\n",
              "                        <td id=\"T_234587a6_39b5_11ec_9f4c_0242ac1c0002row1_col13\" class=\"data row1 col13\" >15.90%</td>\n",
              "                        <td id=\"T_234587a6_39b5_11ec_9f4c_0242ac1c0002row1_col14\" class=\"data row1 col14\" >0.03%</td>\n",
              "            </tr>\n",
              "            <tr>\n",
              "                        <th id=\"T_234587a6_39b5_11ec_9f4c_0242ac1c0002level0_row2\" class=\"row_heading level0 row2\" >Business</th>\n",
              "                        <td id=\"T_234587a6_39b5_11ec_9f4c_0242ac1c0002row2_col0\" class=\"data row2 col0\" >0.03%</td>\n",
              "                        <td id=\"T_234587a6_39b5_11ec_9f4c_0242ac1c0002row2_col1\" class=\"data row2 col1\" >10.23%</td>\n",
              "                        <td id=\"T_234587a6_39b5_11ec_9f4c_0242ac1c0002row2_col2\" class=\"data row2 col2\" >5.89%</td>\n",
              "                        <td id=\"T_234587a6_39b5_11ec_9f4c_0242ac1c0002row2_col3\" class=\"data row2 col3\" >0.39%</td>\n",
              "                        <td id=\"T_234587a6_39b5_11ec_9f4c_0242ac1c0002row2_col4\" class=\"data row2 col4\" >1.30%</td>\n",
              "                        <td id=\"T_234587a6_39b5_11ec_9f4c_0242ac1c0002row2_col5\" class=\"data row2 col5\" >19.47%</td>\n",
              "                        <td id=\"T_234587a6_39b5_11ec_9f4c_0242ac1c0002row2_col6\" class=\"data row2 col6\" >5.55%</td>\n",
              "                        <td id=\"T_234587a6_39b5_11ec_9f4c_0242ac1c0002row2_col7\" class=\"data row2 col7\" >0.29%</td>\n",
              "                        <td id=\"T_234587a6_39b5_11ec_9f4c_0242ac1c0002row2_col8\" class=\"data row2 col8\" >5.12%</td>\n",
              "                        <td id=\"T_234587a6_39b5_11ec_9f4c_0242ac1c0002row2_col9\" class=\"data row2 col9\" >85.45%</td>\n",
              "                        <td id=\"T_234587a6_39b5_11ec_9f4c_0242ac1c0002row2_col10\" class=\"data row2 col10\" >1.39%</td>\n",
              "                        <td id=\"T_234587a6_39b5_11ec_9f4c_0242ac1c0002row2_col11\" class=\"data row2 col11\" >5.94%</td>\n",
              "                        <td id=\"T_234587a6_39b5_11ec_9f4c_0242ac1c0002row2_col12\" class=\"data row2 col12\" >77.23%</td>\n",
              "                        <td id=\"T_234587a6_39b5_11ec_9f4c_0242ac1c0002row2_col13\" class=\"data row2 col13\" >10.59%</td>\n",
              "                        <td id=\"T_234587a6_39b5_11ec_9f4c_0242ac1c0002row2_col14\" class=\"data row2 col14\" >0.36%</td>\n",
              "            </tr>\n",
              "            <tr>\n",
              "                        <th id=\"T_234587a6_39b5_11ec_9f4c_0242ac1c0002level0_row3\" class=\"row_heading level0 row3\" >Sci/Tech</th>\n",
              "                        <td id=\"T_234587a6_39b5_11ec_9f4c_0242ac1c0002row3_col0\" class=\"data row3 col0\" >0.04%</td>\n",
              "                        <td id=\"T_234587a6_39b5_11ec_9f4c_0242ac1c0002row3_col1\" class=\"data row3 col1\" >3.48%</td>\n",
              "                        <td id=\"T_234587a6_39b5_11ec_9f4c_0242ac1c0002row3_col2\" class=\"data row3 col2\" >93.07%</td>\n",
              "                        <td id=\"T_234587a6_39b5_11ec_9f4c_0242ac1c0002row3_col3\" class=\"data row3 col3\" >0.55%</td>\n",
              "                        <td id=\"T_234587a6_39b5_11ec_9f4c_0242ac1c0002row3_col4\" class=\"data row3 col4\" >0.70%</td>\n",
              "                        <td id=\"T_234587a6_39b5_11ec_9f4c_0242ac1c0002row3_col5\" class=\"data row3 col5\" >78.08%</td>\n",
              "                        <td id=\"T_234587a6_39b5_11ec_9f4c_0242ac1c0002row3_col6\" class=\"data row3 col6\" >9.87%</td>\n",
              "                        <td id=\"T_234587a6_39b5_11ec_9f4c_0242ac1c0002row3_col7\" class=\"data row3 col7\" >2.16%</td>\n",
              "                        <td id=\"T_234587a6_39b5_11ec_9f4c_0242ac1c0002row3_col8\" class=\"data row3 col8\" >19.20%</td>\n",
              "                        <td id=\"T_234587a6_39b5_11ec_9f4c_0242ac1c0002row3_col9\" class=\"data row3 col9\" >10.47%</td>\n",
              "                        <td id=\"T_234587a6_39b5_11ec_9f4c_0242ac1c0002row3_col10\" class=\"data row3 col10\" >0.19%</td>\n",
              "                        <td id=\"T_234587a6_39b5_11ec_9f4c_0242ac1c0002row3_col11\" class=\"data row3 col11\" >67.19%</td>\n",
              "                        <td id=\"T_234587a6_39b5_11ec_9f4c_0242ac1c0002row3_col12\" class=\"data row3 col12\" >3.19%</td>\n",
              "                        <td id=\"T_234587a6_39b5_11ec_9f4c_0242ac1c0002row3_col13\" class=\"data row3 col13\" >5.97%</td>\n",
              "                        <td id=\"T_234587a6_39b5_11ec_9f4c_0242ac1c0002row3_col14\" class=\"data row3 col14\" >0.06%</td>\n",
              "            </tr>\n",
              "    </tbody></table>"
            ],
            "text/plain": [
              "<pandas.io.formats.style.Styler at 0x7f221dbcddd0>"
            ]
          },
          "metadata": {},
          "execution_count": 30
        }
      ]
    },
    {
      "cell_type": "markdown",
      "metadata": {
        "id": "M_uu7h-20cAt"
      },
      "source": [
        "Vocabulary of 500"
      ]
    },
    {
      "cell_type": "code",
      "metadata": {
        "colab": {
          "base_uri": "https://localhost:8080/"
        },
        "id": "EGif65-f0VGo",
        "outputId": "ccaefdae-a7f6-4296-92c4-fea60d07754c"
      },
      "source": [
        "%%time\n",
        "encoder_500 = tf.keras.layers.experimental.preprocessing.TextVectorization(max_tokens=500)\n",
        "encoder_500.adapt(dataset_all.map(lambda text, label: text))\n",
        "vocab_500 = np.array(encoder_500.get_vocabulary());"
      ],
      "execution_count": null,
      "outputs": [
        {
          "output_type": "stream",
          "name": "stdout",
          "text": [
            "WARNING:tensorflow:AutoGraph could not transform <function <lambda> at 0x7f221dbd6170> and will run it as-is.\n",
            "Cause: could not parse the source code of <function <lambda> at 0x7f221dbd6170>: no matching AST found\n",
            "To silence this warning, decorate the function with @tf.autograph.experimental.do_not_convert\n"
          ]
        },
        {
          "output_type": "stream",
          "name": "stderr",
          "text": [
            "WARNING:tensorflow:AutoGraph could not transform <function <lambda> at 0x7f221dbd6170> and will run it as-is.\n",
            "Cause: could not parse the source code of <function <lambda> at 0x7f221dbd6170>: no matching AST found\n",
            "To silence this warning, decorate the function with @tf.autograph.experimental.do_not_convert\n"
          ]
        },
        {
          "output_type": "stream",
          "name": "stdout",
          "text": [
            "WARNING: AutoGraph could not transform <function <lambda> at 0x7f221dbd6170> and will run it as-is.\n",
            "Cause: could not parse the source code of <function <lambda> at 0x7f221dbd6170>: no matching AST found\n",
            "To silence this warning, decorate the function with @tf.autograph.experimental.do_not_convert\n",
            "CPU times: user 1min 41s, sys: 11 s, total: 1min 52s\n",
            "Wall time: 1min 22s\n"
          ]
        }
      ]
    },
    {
      "cell_type": "code",
      "metadata": {
        "colab": {
          "base_uri": "https://localhost:8080/"
        },
        "id": "e_wQG3zS0VLs",
        "outputId": "ab2c9910-defd-4c2e-9f27-f4c27a21561f"
      },
      "source": [
        "vocab_500[:20]"
      ],
      "execution_count": null,
      "outputs": [
        {
          "output_type": "execute_result",
          "data": {
            "text/plain": [
              "array(['', '[UNK]', 'the', 'a', 'to', 'of', 'in', 'and', 'on', 'for',\n",
              "       'that', '39s', 'with', 'its', 'as', 'at', 'is', 'said', 'by', 'it'],\n",
              "      dtype='<U13')"
            ]
          },
          "metadata": {},
          "execution_count": 32
        }
      ]
    },
    {
      "cell_type": "code",
      "metadata": {
        "colab": {
          "base_uri": "https://localhost:8080/"
        },
        "id": "aCEiil0T0VRY",
        "outputId": "d2651996-ea4e-4931-fddc-e3488a6b784f"
      },
      "source": [
        "example = \"the dog ran after a red ball as it rolled by the hat on the ground.\"\n",
        "encoder_500(example)"
      ],
      "execution_count": null,
      "outputs": [
        {
          "output_type": "execute_result",
          "data": {
            "text/plain": [
              "<tf.Tensor: shape=(16,), dtype=int64, numpy=\n",
              "array([  2,   1,   1,  29,   3, 232,   1,  14,  19,   1,  18,   2,   1,\n",
              "         8,   2,   1])>"
            ]
          },
          "metadata": {},
          "execution_count": 33
        }
      ]
    },
    {
      "cell_type": "code",
      "metadata": {
        "colab": {
          "base_uri": "https://localhost:8080/"
        },
        "id": "AP7Ja2xV0VVm",
        "outputId": "e1e20202-2998-4a53-c50c-20795f0dd407"
      },
      "source": [
        "for word in example.split():\n",
        "  print(f'\"{word}\" is {\"*not* \" if word not in vocab_500  else \"\"}in the vocabulary.')"
      ],
      "execution_count": null,
      "outputs": [
        {
          "output_type": "stream",
          "name": "stdout",
          "text": [
            "\"the\" is in the vocabulary.\n",
            "\"dog\" is *not* in the vocabulary.\n",
            "\"ran\" is *not* in the vocabulary.\n",
            "\"after\" is in the vocabulary.\n",
            "\"a\" is in the vocabulary.\n",
            "\"red\" is in the vocabulary.\n",
            "\"ball\" is *not* in the vocabulary.\n",
            "\"as\" is in the vocabulary.\n",
            "\"it\" is in the vocabulary.\n",
            "\"rolled\" is *not* in the vocabulary.\n",
            "\"by\" is in the vocabulary.\n",
            "\"the\" is in the vocabulary.\n",
            "\"hat\" is *not* in the vocabulary.\n",
            "\"on\" is in the vocabulary.\n",
            "\"the\" is in the vocabulary.\n",
            "\"ground.\" is *not* in the vocabulary.\n"
          ]
        }
      ]
    },
    {
      "cell_type": "code",
      "metadata": {
        "colab": {
          "base_uri": "https://localhost:8080/"
        },
        "id": "OSRpjc-C0Vb-",
        "outputId": "888e4ea6-819d-4224-8a10-69b4ab78be18"
      },
      "source": [
        "%%time\n",
        "doc500_sizes = []\n",
        "corpus500 = []\n",
        "count500=0\n",
        "useless = 0\n",
        "# stop = 0\n",
        "percents = []\n",
        "for example, _ in dataset_all.as_numpy_iterator():\n",
        "  # stop+=1\n",
        "  # if stop > 5: break\n",
        "  enc_example = encoder_500(example)\n",
        "  num_ones = tf.math.count_nonzero(enc_example==1).numpy()\n",
        "  percent_ones = round(num_ones*100/len(enc_example))\n",
        "  # print(f\"{percent_ones}%\")\n",
        "  percents.append(percent_ones)\n",
        "\n",
        "  s = set(list(enc_example.numpy()))\n",
        "  if s == {1}: useless+=1\n",
        "\n",
        "  doc500_sizes.append(len(enc_example))\n",
        "  corpus500+=list(enc_example.numpy())\n",
        "\n",
        "  count500 += tf.math.count_nonzero(enc_example>1)"
      ],
      "execution_count": null,
      "outputs": [
        {
          "output_type": "stream",
          "name": "stdout",
          "text": [
            "CPU times: user 8min 15s, sys: 9.69 s, total: 8min 25s\n",
            "Wall time: 8min 9s\n"
          ]
        }
      ]
    },
    {
      "cell_type": "code",
      "metadata": {
        "colab": {
          "base_uri": "https://localhost:8080/"
        },
        "id": "ZGROMYqK0Vgc",
        "outputId": "d916ff95-04fc-4089-9a0c-fe2470f1b9bd"
      },
      "source": [
        "print(f\"Each news article has between {min(doc500_sizes)} and {max(doc500_sizes)} tokens in it.\")"
      ],
      "execution_count": null,
      "outputs": [
        {
          "output_type": "stream",
          "name": "stdout",
          "text": [
            "Each news article has between 3 and 173 tokens in it.\n"
          ]
        }
      ]
    },
    {
      "cell_type": "code",
      "metadata": {
        "colab": {
          "base_uri": "https://localhost:8080/"
        },
        "id": "XKW_-kkT0Vl4",
        "outputId": "749a0fa9-b65f-4fdb-ee19-6bebe66648a8"
      },
      "source": [
        "Counter(percents).most_common(10)\n",
        "np.unique(percents, return_counts=True)"
      ],
      "execution_count": null,
      "outputs": [
        {
          "output_type": "execute_result",
          "data": {
            "text/plain": [
              "(array([  5,   7,   8,   9,  10,  11,  12,  13,  14,  15,  16,  17,  18,\n",
              "         19,  20,  21,  22,  23,  24,  25,  26,  27,  28,  29,  30,  31,\n",
              "         32,  33,  34,  35,  36,  37,  38,  39,  40,  41,  42,  43,  44,\n",
              "         45,  46,  47,  48,  49,  50,  51,  52,  53,  54,  55,  56,  57,\n",
              "         58,  59,  60,  61,  62,  63,  64,  65,  66,  67,  68,  69,  70,\n",
              "         71,  72,  73,  74,  75,  76,  77,  78,  79,  80,  81,  82,  83,\n",
              "         84,  85,  86,  87,  88,  89,  90,  91,  92,  93,  94,  95,  96,\n",
              "         97, 100]),\n",
              " array([   1,    2,    9,    8,    8,   10,   21,   14,   42,   46,   59,\n",
              "          98,  120,  204,  174,  365,  384,  495,  744,  733, 1150, 1142,\n",
              "        1371, 2210, 2209, 2553, 3492, 3940, 2593, 3943, 4288, 3427, 6516,\n",
              "        5252, 4123, 6147, 5897, 5304, 5635, 5049, 4641, 4398, 5752, 1546,\n",
              "        6892, 1077, 4240, 2508, 2207, 2133, 2070, 1674, 1529, 1237,  910,\n",
              "         707, 1041,  314,  502,  439,   87,  451,  180,  174,  132,  200,\n",
              "          64,   97,   47,  112,   44,   37,   41,   24,   72,   15,   30,\n",
              "          29,    9,   14,   27,    4,   26,   15,   13,    7,    6,    4,\n",
              "           3,    3,    1,    3,   34]))"
            ]
          },
          "metadata": {},
          "execution_count": 36
        }
      ]
    },
    {
      "cell_type": "code",
      "metadata": {
        "colab": {
          "base_uri": "https://localhost:8080/",
          "height": 551
        },
        "id": "i_wjHs0C0Vpg",
        "outputId": "9fb07eb2-e945-4c38-954e-1600fd051fb4"
      },
      "source": [
        "plt.figure(figsize=(15,9))\n",
        "plt.hist(percents, 20)\n",
        "plt.ylabel('Number of Documents')\n",
        "plt.xlabel('Percent of Non-Vocabulary Words in a Document');"
      ],
      "execution_count": null,
      "outputs": [
        {
          "output_type": "display_data",
          "data": {
            "image/png": "[encoded data removed]",
            "text/plain": [
              "<Figure size 1080x648 with 1 Axes>"
            ]
          },
          "metadata": {
            "needs_background": "light"
          }
        }
      ]
    },
    {
      "cell_type": "code",
      "metadata": {
        "colab": {
          "base_uri": "https://localhost:8080/"
        },
        "id": "UdIqhjO82kGJ",
        "outputId": "5ec97a82-a88d-4803-d37c-0c786f808d13"
      },
      "source": [
        "print(f\"There are {count500} top {len(vocab_500)} vocabulary words in the corpus.\")"
      ],
      "execution_count": null,
      "outputs": [
        {
          "output_type": "stream",
          "name": "stdout",
          "text": [
            "There are 2245833 top 500 vocabulary words in the corpus.\n"
          ]
        }
      ]
    },
    {
      "cell_type": "code",
      "metadata": {
        "id": "bicaQBnC13yR"
      },
      "source": [
        "num_classes = 4\n",
        "model = tf.keras.Sequential([\n",
        "                              encoder_500\n",
        "                              ,tf.keras.layers.Embedding(input_dim=len(encoder_500.get_vocabulary())\n",
        "                              ,output_dim=64\n",
        "                                # Use masking to handle the variable sequence lengths\n",
        "                              ,mask_zero=True)\n",
        "                              ,tf.keras.layers.Bidirectional(tf.keras.layers.LSTM(64))\n",
        "                              ,tf.keras.layers.Dense(64, activation='relu')\n",
        "                              ,tf.keras.layers.Dense(num_classes,activation='softmax')   # num_classes = 4\n",
        "])\n"
      ],
      "execution_count": null,
      "outputs": []
    },
    {
      "cell_type": "code",
      "metadata": {
        "id": "f2ia0wle1321"
      },
      "source": [
        "model.compile(optimizer=tf.keras.optimizers.Adam(1e-4)\n",
        "              ,loss=tf.keras.losses.SparseCategoricalCrossentropy() # if we set from_logits=True we don not have specify a softmax activation function in the last layer\n",
        "              ,metrics=['accuracy'])"
      ],
      "execution_count": null,
      "outputs": []
    },
    {
      "cell_type": "code",
      "metadata": {
        "colab": {
          "base_uri": "https://localhost:8080/"
        },
        "id": "vnyOS_33139e",
        "outputId": "a41fe0d5-6466-42be-df9c-3180df1adda0"
      },
      "source": [
        "history = model.fit(train_dataset\n",
        "                    ,epochs = 200\n",
        "                    ,validation_data=validation_dataset\n",
        "                    ,callbacks=[tf.keras.callbacks.EarlyStopping(monitor='val_accuracy', patience=2)]\n",
        "                    )"
      ],
      "execution_count": null,
      "outputs": [
        {
          "output_type": "stream",
          "name": "stdout",
          "text": [
            "Epoch 1/200\n",
            "1782/1782 [==============================] - 256s 139ms/step - loss: 0.5993 - accuracy: 0.7686 - val_loss: 0.6009 - val_accuracy: 0.7692\n",
            "Epoch 2/200\n",
            "1782/1782 [==============================] - 248s 139ms/step - loss: 0.5963 - accuracy: 0.7697 - val_loss: 0.6014 - val_accuracy: 0.7708\n",
            "Epoch 3/200\n",
            "1782/1782 [==============================] - 245s 137ms/step - loss: 0.5937 - accuracy: 0.7705 - val_loss: 0.6006 - val_accuracy: 0.7708\n",
            "Epoch 4/200\n",
            "1782/1782 [==============================] - 246s 138ms/step - loss: 0.5915 - accuracy: 0.7721 - val_loss: 0.5986 - val_accuracy: 0.7690\n"
          ]
        }
      ]
    },
    {
      "cell_type": "code",
      "metadata": {
        "colab": {
          "base_uri": "https://localhost:8080/"
        },
        "id": "iY8R48Hy14Nb",
        "outputId": "b311dbff-3d61-4230-ad31-c009273851c6"
      },
      "source": [
        "test_loss, test_acc = model.evaluate(test_dataset)\n",
        "\n",
        "print('Test Loss: {}'.format(test_loss))\n",
        "print('Test Accuracy: {}'.format(test_acc))"
      ],
      "execution_count": null,
      "outputs": [
        {
          "output_type": "stream",
          "name": "stdout",
          "text": [
            "119/119 [==============================] - 4s 37ms/step - loss: 0.6131 - accuracy: 0.7605\n",
            "Test Loss: 0.6131417155265808\n",
            "Test Accuracy: 0.7605262994766235\n"
          ]
        }
      ]
    },
    {
      "cell_type": "code",
      "metadata": {
        "id": "KEbGJ56J2kQ_"
      },
      "source": [
        "preds = model.predict(test_dataset)"
      ],
      "execution_count": null,
      "outputs": []
    },
    {
      "cell_type": "code",
      "metadata": {
        "id": "bh5rZRPL2kWA"
      },
      "source": [
        "cm = sns.light_palette((260, 75, 60), input=\"husl\", as_cmap=True)"
      ],
      "execution_count": null,
      "outputs": []
    },
    {
      "cell_type": "code",
      "metadata": {
        "colab": {
          "base_uri": "https://localhost:8080/",
          "height": 173
        },
        "id": "jCZcn74t2kdA",
        "outputId": "0a694553-323e-4fd7-97a8-b546e4048315"
      },
      "source": [
        "df = pd.DataFrame(preds[0:15]\n",
        "                  ,columns = ['World','Sports','Business','Sci/Tech']).T\n",
        "df.style.format(\"{:.2%}\").background_gradient(cmap=cm)"
      ],
      "execution_count": null,
      "outputs": [
        {
          "output_type": "execute_result",
          "data": {
            "text/html": [
              "<style  type=\"text/css\" >\n",
              "#T_4126026a_39b9_11ec_9f4c_0242ac1c0002row0_col0,#T_4126026a_39b9_11ec_9f4c_0242ac1c0002row0_col2,#T_4126026a_39b9_11ec_9f4c_0242ac1c0002row0_col11,#T_4126026a_39b9_11ec_9f4c_0242ac1c0002row1_col1,#T_4126026a_39b9_11ec_9f4c_0242ac1c0002row1_col2,#T_4126026a_39b9_11ec_9f4c_0242ac1c0002row1_col4,#T_4126026a_39b9_11ec_9f4c_0242ac1c0002row1_col5,#T_4126026a_39b9_11ec_9f4c_0242ac1c0002row1_col8,#T_4126026a_39b9_11ec_9f4c_0242ac1c0002row1_col9,#T_4126026a_39b9_11ec_9f4c_0242ac1c0002row1_col12,#T_4126026a_39b9_11ec_9f4c_0242ac1c0002row1_col14,#T_4126026a_39b9_11ec_9f4c_0242ac1c0002row2_col0,#T_4126026a_39b9_11ec_9f4c_0242ac1c0002row2_col3,#T_4126026a_39b9_11ec_9f4c_0242ac1c0002row2_col6,#T_4126026a_39b9_11ec_9f4c_0242ac1c0002row2_col7,#T_4126026a_39b9_11ec_9f4c_0242ac1c0002row2_col11,#T_4126026a_39b9_11ec_9f4c_0242ac1c0002row3_col0,#T_4126026a_39b9_11ec_9f4c_0242ac1c0002row3_col3,#T_4126026a_39b9_11ec_9f4c_0242ac1c0002row3_col4,#T_4126026a_39b9_11ec_9f4c_0242ac1c0002row3_col10,#T_4126026a_39b9_11ec_9f4c_0242ac1c0002row3_col13,#T_4126026a_39b9_11ec_9f4c_0242ac1c0002row3_col14{\n",
              "            background-color:  #f0f1f2;\n",
              "            color:  #000000;\n",
              "        }#T_4126026a_39b9_11ec_9f4c_0242ac1c0002row0_col1,#T_4126026a_39b9_11ec_9f4c_0242ac1c0002row0_col4,#T_4126026a_39b9_11ec_9f4c_0242ac1c0002row0_col8,#T_4126026a_39b9_11ec_9f4c_0242ac1c0002row0_col10,#T_4126026a_39b9_11ec_9f4c_0242ac1c0002row0_col13,#T_4126026a_39b9_11ec_9f4c_0242ac1c0002row0_col14,#T_4126026a_39b9_11ec_9f4c_0242ac1c0002row1_col0,#T_4126026a_39b9_11ec_9f4c_0242ac1c0002row1_col3,#T_4126026a_39b9_11ec_9f4c_0242ac1c0002row1_col6,#T_4126026a_39b9_11ec_9f4c_0242ac1c0002row1_col7,#T_4126026a_39b9_11ec_9f4c_0242ac1c0002row2_col9,#T_4126026a_39b9_11ec_9f4c_0242ac1c0002row2_col12,#T_4126026a_39b9_11ec_9f4c_0242ac1c0002row3_col2,#T_4126026a_39b9_11ec_9f4c_0242ac1c0002row3_col5,#T_4126026a_39b9_11ec_9f4c_0242ac1c0002row3_col11{\n",
              "            background-color:  #778ce4;\n",
              "            color:  #000000;\n",
              "        }#T_4126026a_39b9_11ec_9f4c_0242ac1c0002row0_col3,#T_4126026a_39b9_11ec_9f4c_0242ac1c0002row2_col4,#T_4126026a_39b9_11ec_9f4c_0242ac1c0002row3_col1,#T_4126026a_39b9_11ec_9f4c_0242ac1c0002row3_col6{\n",
              "            background-color:  #eeeff2;\n",
              "            color:  #000000;\n",
              "        }#T_4126026a_39b9_11ec_9f4c_0242ac1c0002row0_col5{\n",
              "            background-color:  #eff0f2;\n",
              "            color:  #000000;\n",
              "        }#T_4126026a_39b9_11ec_9f4c_0242ac1c0002row0_col6,#T_4126026a_39b9_11ec_9f4c_0242ac1c0002row3_col9{\n",
              "            background-color:  #e3e6f1;\n",
              "            color:  #000000;\n",
              "        }#T_4126026a_39b9_11ec_9f4c_0242ac1c0002row0_col7{\n",
              "            background-color:  #e7e9f1;\n",
              "            color:  #000000;\n",
              "        }#T_4126026a_39b9_11ec_9f4c_0242ac1c0002row0_col9,#T_4126026a_39b9_11ec_9f4c_0242ac1c0002row2_col10{\n",
              "            background-color:  #edeef2;\n",
              "            color:  #000000;\n",
              "        }#T_4126026a_39b9_11ec_9f4c_0242ac1c0002row0_col12{\n",
              "            background-color:  #e1e4f0;\n",
              "            color:  #000000;\n",
              "        }#T_4126026a_39b9_11ec_9f4c_0242ac1c0002row1_col10,#T_4126026a_39b9_11ec_9f4c_0242ac1c0002row2_col14{\n",
              "            background-color:  #f0f0f2;\n",
              "            color:  #000000;\n",
              "        }#T_4126026a_39b9_11ec_9f4c_0242ac1c0002row1_col11{\n",
              "            background-color:  #e8e9f1;\n",
              "            color:  #000000;\n",
              "        }#T_4126026a_39b9_11ec_9f4c_0242ac1c0002row1_col13{\n",
              "            background-color:  #cfd5ee;\n",
              "            color:  #000000;\n",
              "        }#T_4126026a_39b9_11ec_9f4c_0242ac1c0002row2_col1{\n",
              "            background-color:  #d8dcef;\n",
              "            color:  #000000;\n",
              "        }#T_4126026a_39b9_11ec_9f4c_0242ac1c0002row2_col2{\n",
              "            background-color:  #e9eaf1;\n",
              "            color:  #000000;\n",
              "        }#T_4126026a_39b9_11ec_9f4c_0242ac1c0002row2_col5{\n",
              "            background-color:  #d3d8ef;\n",
              "            color:  #000000;\n",
              "        }#T_4126026a_39b9_11ec_9f4c_0242ac1c0002row2_col8{\n",
              "            background-color:  #dce0f0;\n",
              "            color:  #000000;\n",
              "        }#T_4126026a_39b9_11ec_9f4c_0242ac1c0002row2_col13{\n",
              "            background-color:  #d9ddef;\n",
              "            color:  #000000;\n",
              "        }#T_4126026a_39b9_11ec_9f4c_0242ac1c0002row3_col7,#T_4126026a_39b9_11ec_9f4c_0242ac1c0002row3_col12{\n",
              "            background-color:  #efeff2;\n",
              "            color:  #000000;\n",
              "        }#T_4126026a_39b9_11ec_9f4c_0242ac1c0002row3_col8{\n",
              "            background-color:  #bec7ec;\n",
              "            color:  #000000;\n",
              "        }</style><table id=\"T_4126026a_39b9_11ec_9f4c_0242ac1c0002\" class=\"dataframe\"><thead>    <tr>        <th class=\"blank level0\" ></th>        <th class=\"col_heading level0 col0\" >0</th>        <th class=\"col_heading level0 col1\" >1</th>        <th class=\"col_heading level0 col2\" >2</th>        <th class=\"col_heading level0 col3\" >3</th>        <th class=\"col_heading level0 col4\" >4</th>        <th class=\"col_heading level0 col5\" >5</th>        <th class=\"col_heading level0 col6\" >6</th>        <th class=\"col_heading level0 col7\" >7</th>        <th class=\"col_heading level0 col8\" >8</th>        <th class=\"col_heading level0 col9\" >9</th>        <th class=\"col_heading level0 col10\" >10</th>        <th class=\"col_heading level0 col11\" >11</th>        <th class=\"col_heading level0 col12\" >12</th>        <th class=\"col_heading level0 col13\" >13</th>        <th class=\"col_heading level0 col14\" >14</th>    </tr></thead><tbody>\n",
              "                <tr>\n",
              "                        <th id=\"T_4126026a_39b9_11ec_9f4c_0242ac1c0002level0_row0\" class=\"row_heading level0 row0\" >World</th>\n",
              "                        <td id=\"T_4126026a_39b9_11ec_9f4c_0242ac1c0002row0_col0\" class=\"data row0 col0\" >0.07%</td>\n",
              "                        <td id=\"T_4126026a_39b9_11ec_9f4c_0242ac1c0002row0_col1\" class=\"data row0 col1\" >76.88%</td>\n",
              "                        <td id=\"T_4126026a_39b9_11ec_9f4c_0242ac1c0002row0_col2\" class=\"data row0 col2\" >0.23%</td>\n",
              "                        <td id=\"T_4126026a_39b9_11ec_9f4c_0242ac1c0002row0_col3\" class=\"data row0 col3\" >2.34%</td>\n",
              "                        <td id=\"T_4126026a_39b9_11ec_9f4c_0242ac1c0002row0_col4\" class=\"data row0 col4\" >95.65%</td>\n",
              "                        <td id=\"T_4126026a_39b9_11ec_9f4c_0242ac1c0002row0_col5\" class=\"data row0 col5\" >1.26%</td>\n",
              "                        <td id=\"T_4126026a_39b9_11ec_9f4c_0242ac1c0002row0_col6\" class=\"data row0 col6\" >13.92%</td>\n",
              "                        <td id=\"T_4126026a_39b9_11ec_9f4c_0242ac1c0002row0_col7\" class=\"data row0 col7\" >7.67%</td>\n",
              "                        <td id=\"T_4126026a_39b9_11ec_9f4c_0242ac1c0002row0_col8\" class=\"data row0 col8\" >61.44%</td>\n",
              "                        <td id=\"T_4126026a_39b9_11ec_9f4c_0242ac1c0002row0_col9\" class=\"data row0 col9\" >2.25%</td>\n",
              "                        <td id=\"T_4126026a_39b9_11ec_9f4c_0242ac1c0002row0_col10\" class=\"data row0 col10\" >96.02%</td>\n",
              "                        <td id=\"T_4126026a_39b9_11ec_9f4c_0242ac1c0002row0_col11\" class=\"data row0 col11\" >8.01%</td>\n",
              "                        <td id=\"T_4126026a_39b9_11ec_9f4c_0242ac1c0002row0_col12\" class=\"data row0 col12\" >11.92%</td>\n",
              "                        <td id=\"T_4126026a_39b9_11ec_9f4c_0242ac1c0002row0_col13\" class=\"data row0 col13\" >55.72%</td>\n",
              "                        <td id=\"T_4126026a_39b9_11ec_9f4c_0242ac1c0002row0_col14\" class=\"data row0 col14\" >99.14%</td>\n",
              "            </tr>\n",
              "            <tr>\n",
              "                        <th id=\"T_4126026a_39b9_11ec_9f4c_0242ac1c0002level0_row1\" class=\"row_heading level0 row1\" >Sports</th>\n",
              "                        <td id=\"T_4126026a_39b9_11ec_9f4c_0242ac1c0002row1_col0\" class=\"data row1 col0\" >99.89%</td>\n",
              "                        <td id=\"T_4126026a_39b9_11ec_9f4c_0242ac1c0002row1_col1\" class=\"data row1 col1\" >2.21%</td>\n",
              "                        <td id=\"T_4126026a_39b9_11ec_9f4c_0242ac1c0002row1_col2\" class=\"data row1 col2\" >0.48%</td>\n",
              "                        <td id=\"T_4126026a_39b9_11ec_9f4c_0242ac1c0002row1_col3\" class=\"data row1 col3\" >97.03%</td>\n",
              "                        <td id=\"T_4126026a_39b9_11ec_9f4c_0242ac1c0002row1_col4\" class=\"data row1 col4\" >0.93%</td>\n",
              "                        <td id=\"T_4126026a_39b9_11ec_9f4c_0242ac1c0002row1_col5\" class=\"data row1 col5\" >0.35%</td>\n",
              "                        <td id=\"T_4126026a_39b9_11ec_9f4c_0242ac1c0002row1_col6\" class=\"data row1 col6\" >70.94%</td>\n",
              "                        <td id=\"T_4126026a_39b9_11ec_9f4c_0242ac1c0002row1_col7\" class=\"data row1 col7\" >90.41%</td>\n",
              "                        <td id=\"T_4126026a_39b9_11ec_9f4c_0242ac1c0002row1_col8\" class=\"data row1 col8\" >1.33%</td>\n",
              "                        <td id=\"T_4126026a_39b9_11ec_9f4c_0242ac1c0002row1_col9\" class=\"data row1 col9\" >0.07%</td>\n",
              "                        <td id=\"T_4126026a_39b9_11ec_9f4c_0242ac1c0002row1_col10\" class=\"data row1 col10\" >0.74%</td>\n",
              "                        <td id=\"T_4126026a_39b9_11ec_9f4c_0242ac1c0002row1_col11\" class=\"data row1 col11\" >12.56%</td>\n",
              "                        <td id=\"T_4126026a_39b9_11ec_9f4c_0242ac1c0002row1_col12\" class=\"data row1 col12\" >2.06%</td>\n",
              "                        <td id=\"T_4126026a_39b9_11ec_9f4c_0242ac1c0002row1_col13\" class=\"data row1 col13\" >20.60%</td>\n",
              "                        <td id=\"T_4126026a_39b9_11ec_9f4c_0242ac1c0002row1_col14\" class=\"data row1 col14\" >0.05%</td>\n",
              "            </tr>\n",
              "            <tr>\n",
              "                        <th id=\"T_4126026a_39b9_11ec_9f4c_0242ac1c0002level0_row2\" class=\"row_heading level0 row2\" >Business</th>\n",
              "                        <td id=\"T_4126026a_39b9_11ec_9f4c_0242ac1c0002row2_col0\" class=\"data row2 col0\" >0.02%</td>\n",
              "                        <td id=\"T_4126026a_39b9_11ec_9f4c_0242ac1c0002row2_col1\" class=\"data row2 col1\" >17.38%</td>\n",
              "                        <td id=\"T_4126026a_39b9_11ec_9f4c_0242ac1c0002row2_col2\" class=\"data row2 col2\" >6.24%</td>\n",
              "                        <td id=\"T_4126026a_39b9_11ec_9f4c_0242ac1c0002row2_col3\" class=\"data row2 col3\" >0.31%</td>\n",
              "                        <td id=\"T_4126026a_39b9_11ec_9f4c_0242ac1c0002row2_col4\" class=\"data row2 col4\" >2.67%</td>\n",
              "                        <td id=\"T_4126026a_39b9_11ec_9f4c_0242ac1c0002row2_col5\" class=\"data row2 col5\" >19.23%</td>\n",
              "                        <td id=\"T_4126026a_39b9_11ec_9f4c_0242ac1c0002row2_col6\" class=\"data row2 col6\" >7.06%</td>\n",
              "                        <td id=\"T_4126026a_39b9_11ec_9f4c_0242ac1c0002row2_col7\" class=\"data row2 col7\" >0.28%</td>\n",
              "                        <td id=\"T_4126026a_39b9_11ec_9f4c_0242ac1c0002row2_col8\" class=\"data row2 col8\" >11.21%</td>\n",
              "                        <td id=\"T_4126026a_39b9_11ec_9f4c_0242ac1c0002row2_col9\" class=\"data row2 col9\" >88.04%</td>\n",
              "                        <td id=\"T_4126026a_39b9_11ec_9f4c_0242ac1c0002row2_col10\" class=\"data row2 col10\" >2.95%</td>\n",
              "                        <td id=\"T_4126026a_39b9_11ec_9f4c_0242ac1c0002row2_col11\" class=\"data row2 col11\" >7.89%</td>\n",
              "                        <td id=\"T_4126026a_39b9_11ec_9f4c_0242ac1c0002row2_col12\" class=\"data row2 col12\" >82.84%</td>\n",
              "                        <td id=\"T_4126026a_39b9_11ec_9f4c_0242ac1c0002row2_col13\" class=\"data row2 col13\" >16.49%</td>\n",
              "                        <td id=\"T_4126026a_39b9_11ec_9f4c_0242ac1c0002row2_col14\" class=\"data row2 col14\" >0.74%</td>\n",
              "            </tr>\n",
              "            <tr>\n",
              "                        <th id=\"T_4126026a_39b9_11ec_9f4c_0242ac1c0002level0_row3\" class=\"row_heading level0 row3\" >Sci/Tech</th>\n",
              "                        <td id=\"T_4126026a_39b9_11ec_9f4c_0242ac1c0002row3_col0\" class=\"data row3 col0\" >0.02%</td>\n",
              "                        <td id=\"T_4126026a_39b9_11ec_9f4c_0242ac1c0002row3_col1\" class=\"data row3 col1\" >3.53%</td>\n",
              "                        <td id=\"T_4126026a_39b9_11ec_9f4c_0242ac1c0002row3_col2\" class=\"data row3 col2\" >93.06%</td>\n",
              "                        <td id=\"T_4126026a_39b9_11ec_9f4c_0242ac1c0002row3_col3\" class=\"data row3 col3\" >0.31%</td>\n",
              "                        <td id=\"T_4126026a_39b9_11ec_9f4c_0242ac1c0002row3_col4\" class=\"data row3 col4\" >0.76%</td>\n",
              "                        <td id=\"T_4126026a_39b9_11ec_9f4c_0242ac1c0002row3_col5\" class=\"data row3 col5\" >79.16%</td>\n",
              "                        <td id=\"T_4126026a_39b9_11ec_9f4c_0242ac1c0002row3_col6\" class=\"data row3 col6\" >8.09%</td>\n",
              "                        <td id=\"T_4126026a_39b9_11ec_9f4c_0242ac1c0002row3_col7\" class=\"data row3 col7\" >1.64%</td>\n",
              "                        <td id=\"T_4126026a_39b9_11ec_9f4c_0242ac1c0002row3_col8\" class=\"data row3 col8\" >26.01%</td>\n",
              "                        <td id=\"T_4126026a_39b9_11ec_9f4c_0242ac1c0002row3_col9\" class=\"data row3 col9\" >9.64%</td>\n",
              "                        <td id=\"T_4126026a_39b9_11ec_9f4c_0242ac1c0002row3_col10\" class=\"data row3 col10\" >0.30%</td>\n",
              "                        <td id=\"T_4126026a_39b9_11ec_9f4c_0242ac1c0002row3_col11\" class=\"data row3 col11\" >71.54%</td>\n",
              "                        <td id=\"T_4126026a_39b9_11ec_9f4c_0242ac1c0002row3_col12\" class=\"data row3 col12\" >3.18%</td>\n",
              "                        <td id=\"T_4126026a_39b9_11ec_9f4c_0242ac1c0002row3_col13\" class=\"data row3 col13\" >7.20%</td>\n",
              "                        <td id=\"T_4126026a_39b9_11ec_9f4c_0242ac1c0002row3_col14\" class=\"data row3 col14\" >0.08%</td>\n",
              "            </tr>\n",
              "    </tbody></table>"
            ],
            "text/plain": [
              "<pandas.io.formats.style.Styler at 0x7f2211d21b90>"
            ]
          },
          "metadata": {},
          "execution_count": 43
        }
      ]
    },
    {
      "cell_type": "markdown",
      "metadata": {
        "id": "XzDagr1L3ysv"
      },
      "source": [
        "Vocabulary 1500"
      ]
    },
    {
      "cell_type": "code",
      "metadata": {
        "colab": {
          "base_uri": "https://localhost:8080/"
        },
        "id": "Wy71SEX_0VtL",
        "outputId": "c3133425-6a44-499c-a4b3-39f24fa138a6"
      },
      "source": [
        "%%time\n",
        "encoder_1500 = tf.keras.layers.experimental.preprocessing.TextVectorization(max_tokens=1500)\n",
        "encoder_1500.adapt(dataset_all.map(lambda text, label: text))\n",
        "vocab_1500 = np.array(encoder_1500.get_vocabulary());"
      ],
      "execution_count": null,
      "outputs": [
        {
          "output_type": "stream",
          "name": "stdout",
          "text": [
            "WARNING:tensorflow:AutoGraph could not transform <function <lambda> at 0x7f2211d2e440> and will run it as-is.\n",
            "Cause: could not parse the source code of <function <lambda> at 0x7f2211d2e440>: no matching AST found\n",
            "To silence this warning, decorate the function with @tf.autograph.experimental.do_not_convert\n"
          ]
        },
        {
          "output_type": "stream",
          "name": "stderr",
          "text": [
            "WARNING:tensorflow:AutoGraph could not transform <function <lambda> at 0x7f2211d2e440> and will run it as-is.\n",
            "Cause: could not parse the source code of <function <lambda> at 0x7f2211d2e440>: no matching AST found\n",
            "To silence this warning, decorate the function with @tf.autograph.experimental.do_not_convert\n"
          ]
        },
        {
          "output_type": "stream",
          "name": "stdout",
          "text": [
            "WARNING: AutoGraph could not transform <function <lambda> at 0x7f2211d2e440> and will run it as-is.\n",
            "Cause: could not parse the source code of <function <lambda> at 0x7f2211d2e440>: no matching AST found\n",
            "To silence this warning, decorate the function with @tf.autograph.experimental.do_not_convert\n",
            "CPU times: user 1min 40s, sys: 11.2 s, total: 1min 51s\n",
            "Wall time: 1min 22s\n"
          ]
        }
      ]
    },
    {
      "cell_type": "code",
      "metadata": {
        "colab": {
          "base_uri": "https://localhost:8080/"
        },
        "id": "StDGKlzZ0VxM",
        "outputId": "33baf80e-8cfa-46d0-fb31-e457cc3b6e03"
      },
      "source": [
        "vocab_1500[:20]"
      ],
      "execution_count": null,
      "outputs": [
        {
          "output_type": "execute_result",
          "data": {
            "text/plain": [
              "array(['', '[UNK]', 'the', 'a', 'to', 'of', 'in', 'and', 'on', 'for',\n",
              "       'that', '39s', 'with', 'its', 'as', 'at', 'is', 'said', 'by', 'it'],\n",
              "      dtype='<U19')"
            ]
          },
          "metadata": {},
          "execution_count": 45
        }
      ]
    },
    {
      "cell_type": "code",
      "metadata": {
        "colab": {
          "base_uri": "https://localhost:8080/"
        },
        "id": "ndRcY4p10V3F",
        "outputId": "574c570c-b1a6-4766-b214-ded4a21b2ddd"
      },
      "source": [
        "example = \"the dog ran after a red ball as it rolled by the hat on the ground.\"\n",
        "encoder_1500(example)"
      ],
      "execution_count": null,
      "outputs": [
        {
          "output_type": "execute_result",
          "data": {
            "text/plain": [
              "<tf.Tensor: shape=(16,), dtype=int64, numpy=\n",
              "array([   2,    1, 1287,   29,    3,  232, 1414,   14,   19,    1,   18,\n",
              "          2,    1,    8,    2,  999])>"
            ]
          },
          "metadata": {},
          "execution_count": 46
        }
      ]
    },
    {
      "cell_type": "code",
      "metadata": {
        "colab": {
          "base_uri": "https://localhost:8080/"
        },
        "id": "PkN7f84i0V6z",
        "outputId": "4ab6564a-2aa1-44e4-d30b-02f5a9f9affa"
      },
      "source": [
        "for word in example.split():\n",
        "  print(f'\"{word}\" is {\"*not* \" if word not in vocab_1500  else \"\"}in the vocabulary.')"
      ],
      "execution_count": null,
      "outputs": [
        {
          "output_type": "stream",
          "name": "stdout",
          "text": [
            "\"the\" is in the vocabulary.\n",
            "\"dog\" is *not* in the vocabulary.\n",
            "\"ran\" is in the vocabulary.\n",
            "\"after\" is in the vocabulary.\n",
            "\"a\" is in the vocabulary.\n",
            "\"red\" is in the vocabulary.\n",
            "\"ball\" is in the vocabulary.\n",
            "\"as\" is in the vocabulary.\n",
            "\"it\" is in the vocabulary.\n",
            "\"rolled\" is *not* in the vocabulary.\n",
            "\"by\" is in the vocabulary.\n",
            "\"the\" is in the vocabulary.\n",
            "\"hat\" is *not* in the vocabulary.\n",
            "\"on\" is in the vocabulary.\n",
            "\"the\" is in the vocabulary.\n",
            "\"ground.\" is *not* in the vocabulary.\n"
          ]
        }
      ]
    },
    {
      "cell_type": "code",
      "metadata": {
        "colab": {
          "base_uri": "https://localhost:8080/"
        },
        "id": "kfQpGiNK0V_1",
        "outputId": "bf989e46-edac-469a-a139-98297b0fd251"
      },
      "source": [
        "%%time\n",
        "doc1500_sizes = []\n",
        "corpus1500 = []\n",
        "count1500=0\n",
        "useless = 0\n",
        "# stop = 0\n",
        "percents = []\n",
        "for example, _ in dataset_all.as_numpy_iterator():\n",
        "  # stop+=1\n",
        "  # if stop > 5: break\n",
        "  enc_example = encoder_1500(example)\n",
        "  num_ones = tf.math.count_nonzero(enc_example==1).numpy()\n",
        "  percent_ones = round(num_ones*100/len(enc_example))\n",
        "  # print(f\"{percent_ones}%\")\n",
        "  percents.append(percent_ones)\n",
        "\n",
        "  s = set(list(enc_example.numpy()))\n",
        "  if s == {1}: useless+=1\n",
        "\n",
        "  doc1500_sizes.append(len(enc_example))\n",
        "  corpus1500+=list(enc_example.numpy())\n",
        "\n",
        "  count1500 += tf.math.count_nonzero(enc_example>1)"
      ],
      "execution_count": null,
      "outputs": [
        {
          "output_type": "stream",
          "name": "stdout",
          "text": [
            "CPU times: user 8min 16s, sys: 10 s, total: 8min 26s\n",
            "Wall time: 8min 21s\n"
          ]
        }
      ]
    },
    {
      "cell_type": "code",
      "metadata": {
        "colab": {
          "base_uri": "https://localhost:8080/"
        },
        "id": "Os0eHuK30WDK",
        "outputId": "bc1a37ae-28a1-4813-c6f8-76bf33ccf8ea"
      },
      "source": [
        "print(f\"Each news article has between {min(doc1500_sizes)} and {max(doc1500_sizes)} tokens in it.\")"
      ],
      "execution_count": null,
      "outputs": [
        {
          "output_type": "stream",
          "name": "stdout",
          "text": [
            "Each news article has between 3 and 173 tokens in it.\n"
          ]
        }
      ]
    },
    {
      "cell_type": "code",
      "metadata": {
        "colab": {
          "base_uri": "https://localhost:8080/"
        },
        "id": "QLILXVk-0WIJ",
        "outputId": "09773131-6bdb-4f10-ae05-a5e23cf417d5"
      },
      "source": [
        "Counter(percents).most_common(10)\n",
        "np.unique(percents, return_counts=True)"
      ],
      "execution_count": null,
      "outputs": [
        {
          "output_type": "execute_result",
          "data": {
            "text/plain": [
              "(array([  0,   2,   3,   4,   5,   6,   7,   8,   9,  10,  11,  12,  13,\n",
              "         14,  15,  16,  17,  18,  19,  20,  21,  22,  23,  24,  25,  26,\n",
              "         27,  28,  29,  30,  31,  32,  33,  34,  35,  36,  37,  38,  39,\n",
              "         40,  41,  42,  43,  44,  45,  46,  47,  48,  49,  50,  51,  52,\n",
              "         53,  54,  55,  56,  57,  58,  59,  60,  61,  62,  63,  64,  65,\n",
              "         66,  67,  68,  69,  70,  71,  72,  73,  74,  75,  76,  77,  78,\n",
              "         79,  80,  81,  82,  83,  84,  85,  86,  87,  88,  89,  90,  91,\n",
              "         92,  94, 100]),\n",
              " array([  69,    2,  101,  164,  154,  229,  347,  559,  593,  757, 1026,\n",
              "        1722, 1220, 2082, 2256, 2254, 3145, 3196, 4363, 3130, 5053, 4399,\n",
              "        4583, 5721, 4645, 5682, 4651, 4496, 6009, 4865, 4563, 5430, 5168,\n",
              "        2479, 3989, 3240, 2274, 3801, 2523, 1854, 2243, 1876, 1605, 1386,\n",
              "        1110,  912,  826,  940,  108, 1182,   71,  471,  327,  209,  208,\n",
              "         209,  171,  127,   83,  107,   36,  113,   29,   66,   50,    3,\n",
              "          63,   10,   25,   17,   33,    5,   15,    5,   35,    8,    4,\n",
              "          17,    3,   20,    6,    6,   15,    3,    5,    8,    2,    3,\n",
              "           4,    2,    3,    1,    1,   19]))"
            ]
          },
          "metadata": {},
          "execution_count": 49
        }
      ]
    },
    {
      "cell_type": "code",
      "metadata": {
        "colab": {
          "base_uri": "https://localhost:8080/",
          "height": 551
        },
        "id": "3oJZ_3Fj0WNj",
        "outputId": "fd1a6261-6f53-4052-eaac-6f9cf82f8332"
      },
      "source": [
        "plt.figure(figsize=(15,9))\n",
        "plt.hist(percents, 20)\n",
        "plt.ylabel('Number of Documents')\n",
        "plt.xlabel('Percent of Non-Vocabulary Words in a Document');"
      ],
      "execution_count": null,
      "outputs": [
        {
          "output_type": "display_data",
          "data": {
            "image/png": "[encoded data removed]",
            "text/plain": [
              "<Figure size 1080x648 with 1 Axes>"
            ]
          },
          "metadata": {
            "needs_background": "light"
          }
        }
      ]
    },
    {
      "cell_type": "code",
      "metadata": {
        "colab": {
          "base_uri": "https://localhost:8080/"
        },
        "id": "DHI6rGOK2qzH",
        "outputId": "390794d8-5a69-4b33-965b-d04962030897"
      },
      "source": [
        "print(f\"There are {count1500} top {len(vocab_1500)} vocabulary words in the corpus.\")"
      ],
      "execution_count": null,
      "outputs": [
        {
          "output_type": "stream",
          "name": "stdout",
          "text": [
            "There are 2810751 top 1500 vocabulary words in the corpus.\n"
          ]
        }
      ]
    },
    {
      "cell_type": "code",
      "metadata": {
        "id": "o_WUTFUu0xGs"
      },
      "source": [
        "num_classes = 4\n",
        "model = tf.keras.Sequential([\n",
        "                              encoder_1500\n",
        "                              ,tf.keras.layers.Embedding(input_dim=len(encoder_1500.get_vocabulary())\n",
        "                              ,output_dim=64\n",
        "                                # Use masking to handle the variable sequence lengths\n",
        "                              ,mask_zero=True)\n",
        "                              ,tf.keras.layers.Bidirectional(tf.keras.layers.LSTM(64))\n",
        "                              ,tf.keras.layers.Dense(64, activation='relu')\n",
        "                              ,tf.keras.layers.Dense(num_classes,activation='softmax')   # num_classes = 4\n",
        "])"
      ],
      "execution_count": null,
      "outputs": []
    },
    {
      "cell_type": "code",
      "metadata": {
        "id": "EThXqPD00xKz"
      },
      "source": [
        "model.compile(optimizer=tf.keras.optimizers.Adam(1e-4)\n",
        "              ,loss=tf.keras.losses.SparseCategoricalCrossentropy() # if we set from_logits=True we don not have specify a softmax activation function in the last layer\n",
        "              ,metrics=['accuracy'])"
      ],
      "execution_count": null,
      "outputs": []
    },
    {
      "cell_type": "code",
      "metadata": {
        "colab": {
          "base_uri": "https://localhost:8080/"
        },
        "id": "3s_xRtqv0xQp",
        "outputId": "675a7846-58d6-4b86-e5df-b64a5ac3bb5f"
      },
      "source": [
        "history = model.fit(train_dataset\n",
        "                    ,epochs = 200\n",
        "                    ,validation_data=validation_dataset\n",
        "                    ,callbacks=[tf.keras.callbacks.EarlyStopping(monitor='val_accuracy', patience=2)]\n",
        "                    )"
      ],
      "execution_count": null,
      "outputs": [
        {
          "output_type": "stream",
          "name": "stdout",
          "text": [
            "Epoch 1/200\n",
            "1782/1782 [==============================] - 258s 139ms/step - loss: 0.7172 - accuracy: 0.7233 - val_loss: 0.4768 - val_accuracy: 0.8372\n",
            "Epoch 2/200\n",
            "1782/1782 [==============================] - 248s 139ms/step - loss: 0.4461 - accuracy: 0.8454 - val_loss: 0.4399 - val_accuracy: 0.8478\n",
            "Epoch 3/200\n",
            "1782/1782 [==============================] - 249s 140ms/step - loss: 0.4064 - accuracy: 0.8577 - val_loss: 0.3949 - val_accuracy: 0.8652\n",
            "Epoch 4/200\n",
            "1782/1782 [==============================] - 250s 140ms/step - loss: 0.3782 - accuracy: 0.8669 - val_loss: 0.3722 - val_accuracy: 0.8710\n",
            "Epoch 5/200\n",
            "1782/1782 [==============================] - 250s 140ms/step - loss: 0.3592 - accuracy: 0.8721 - val_loss: 0.3698 - val_accuracy: 0.8698\n",
            "Epoch 6/200\n",
            "1782/1782 [==============================] - 248s 139ms/step - loss: 0.3489 - accuracy: 0.8751 - val_loss: 0.3608 - val_accuracy: 0.8733\n",
            "Epoch 7/200\n",
            "1782/1782 [==============================] - 250s 140ms/step - loss: 0.3403 - accuracy: 0.8787 - val_loss: 0.3569 - val_accuracy: 0.8735\n",
            "Epoch 8/200\n",
            "1782/1782 [==============================] - 252s 141ms/step - loss: 0.3347 - accuracy: 0.8801 - val_loss: 0.3553 - val_accuracy: 0.8747\n",
            "Epoch 9/200\n",
            "1782/1782 [==============================] - 250s 140ms/step - loss: 0.3307 - accuracy: 0.8812 - val_loss: 0.3504 - val_accuracy: 0.8728\n",
            "Epoch 10/200\n",
            "1782/1782 [==============================] - 250s 140ms/step - loss: 0.3272 - accuracy: 0.8824 - val_loss: 0.3521 - val_accuracy: 0.8732\n"
          ]
        }
      ]
    },
    {
      "cell_type": "code",
      "metadata": {
        "colab": {
          "base_uri": "https://localhost:8080/"
        },
        "id": "uBhJtkCP0x_L",
        "outputId": "10f1fb76-b1a7-4d78-aa74-72ba568708fe"
      },
      "source": [
        "test_loss, test_acc = model.evaluate(test_dataset)\n",
        "\n",
        "print('Test Loss: {}'.format(test_loss))\n",
        "print('Test Accuracy: {}'.format(test_acc))"
      ],
      "execution_count": null,
      "outputs": [
        {
          "output_type": "stream",
          "name": "stdout",
          "text": [
            "119/119 [==============================] - 4s 37ms/step - loss: 0.3570 - accuracy: 0.8749\n",
            "Test Loss: 0.3570491075515747\n",
            "Test Accuracy: 0.8748683929443359\n"
          ]
        }
      ]
    },
    {
      "cell_type": "code",
      "metadata": {
        "id": "MnVpmSV323kC"
      },
      "source": [
        "preds = model.predict(test_dataset)"
      ],
      "execution_count": null,
      "outputs": []
    },
    {
      "cell_type": "code",
      "metadata": {
        "id": "rm4IxffJ23o5"
      },
      "source": [
        "cm = sns.light_palette((260, 75, 60), input=\"husl\", as_cmap=True)"
      ],
      "execution_count": null,
      "outputs": []
    },
    {
      "cell_type": "code",
      "metadata": {
        "colab": {
          "base_uri": "https://localhost:8080/",
          "height": 173
        },
        "id": "9acYaYg123t4",
        "outputId": "b8a5264e-5846-4383-90e5-c533946a6ab2"
      },
      "source": [
        "df = pd.DataFrame(preds[0:15]\n",
        "                  ,columns = ['World','Sports','Business','Sci/Tech']).T\n",
        "df.style.format(\"{:.2%}\").background_gradient(cmap=cm)"
      ],
      "execution_count": null,
      "outputs": [
        {
          "output_type": "execute_result",
          "data": {
            "text/html": [
              "<style  type=\"text/css\" >\n",
              "#T_b667d0da_39c3_11ec_9f4c_0242ac1c0002row0_col0,#T_b667d0da_39c3_11ec_9f4c_0242ac1c0002row0_col2,#T_b667d0da_39c3_11ec_9f4c_0242ac1c0002row0_col5,#T_b667d0da_39c3_11ec_9f4c_0242ac1c0002row0_col11,#T_b667d0da_39c3_11ec_9f4c_0242ac1c0002row1_col1,#T_b667d0da_39c3_11ec_9f4c_0242ac1c0002row1_col2,#T_b667d0da_39c3_11ec_9f4c_0242ac1c0002row1_col4,#T_b667d0da_39c3_11ec_9f4c_0242ac1c0002row1_col5,#T_b667d0da_39c3_11ec_9f4c_0242ac1c0002row1_col8,#T_b667d0da_39c3_11ec_9f4c_0242ac1c0002row1_col9,#T_b667d0da_39c3_11ec_9f4c_0242ac1c0002row1_col10,#T_b667d0da_39c3_11ec_9f4c_0242ac1c0002row1_col12,#T_b667d0da_39c3_11ec_9f4c_0242ac1c0002row1_col14,#T_b667d0da_39c3_11ec_9f4c_0242ac1c0002row2_col0,#T_b667d0da_39c3_11ec_9f4c_0242ac1c0002row2_col1,#T_b667d0da_39c3_11ec_9f4c_0242ac1c0002row2_col3,#T_b667d0da_39c3_11ec_9f4c_0242ac1c0002row2_col4,#T_b667d0da_39c3_11ec_9f4c_0242ac1c0002row2_col6,#T_b667d0da_39c3_11ec_9f4c_0242ac1c0002row2_col7,#T_b667d0da_39c3_11ec_9f4c_0242ac1c0002row2_col10,#T_b667d0da_39c3_11ec_9f4c_0242ac1c0002row2_col11,#T_b667d0da_39c3_11ec_9f4c_0242ac1c0002row2_col13,#T_b667d0da_39c3_11ec_9f4c_0242ac1c0002row2_col14,#T_b667d0da_39c3_11ec_9f4c_0242ac1c0002row3_col0,#T_b667d0da_39c3_11ec_9f4c_0242ac1c0002row3_col1,#T_b667d0da_39c3_11ec_9f4c_0242ac1c0002row3_col3,#T_b667d0da_39c3_11ec_9f4c_0242ac1c0002row3_col4,#T_b667d0da_39c3_11ec_9f4c_0242ac1c0002row3_col6,#T_b667d0da_39c3_11ec_9f4c_0242ac1c0002row3_col10,#T_b667d0da_39c3_11ec_9f4c_0242ac1c0002row3_col14{\n",
              "            background-color:  #f0f1f2;\n",
              "            color:  #000000;\n",
              "        }#T_b667d0da_39c3_11ec_9f4c_0242ac1c0002row0_col1,#T_b667d0da_39c3_11ec_9f4c_0242ac1c0002row0_col4,#T_b667d0da_39c3_11ec_9f4c_0242ac1c0002row0_col8,#T_b667d0da_39c3_11ec_9f4c_0242ac1c0002row0_col10,#T_b667d0da_39c3_11ec_9f4c_0242ac1c0002row0_col13,#T_b667d0da_39c3_11ec_9f4c_0242ac1c0002row0_col14,#T_b667d0da_39c3_11ec_9f4c_0242ac1c0002row1_col0,#T_b667d0da_39c3_11ec_9f4c_0242ac1c0002row1_col3,#T_b667d0da_39c3_11ec_9f4c_0242ac1c0002row1_col6,#T_b667d0da_39c3_11ec_9f4c_0242ac1c0002row1_col7,#T_b667d0da_39c3_11ec_9f4c_0242ac1c0002row2_col9,#T_b667d0da_39c3_11ec_9f4c_0242ac1c0002row2_col12,#T_b667d0da_39c3_11ec_9f4c_0242ac1c0002row3_col2,#T_b667d0da_39c3_11ec_9f4c_0242ac1c0002row3_col5,#T_b667d0da_39c3_11ec_9f4c_0242ac1c0002row3_col11{\n",
              "            background-color:  #778ce4;\n",
              "            color:  #000000;\n",
              "        }#T_b667d0da_39c3_11ec_9f4c_0242ac1c0002row0_col3{\n",
              "            background-color:  #eff0f2;\n",
              "            color:  #000000;\n",
              "        }#T_b667d0da_39c3_11ec_9f4c_0242ac1c0002row0_col6,#T_b667d0da_39c3_11ec_9f4c_0242ac1c0002row0_col12,#T_b667d0da_39c3_11ec_9f4c_0242ac1c0002row1_col11,#T_b667d0da_39c3_11ec_9f4c_0242ac1c0002row1_col13,#T_b667d0da_39c3_11ec_9f4c_0242ac1c0002row3_col12{\n",
              "            background-color:  #f0f0f2;\n",
              "            color:  #000000;\n",
              "        }#T_b667d0da_39c3_11ec_9f4c_0242ac1c0002row0_col7{\n",
              "            background-color:  #c9d0ed;\n",
              "            color:  #000000;\n",
              "        }#T_b667d0da_39c3_11ec_9f4c_0242ac1c0002row0_col9,#T_b667d0da_39c3_11ec_9f4c_0242ac1c0002row3_col13{\n",
              "            background-color:  #eeeff2;\n",
              "            color:  #000000;\n",
              "        }#T_b667d0da_39c3_11ec_9f4c_0242ac1c0002row2_col2,#T_b667d0da_39c3_11ec_9f4c_0242ac1c0002row3_col8{\n",
              "            background-color:  #ecedf2;\n",
              "            color:  #000000;\n",
              "        }#T_b667d0da_39c3_11ec_9f4c_0242ac1c0002row2_col5{\n",
              "            background-color:  #dde0f0;\n",
              "            color:  #000000;\n",
              "        }#T_b667d0da_39c3_11ec_9f4c_0242ac1c0002row2_col8{\n",
              "            background-color:  #efeff2;\n",
              "            color:  #000000;\n",
              "        }#T_b667d0da_39c3_11ec_9f4c_0242ac1c0002row3_col7{\n",
              "            background-color:  #e8e9f1;\n",
              "            color:  #000000;\n",
              "        }#T_b667d0da_39c3_11ec_9f4c_0242ac1c0002row3_col9{\n",
              "            background-color:  #ebecf2;\n",
              "            color:  #000000;\n",
              "        }</style><table id=\"T_b667d0da_39c3_11ec_9f4c_0242ac1c0002\" class=\"dataframe\"><thead>    <tr>        <th class=\"blank level0\" ></th>        <th class=\"col_heading level0 col0\" >0</th>        <th class=\"col_heading level0 col1\" >1</th>        <th class=\"col_heading level0 col2\" >2</th>        <th class=\"col_heading level0 col3\" >3</th>        <th class=\"col_heading level0 col4\" >4</th>        <th class=\"col_heading level0 col5\" >5</th>        <th class=\"col_heading level0 col6\" >6</th>        <th class=\"col_heading level0 col7\" >7</th>        <th class=\"col_heading level0 col8\" >8</th>        <th class=\"col_heading level0 col9\" >9</th>        <th class=\"col_heading level0 col10\" >10</th>        <th class=\"col_heading level0 col11\" >11</th>        <th class=\"col_heading level0 col12\" >12</th>        <th class=\"col_heading level0 col13\" >13</th>        <th class=\"col_heading level0 col14\" >14</th>    </tr></thead><tbody>\n",
              "                <tr>\n",
              "                        <th id=\"T_b667d0da_39c3_11ec_9f4c_0242ac1c0002level0_row0\" class=\"row_heading level0 row0\" >World</th>\n",
              "                        <td id=\"T_b667d0da_39c3_11ec_9f4c_0242ac1c0002row0_col0\" class=\"data row0 col0\" >0.27%</td>\n",
              "                        <td id=\"T_b667d0da_39c3_11ec_9f4c_0242ac1c0002row0_col1\" class=\"data row0 col1\" >99.97%</td>\n",
              "                        <td id=\"T_b667d0da_39c3_11ec_9f4c_0242ac1c0002row0_col2\" class=\"data row0 col2\" >0.29%</td>\n",
              "                        <td id=\"T_b667d0da_39c3_11ec_9f4c_0242ac1c0002row0_col3\" class=\"data row0 col3\" >1.04%</td>\n",
              "                        <td id=\"T_b667d0da_39c3_11ec_9f4c_0242ac1c0002row0_col4\" class=\"data row0 col4\" >99.89%</td>\n",
              "                        <td id=\"T_b667d0da_39c3_11ec_9f4c_0242ac1c0002row0_col5\" class=\"data row0 col5\" >0.29%</td>\n",
              "                        <td id=\"T_b667d0da_39c3_11ec_9f4c_0242ac1c0002row0_col6\" class=\"data row0 col6\" >0.51%</td>\n",
              "                        <td id=\"T_b667d0da_39c3_11ec_9f4c_0242ac1c0002row0_col7\" class=\"data row0 col7\" >23.35%</td>\n",
              "                        <td id=\"T_b667d0da_39c3_11ec_9f4c_0242ac1c0002row0_col8\" class=\"data row0 col8\" >94.77%</td>\n",
              "                        <td id=\"T_b667d0da_39c3_11ec_9f4c_0242ac1c0002row0_col9\" class=\"data row0 col9\" >2.11%</td>\n",
              "                        <td id=\"T_b667d0da_39c3_11ec_9f4c_0242ac1c0002row0_col10\" class=\"data row0 col10\" >100.00%</td>\n",
              "                        <td id=\"T_b667d0da_39c3_11ec_9f4c_0242ac1c0002row0_col11\" class=\"data row0 col11\" >0.57%</td>\n",
              "                        <td id=\"T_b667d0da_39c3_11ec_9f4c_0242ac1c0002row0_col12\" class=\"data row0 col12\" >0.67%</td>\n",
              "                        <td id=\"T_b667d0da_39c3_11ec_9f4c_0242ac1c0002row0_col13\" class=\"data row0 col13\" >91.14%</td>\n",
              "                        <td id=\"T_b667d0da_39c3_11ec_9f4c_0242ac1c0002row0_col14\" class=\"data row0 col14\" >99.91%</td>\n",
              "            </tr>\n",
              "            <tr>\n",
              "                        <th id=\"T_b667d0da_39c3_11ec_9f4c_0242ac1c0002level0_row1\" class=\"row_heading level0 row1\" >Sports</th>\n",
              "                        <td id=\"T_b667d0da_39c3_11ec_9f4c_0242ac1c0002row1_col0\" class=\"data row1 col0\" >99.46%</td>\n",
              "                        <td id=\"T_b667d0da_39c3_11ec_9f4c_0242ac1c0002row1_col1\" class=\"data row1 col1\" >0.00%</td>\n",
              "                        <td id=\"T_b667d0da_39c3_11ec_9f4c_0242ac1c0002row1_col2\" class=\"data row1 col2\" >0.01%</td>\n",
              "                        <td id=\"T_b667d0da_39c3_11ec_9f4c_0242ac1c0002row1_col3\" class=\"data row1 col3\" >98.74%</td>\n",
              "                        <td id=\"T_b667d0da_39c3_11ec_9f4c_0242ac1c0002row1_col4\" class=\"data row1 col4\" >0.00%</td>\n",
              "                        <td id=\"T_b667d0da_39c3_11ec_9f4c_0242ac1c0002row1_col5\" class=\"data row1 col5\" >0.09%</td>\n",
              "                        <td id=\"T_b667d0da_39c3_11ec_9f4c_0242ac1c0002row1_col6\" class=\"data row1 col6\" >99.28%</td>\n",
              "                        <td id=\"T_b667d0da_39c3_11ec_9f4c_0242ac1c0002row1_col7\" class=\"data row1 col7\" >71.29%</td>\n",
              "                        <td id=\"T_b667d0da_39c3_11ec_9f4c_0242ac1c0002row1_col8\" class=\"data row1 col8\" >0.08%</td>\n",
              "                        <td id=\"T_b667d0da_39c3_11ec_9f4c_0242ac1c0002row1_col9\" class=\"data row1 col9\" >0.12%</td>\n",
              "                        <td id=\"T_b667d0da_39c3_11ec_9f4c_0242ac1c0002row1_col10\" class=\"data row1 col10\" >0.00%</td>\n",
              "                        <td id=\"T_b667d0da_39c3_11ec_9f4c_0242ac1c0002row1_col11\" class=\"data row1 col11\" >0.67%</td>\n",
              "                        <td id=\"T_b667d0da_39c3_11ec_9f4c_0242ac1c0002row1_col12\" class=\"data row1 col12\" >0.03%</td>\n",
              "                        <td id=\"T_b667d0da_39c3_11ec_9f4c_0242ac1c0002row1_col13\" class=\"data row1 col13\" >2.56%</td>\n",
              "                        <td id=\"T_b667d0da_39c3_11ec_9f4c_0242ac1c0002row1_col14\" class=\"data row1 col14\" >0.00%</td>\n",
              "            </tr>\n",
              "            <tr>\n",
              "                        <th id=\"T_b667d0da_39c3_11ec_9f4c_0242ac1c0002level0_row2\" class=\"row_heading level0 row2\" >Business</th>\n",
              "                        <td id=\"T_b667d0da_39c3_11ec_9f4c_0242ac1c0002row2_col0\" class=\"data row2 col0\" >0.18%</td>\n",
              "                        <td id=\"T_b667d0da_39c3_11ec_9f4c_0242ac1c0002row2_col1\" class=\"data row2 col1\" >0.02%</td>\n",
              "                        <td id=\"T_b667d0da_39c3_11ec_9f4c_0242ac1c0002row2_col2\" class=\"data row2 col2\" >3.62%</td>\n",
              "                        <td id=\"T_b667d0da_39c3_11ec_9f4c_0242ac1c0002row2_col3\" class=\"data row2 col3\" >0.20%</td>\n",
              "                        <td id=\"T_b667d0da_39c3_11ec_9f4c_0242ac1c0002row2_col4\" class=\"data row2 col4\" >0.06%</td>\n",
              "                        <td id=\"T_b667d0da_39c3_11ec_9f4c_0242ac1c0002row2_col5\" class=\"data row2 col5\" >13.97%</td>\n",
              "                        <td id=\"T_b667d0da_39c3_11ec_9f4c_0242ac1c0002row2_col6\" class=\"data row2 col6\" >0.07%</td>\n",
              "                        <td id=\"T_b667d0da_39c3_11ec_9f4c_0242ac1c0002row2_col7\" class=\"data row2 col7\" >0.17%</td>\n",
              "                        <td id=\"T_b667d0da_39c3_11ec_9f4c_0242ac1c0002row2_col8\" class=\"data row2 col8\" >1.52%</td>\n",
              "                        <td id=\"T_b667d0da_39c3_11ec_9f4c_0242ac1c0002row2_col9\" class=\"data row2 col9\" >93.00%</td>\n",
              "                        <td id=\"T_b667d0da_39c3_11ec_9f4c_0242ac1c0002row2_col10\" class=\"data row2 col10\" >0.00%</td>\n",
              "                        <td id=\"T_b667d0da_39c3_11ec_9f4c_0242ac1c0002row2_col11\" class=\"data row2 col11\" >0.25%</td>\n",
              "                        <td id=\"T_b667d0da_39c3_11ec_9f4c_0242ac1c0002row2_col12\" class=\"data row2 col12\" >98.68%</td>\n",
              "                        <td id=\"T_b667d0da_39c3_11ec_9f4c_0242ac1c0002row2_col13\" class=\"data row2 col13\" >2.14%</td>\n",
              "                        <td id=\"T_b667d0da_39c3_11ec_9f4c_0242ac1c0002row2_col14\" class=\"data row2 col14\" >0.03%</td>\n",
              "            </tr>\n",
              "            <tr>\n",
              "                        <th id=\"T_b667d0da_39c3_11ec_9f4c_0242ac1c0002level0_row3\" class=\"row_heading level0 row3\" >Sci/Tech</th>\n",
              "                        <td id=\"T_b667d0da_39c3_11ec_9f4c_0242ac1c0002row3_col0\" class=\"data row3 col0\" >0.09%</td>\n",
              "                        <td id=\"T_b667d0da_39c3_11ec_9f4c_0242ac1c0002row3_col1\" class=\"data row3 col1\" >0.01%</td>\n",
              "                        <td id=\"T_b667d0da_39c3_11ec_9f4c_0242ac1c0002row3_col2\" class=\"data row3 col2\" >96.08%</td>\n",
              "                        <td id=\"T_b667d0da_39c3_11ec_9f4c_0242ac1c0002row3_col3\" class=\"data row3 col3\" >0.02%</td>\n",
              "                        <td id=\"T_b667d0da_39c3_11ec_9f4c_0242ac1c0002row3_col4\" class=\"data row3 col4\" >0.04%</td>\n",
              "                        <td id=\"T_b667d0da_39c3_11ec_9f4c_0242ac1c0002row3_col5\" class=\"data row3 col5\" >85.64%</td>\n",
              "                        <td id=\"T_b667d0da_39c3_11ec_9f4c_0242ac1c0002row3_col6\" class=\"data row3 col6\" >0.13%</td>\n",
              "                        <td id=\"T_b667d0da_39c3_11ec_9f4c_0242ac1c0002row3_col7\" class=\"data row3 col7\" >5.19%</td>\n",
              "                        <td id=\"T_b667d0da_39c3_11ec_9f4c_0242ac1c0002row3_col8\" class=\"data row3 col8\" >3.63%</td>\n",
              "                        <td id=\"T_b667d0da_39c3_11ec_9f4c_0242ac1c0002row3_col9\" class=\"data row3 col9\" >4.77%</td>\n",
              "                        <td id=\"T_b667d0da_39c3_11ec_9f4c_0242ac1c0002row3_col10\" class=\"data row3 col10\" >0.00%</td>\n",
              "                        <td id=\"T_b667d0da_39c3_11ec_9f4c_0242ac1c0002row3_col11\" class=\"data row3 col11\" >98.51%</td>\n",
              "                        <td id=\"T_b667d0da_39c3_11ec_9f4c_0242ac1c0002row3_col12\" class=\"data row3 col12\" >0.63%</td>\n",
              "                        <td id=\"T_b667d0da_39c3_11ec_9f4c_0242ac1c0002row3_col13\" class=\"data row3 col13\" >4.17%</td>\n",
              "                        <td id=\"T_b667d0da_39c3_11ec_9f4c_0242ac1c0002row3_col14\" class=\"data row3 col14\" >0.06%</td>\n",
              "            </tr>\n",
              "    </tbody></table>"
            ],
            "text/plain": [
              "<pandas.io.formats.style.Styler at 0x7f2208281f50>"
            ]
          },
          "metadata": {},
          "execution_count": 56
        }
      ]
    },
    {
      "cell_type": "markdown",
      "metadata": {
        "id": "tjp9x4KJ92TK"
      },
      "source": [
        "Vocabulary of 10,000"
      ]
    },
    {
      "cell_type": "code",
      "metadata": {
        "colab": {
          "base_uri": "https://localhost:8080/"
        },
        "id": "DiwtKYrr95DS",
        "outputId": "2dda1fea-8f55-4f2a-b53f-2df6d0bc8593"
      },
      "source": [
        "%%time\n",
        "encoder_10000 = tf.keras.layers.experimental.preprocessing.TextVectorization(max_tokens=10000)\n",
        "encoder_10000.adapt(dataset_all.map(lambda text, label: text))\n",
        "vocab_10000 = np.array(encoder_10000.get_vocabulary());"
      ],
      "execution_count": null,
      "outputs": [
        {
          "output_type": "stream",
          "name": "stdout",
          "text": [
            "WARNING:tensorflow:AutoGraph could not transform <function <lambda> at 0x7f221ebd7680> and will run it as-is.\n",
            "Cause: could not parse the source code of <function <lambda> at 0x7f221ebd7680>: no matching AST found\n",
            "To silence this warning, decorate the function with @tf.autograph.experimental.do_not_convert\n"
          ]
        },
        {
          "output_type": "stream",
          "name": "stderr",
          "text": [
            "WARNING:tensorflow:AutoGraph could not transform <function <lambda> at 0x7f221ebd7680> and will run it as-is.\n",
            "Cause: could not parse the source code of <function <lambda> at 0x7f221ebd7680>: no matching AST found\n",
            "To silence this warning, decorate the function with @tf.autograph.experimental.do_not_convert\n"
          ]
        },
        {
          "output_type": "stream",
          "name": "stdout",
          "text": [
            "WARNING: AutoGraph could not transform <function <lambda> at 0x7f221ebd7680> and will run it as-is.\n",
            "Cause: could not parse the source code of <function <lambda> at 0x7f221ebd7680>: no matching AST found\n",
            "To silence this warning, decorate the function with @tf.autograph.experimental.do_not_convert\n",
            "CPU times: user 1min 41s, sys: 11.2 s, total: 1min 52s\n",
            "Wall time: 1min 22s\n"
          ]
        }
      ]
    },
    {
      "cell_type": "code",
      "metadata": {
        "colab": {
          "base_uri": "https://localhost:8080/"
        },
        "id": "3AqKmejt95Ge",
        "outputId": "c830d6c9-728a-4f28-de26-4f4c6f4863af"
      },
      "source": [
        "vocab_10000[:20]"
      ],
      "execution_count": null,
      "outputs": [
        {
          "output_type": "execute_result",
          "data": {
            "text/plain": [
              "array(['', '[UNK]', 'the', 'a', 'to', 'of', 'in', 'and', 'on', 'for',\n",
              "       'that', '39s', 'with', 'its', 'as', 'at', 'is', 'said', 'by', 'it'],\n",
              "      dtype='<U56')"
            ]
          },
          "metadata": {},
          "execution_count": 58
        }
      ]
    },
    {
      "cell_type": "code",
      "metadata": {
        "colab": {
          "base_uri": "https://localhost:8080/"
        },
        "id": "OfJjbRCM95Kc",
        "outputId": "927ef37d-c34a-4e49-b6c7-f6cc4042b155"
      },
      "source": [
        "example = \"the dog ran after a red ball as it rolled by the hat on the ground.\"\n",
        "encoder_10000(example)"
      ],
      "execution_count": null,
      "outputs": [
        {
          "output_type": "execute_result",
          "data": {
            "text/plain": [
              "<tf.Tensor: shape=(16,), dtype=int64, numpy=\n",
              "array([   2, 5958, 1287,   29,    3,  232, 1414,   14,   19, 2548,   18,\n",
              "          2, 2435,    8,    2,  999])>"
            ]
          },
          "metadata": {},
          "execution_count": 59
        }
      ]
    },
    {
      "cell_type": "code",
      "metadata": {
        "colab": {
          "base_uri": "https://localhost:8080/"
        },
        "id": "02P0-wzN95OZ",
        "outputId": "d1ea52b7-6eb2-4ce5-d6c8-5ac40a0d64e5"
      },
      "source": [
        "for word in example.split():\n",
        "  print(f'\"{word}\" is {\"*not* \" if word not in vocab_10000  else \"\"}in the vocabulary.')"
      ],
      "execution_count": null,
      "outputs": [
        {
          "output_type": "stream",
          "name": "stdout",
          "text": [
            "\"the\" is in the vocabulary.\n",
            "\"dog\" is in the vocabulary.\n",
            "\"ran\" is in the vocabulary.\n",
            "\"after\" is in the vocabulary.\n",
            "\"a\" is in the vocabulary.\n",
            "\"red\" is in the vocabulary.\n",
            "\"ball\" is in the vocabulary.\n",
            "\"as\" is in the vocabulary.\n",
            "\"it\" is in the vocabulary.\n",
            "\"rolled\" is in the vocabulary.\n",
            "\"by\" is in the vocabulary.\n",
            "\"the\" is in the vocabulary.\n",
            "\"hat\" is in the vocabulary.\n",
            "\"on\" is in the vocabulary.\n",
            "\"the\" is in the vocabulary.\n",
            "\"ground.\" is *not* in the vocabulary.\n"
          ]
        }
      ]
    },
    {
      "cell_type": "code",
      "metadata": {
        "colab": {
          "base_uri": "https://localhost:8080/"
        },
        "id": "GKpjJFcO95R1",
        "outputId": "3ae5a5fe-4ac5-4cd3-dced-aeb0fee3721a"
      },
      "source": [
        "%%time\n",
        "doc10000_sizes = []\n",
        "corpus10000 = []\n",
        "count10000=0\n",
        "useless = 0\n",
        "# stop = 0\n",
        "percents = []\n",
        "for example, _ in dataset_all.as_numpy_iterator():\n",
        "  # stop+=1\n",
        "  # if stop > 5: break\n",
        "  enc_example = encoder_10000(example)\n",
        "  num_ones = tf.math.count_nonzero(enc_example==1).numpy()\n",
        "  percent_ones = round(num_ones*100/len(enc_example))\n",
        "  # print(f\"{percent_ones}%\")\n",
        "  percents.append(percent_ones)\n",
        "\n",
        "  s = set(list(enc_example.numpy()))\n",
        "  if s == {1}: useless+=1\n",
        "\n",
        "  doc10000_sizes.append(len(enc_example))\n",
        "  corpus10000+=list(enc_example.numpy())\n",
        "\n",
        "  count10000 += tf.math.count_nonzero(enc_example>1)"
      ],
      "execution_count": null,
      "outputs": [
        {
          "output_type": "stream",
          "name": "stdout",
          "text": [
            "CPU times: user 8min 19s, sys: 9.3 s, total: 8min 29s\n",
            "Wall time: 8min 21s\n"
          ]
        }
      ]
    },
    {
      "cell_type": "code",
      "metadata": {
        "colab": {
          "base_uri": "https://localhost:8080/"
        },
        "id": "dpcUq2eq-YKG",
        "outputId": "2b338e72-4016-4339-ccec-6cbdc379a981"
      },
      "source": [
        "Counter(percents).most_common(10)\n",
        "np.unique(percents, return_counts=True)"
      ],
      "execution_count": null,
      "outputs": [
        {
          "output_type": "execute_result",
          "data": {
            "text/plain": [
              "(array([  0,   1,   2,   3,   4,   5,   6,   7,   8,   9,  10,  11,  12,\n",
              "         13,  14,  15,  16,  17,  18,  19,  20,  21,  22,  23,  24,  25,\n",
              "         26,  27,  28,  29,  30,  31,  32,  33,  34,  35,  36,  37,  38,\n",
              "         39,  40,  41,  42,  43,  44,  45,  46,  47,  48,  50,  54,  55,\n",
              "         56,  57,  58,  59,  60,  61,  62,  64,  66,  67,  68,  69,  70,\n",
              "         71,  72,  73,  75,  79,  80,  83,  87, 100]),\n",
              " array([21240,    45,  2104, 13518,  9840,  7383,  9447,  7506,  7562,\n",
              "         6710,  6019,  5348,  6051,  2988,  3986,  3031,  2090,  2431,\n",
              "         1724,  1722,  1077,  1169,   766,   653,   650,   500,   362,\n",
              "          283,   179,   238,   153,   133,    99,   146,    15,    52,\n",
              "           43,    22,    55,    13,    49,     5,    16,    24,    14,\n",
              "           10,     7,     4,     3,    30,     2,     1,     6,     4,\n",
              "            6,     4,    17,     3,     5,     1,     1,     7,     2,\n",
              "            1,     1,     7,     1,     1,     5,     1,     2,     2,\n",
              "            1,     4]))"
            ]
          },
          "metadata": {},
          "execution_count": 62
        }
      ]
    },
    {
      "cell_type": "code",
      "metadata": {
        "colab": {
          "base_uri": "https://localhost:8080/",
          "height": 551
        },
        "id": "13R7qS-y95Xg",
        "outputId": "7fea7fb6-a659-4560-abe1-f1415dd1045e"
      },
      "source": [
        "plt.figure(figsize=(15,9))\n",
        "plt.hist(percents, 20)\n",
        "plt.ylabel('Number of Documents')\n",
        "plt.xlabel('Percent of Non-Vocabulary Words in a Document');"
      ],
      "execution_count": null,
      "outputs": [
        {
          "output_type": "display_data",
          "data": {
            "image/png": "[encoded data removed]",
            "text/plain": [
              "<Figure size 1080x648 with 1 Axes>"
            ]
          },
          "metadata": {
            "needs_background": "light"
          }
        }
      ]
    },
    {
      "cell_type": "code",
      "metadata": {
        "colab": {
          "base_uri": "https://localhost:8080/"
        },
        "id": "UN1Zttax2xEY",
        "outputId": "98be92c1-defb-45f3-b886-69120baaadd0"
      },
      "source": [
        "print(f\"There are {count10000} top {len(vocab_10000)} vocabulary words in the corpus.\")"
      ],
      "execution_count": null,
      "outputs": [
        {
          "output_type": "stream",
          "name": "stdout",
          "text": [
            "There are 3610024 top 10000 vocabulary words in the corpus.\n"
          ]
        }
      ]
    },
    {
      "cell_type": "code",
      "metadata": {
        "id": "S7F9WVH50G4O"
      },
      "source": [
        "num_classes = 4\n",
        "model = tf.keras.Sequential([\n",
        "                              encoder_10000\n",
        "                              ,tf.keras.layers.Embedding(input_dim=len(encoder_10000.get_vocabulary())\n",
        "                              ,output_dim=64\n",
        "                                # Use masking to handle the variable sequence lengths\n",
        "                              ,mask_zero=True)\n",
        "                              ,tf.keras.layers.Bidirectional(tf.keras.layers.LSTM(64))\n",
        "                              ,tf.keras.layers.Dense(64, activation='relu')\n",
        "                              ,tf.keras.layers.Dense(num_classes,activation='softmax')   # num_classes = 4\n",
        "])"
      ],
      "execution_count": null,
      "outputs": []
    },
    {
      "cell_type": "code",
      "metadata": {
        "id": "EnpMPGAS0G9K"
      },
      "source": [
        "model.compile(optimizer=tf.keras.optimizers.Adam(1e-4)\n",
        "              ,loss=tf.keras.losses.SparseCategoricalCrossentropy() # if we set from_logits=True we don not have specify a softmax activation function in the last layer\n",
        "              ,metrics=['accuracy'])\n"
      ],
      "execution_count": null,
      "outputs": []
    },
    {
      "cell_type": "code",
      "metadata": {
        "colab": {
          "base_uri": "https://localhost:8080/"
        },
        "id": "sFVdmXrI0HF1",
        "outputId": "1167f3e9-b65e-486b-e4a9-d8cb52ac1c2d"
      },
      "source": [
        "history = model.fit(train_dataset\n",
        "                    ,epochs = 200\n",
        "                    ,validation_data=validation_dataset\n",
        "                    ,callbacks=[tf.keras.callbacks.EarlyStopping(monitor='val_accuracy', patience=2)]\n",
        "                    )"
      ],
      "execution_count": null,
      "outputs": [
        {
          "output_type": "stream",
          "name": "stdout",
          "text": [
            "Epoch 1/200\n",
            "1782/1782 [==============================] - 274s 148ms/step - loss: 0.6068 - accuracy: 0.7860 - val_loss: 0.3501 - val_accuracy: 0.8847\n",
            "Epoch 2/200\n",
            "1782/1782 [==============================] - 262s 147ms/step - loss: 0.2995 - accuracy: 0.9007 - val_loss: 0.3083 - val_accuracy: 0.8997\n",
            "Epoch 3/200\n",
            "1782/1782 [==============================] - 261s 146ms/step - loss: 0.2491 - accuracy: 0.9170 - val_loss: 0.2956 - val_accuracy: 0.9015\n",
            "Epoch 4/200\n",
            "1782/1782 [==============================] - 261s 147ms/step - loss: 0.2196 - accuracy: 0.9261 - val_loss: 0.2974 - val_accuracy: 0.8998\n",
            "Epoch 5/200\n",
            "1782/1782 [==============================] - 260s 146ms/step - loss: 0.2009 - accuracy: 0.9315 - val_loss: 0.2920 - val_accuracy: 0.9052\n",
            "Epoch 6/200\n",
            "1782/1782 [==============================] - 260s 146ms/step - loss: 0.1862 - accuracy: 0.9366 - val_loss: 0.3004 - val_accuracy: 0.9042\n",
            "Epoch 7/200\n",
            "1782/1782 [==============================] - 261s 147ms/step - loss: 0.1748 - accuracy: 0.9406 - val_loss: 0.3110 - val_accuracy: 0.9040\n"
          ]
        }
      ]
    },
    {
      "cell_type": "code",
      "metadata": {
        "colab": {
          "base_uri": "https://localhost:8080/"
        },
        "id": "s97f6aCO0HOB",
        "outputId": "9294e77e-42fc-4dcd-fa2a-8f4a090c508d"
      },
      "source": [
        "test_loss, test_acc = model.evaluate(test_dataset)\n",
        "\n",
        "print('Test Loss: {}'.format(test_loss))\n",
        "print('Test Accuracy: {}'.format(test_acc))"
      ],
      "execution_count": null,
      "outputs": [
        {
          "output_type": "stream",
          "name": "stdout",
          "text": [
            "119/119 [==============================] - 5s 38ms/step - loss: 0.3185 - accuracy: 0.8986\n",
            "Test Loss: 0.3185405731201172\n",
            "Test Accuracy: 0.898552656173706\n"
          ]
        }
      ]
    },
    {
      "cell_type": "code",
      "metadata": {
        "id": "KiKRaxKX3DTu"
      },
      "source": [
        "preds = model.predict(test_dataset)"
      ],
      "execution_count": null,
      "outputs": []
    },
    {
      "cell_type": "code",
      "metadata": {
        "id": "Vd_N0M8q3DfD"
      },
      "source": [
        "cm = sns.light_palette((260, 75, 60), input=\"husl\", as_cmap=True)"
      ],
      "execution_count": null,
      "outputs": []
    },
    {
      "cell_type": "code",
      "metadata": {
        "colab": {
          "base_uri": "https://localhost:8080/",
          "height": 173
        },
        "id": "gSFU0GDB3DnH",
        "outputId": "e89a384c-1e86-4c3c-b350-733c191dbd41"
      },
      "source": [
        "df = pd.DataFrame(preds[0:15]\n",
        "                  ,columns = ['World','Sports','Business','Sci/Tech']).T\n",
        "df.style.format(\"{:.2%}\").background_gradient(cmap=cm)"
      ],
      "execution_count": null,
      "outputs": [
        {
          "output_type": "execute_result",
          "data": {
            "text/html": [
              "<style  type=\"text/css\" >\n",
              "#T_3fd0fbac_39ca_11ec_9f4c_0242ac1c0002row0_col0,#T_3fd0fbac_39ca_11ec_9f4c_0242ac1c0002row0_col2,#T_3fd0fbac_39ca_11ec_9f4c_0242ac1c0002row0_col3,#T_3fd0fbac_39ca_11ec_9f4c_0242ac1c0002row0_col5,#T_3fd0fbac_39ca_11ec_9f4c_0242ac1c0002row0_col6,#T_3fd0fbac_39ca_11ec_9f4c_0242ac1c0002row0_col11,#T_3fd0fbac_39ca_11ec_9f4c_0242ac1c0002row0_col12,#T_3fd0fbac_39ca_11ec_9f4c_0242ac1c0002row1_col1,#T_3fd0fbac_39ca_11ec_9f4c_0242ac1c0002row1_col2,#T_3fd0fbac_39ca_11ec_9f4c_0242ac1c0002row1_col4,#T_3fd0fbac_39ca_11ec_9f4c_0242ac1c0002row1_col5,#T_3fd0fbac_39ca_11ec_9f4c_0242ac1c0002row1_col8,#T_3fd0fbac_39ca_11ec_9f4c_0242ac1c0002row1_col9,#T_3fd0fbac_39ca_11ec_9f4c_0242ac1c0002row1_col10,#T_3fd0fbac_39ca_11ec_9f4c_0242ac1c0002row1_col11,#T_3fd0fbac_39ca_11ec_9f4c_0242ac1c0002row1_col12,#T_3fd0fbac_39ca_11ec_9f4c_0242ac1c0002row1_col13,#T_3fd0fbac_39ca_11ec_9f4c_0242ac1c0002row1_col14,#T_3fd0fbac_39ca_11ec_9f4c_0242ac1c0002row2_col0,#T_3fd0fbac_39ca_11ec_9f4c_0242ac1c0002row2_col1,#T_3fd0fbac_39ca_11ec_9f4c_0242ac1c0002row2_col3,#T_3fd0fbac_39ca_11ec_9f4c_0242ac1c0002row2_col6,#T_3fd0fbac_39ca_11ec_9f4c_0242ac1c0002row2_col7,#T_3fd0fbac_39ca_11ec_9f4c_0242ac1c0002row2_col8,#T_3fd0fbac_39ca_11ec_9f4c_0242ac1c0002row2_col10,#T_3fd0fbac_39ca_11ec_9f4c_0242ac1c0002row2_col11,#T_3fd0fbac_39ca_11ec_9f4c_0242ac1c0002row2_col13,#T_3fd0fbac_39ca_11ec_9f4c_0242ac1c0002row2_col14,#T_3fd0fbac_39ca_11ec_9f4c_0242ac1c0002row3_col0,#T_3fd0fbac_39ca_11ec_9f4c_0242ac1c0002row3_col1,#T_3fd0fbac_39ca_11ec_9f4c_0242ac1c0002row3_col3,#T_3fd0fbac_39ca_11ec_9f4c_0242ac1c0002row3_col6,#T_3fd0fbac_39ca_11ec_9f4c_0242ac1c0002row3_col7,#T_3fd0fbac_39ca_11ec_9f4c_0242ac1c0002row3_col8,#T_3fd0fbac_39ca_11ec_9f4c_0242ac1c0002row3_col9,#T_3fd0fbac_39ca_11ec_9f4c_0242ac1c0002row3_col10,#T_3fd0fbac_39ca_11ec_9f4c_0242ac1c0002row3_col12,#T_3fd0fbac_39ca_11ec_9f4c_0242ac1c0002row3_col13,#T_3fd0fbac_39ca_11ec_9f4c_0242ac1c0002row3_col14{\n",
              "            background-color:  #f0f1f2;\n",
              "            color:  #000000;\n",
              "        }#T_3fd0fbac_39ca_11ec_9f4c_0242ac1c0002row0_col1,#T_3fd0fbac_39ca_11ec_9f4c_0242ac1c0002row0_col4,#T_3fd0fbac_39ca_11ec_9f4c_0242ac1c0002row0_col8,#T_3fd0fbac_39ca_11ec_9f4c_0242ac1c0002row0_col10,#T_3fd0fbac_39ca_11ec_9f4c_0242ac1c0002row0_col13,#T_3fd0fbac_39ca_11ec_9f4c_0242ac1c0002row0_col14,#T_3fd0fbac_39ca_11ec_9f4c_0242ac1c0002row1_col0,#T_3fd0fbac_39ca_11ec_9f4c_0242ac1c0002row1_col3,#T_3fd0fbac_39ca_11ec_9f4c_0242ac1c0002row1_col6,#T_3fd0fbac_39ca_11ec_9f4c_0242ac1c0002row1_col7,#T_3fd0fbac_39ca_11ec_9f4c_0242ac1c0002row2_col9,#T_3fd0fbac_39ca_11ec_9f4c_0242ac1c0002row2_col12,#T_3fd0fbac_39ca_11ec_9f4c_0242ac1c0002row3_col2,#T_3fd0fbac_39ca_11ec_9f4c_0242ac1c0002row3_col5,#T_3fd0fbac_39ca_11ec_9f4c_0242ac1c0002row3_col11{\n",
              "            background-color:  #778ce4;\n",
              "            color:  #000000;\n",
              "        }#T_3fd0fbac_39ca_11ec_9f4c_0242ac1c0002row0_col7,#T_3fd0fbac_39ca_11ec_9f4c_0242ac1c0002row2_col2{\n",
              "            background-color:  #eff0f2;\n",
              "            color:  #000000;\n",
              "        }#T_3fd0fbac_39ca_11ec_9f4c_0242ac1c0002row0_col9,#T_3fd0fbac_39ca_11ec_9f4c_0242ac1c0002row3_col4{\n",
              "            background-color:  #eeeff2;\n",
              "            color:  #000000;\n",
              "        }#T_3fd0fbac_39ca_11ec_9f4c_0242ac1c0002row2_col4{\n",
              "            background-color:  #f0f0f2;\n",
              "            color:  #000000;\n",
              "        }#T_3fd0fbac_39ca_11ec_9f4c_0242ac1c0002row2_col5{\n",
              "            background-color:  #efeff2;\n",
              "            color:  #000000;\n",
              "        }</style><table id=\"T_3fd0fbac_39ca_11ec_9f4c_0242ac1c0002\" class=\"dataframe\"><thead>    <tr>        <th class=\"blank level0\" ></th>        <th class=\"col_heading level0 col0\" >0</th>        <th class=\"col_heading level0 col1\" >1</th>        <th class=\"col_heading level0 col2\" >2</th>        <th class=\"col_heading level0 col3\" >3</th>        <th class=\"col_heading level0 col4\" >4</th>        <th class=\"col_heading level0 col5\" >5</th>        <th class=\"col_heading level0 col6\" >6</th>        <th class=\"col_heading level0 col7\" >7</th>        <th class=\"col_heading level0 col8\" >8</th>        <th class=\"col_heading level0 col9\" >9</th>        <th class=\"col_heading level0 col10\" >10</th>        <th class=\"col_heading level0 col11\" >11</th>        <th class=\"col_heading level0 col12\" >12</th>        <th class=\"col_heading level0 col13\" >13</th>        <th class=\"col_heading level0 col14\" >14</th>    </tr></thead><tbody>\n",
              "                <tr>\n",
              "                        <th id=\"T_3fd0fbac_39ca_11ec_9f4c_0242ac1c0002level0_row0\" class=\"row_heading level0 row0\" >World</th>\n",
              "                        <td id=\"T_3fd0fbac_39ca_11ec_9f4c_0242ac1c0002row0_col0\" class=\"data row0 col0\" >0.02%</td>\n",
              "                        <td id=\"T_3fd0fbac_39ca_11ec_9f4c_0242ac1c0002row0_col1\" class=\"data row0 col1\" >100.00%</td>\n",
              "                        <td id=\"T_3fd0fbac_39ca_11ec_9f4c_0242ac1c0002row0_col2\" class=\"data row0 col2\" >0.12%</td>\n",
              "                        <td id=\"T_3fd0fbac_39ca_11ec_9f4c_0242ac1c0002row0_col3\" class=\"data row0 col3\" >0.05%</td>\n",
              "                        <td id=\"T_3fd0fbac_39ca_11ec_9f4c_0242ac1c0002row0_col4\" class=\"data row0 col4\" >97.70%</td>\n",
              "                        <td id=\"T_3fd0fbac_39ca_11ec_9f4c_0242ac1c0002row0_col5\" class=\"data row0 col5\" >0.07%</td>\n",
              "                        <td id=\"T_3fd0fbac_39ca_11ec_9f4c_0242ac1c0002row0_col6\" class=\"data row0 col6\" >0.02%</td>\n",
              "                        <td id=\"T_3fd0fbac_39ca_11ec_9f4c_0242ac1c0002row0_col7\" class=\"data row0 col7\" >1.07%</td>\n",
              "                        <td id=\"T_3fd0fbac_39ca_11ec_9f4c_0242ac1c0002row0_col8\" class=\"data row0 col8\" >100.00%</td>\n",
              "                        <td id=\"T_3fd0fbac_39ca_11ec_9f4c_0242ac1c0002row0_col9\" class=\"data row0 col9\" >2.15%</td>\n",
              "                        <td id=\"T_3fd0fbac_39ca_11ec_9f4c_0242ac1c0002row0_col10\" class=\"data row0 col10\" >100.00%</td>\n",
              "                        <td id=\"T_3fd0fbac_39ca_11ec_9f4c_0242ac1c0002row0_col11\" class=\"data row0 col11\" >0.05%</td>\n",
              "                        <td id=\"T_3fd0fbac_39ca_11ec_9f4c_0242ac1c0002row0_col12\" class=\"data row0 col12\" >0.04%</td>\n",
              "                        <td id=\"T_3fd0fbac_39ca_11ec_9f4c_0242ac1c0002row0_col13\" class=\"data row0 col13\" >99.90%</td>\n",
              "                        <td id=\"T_3fd0fbac_39ca_11ec_9f4c_0242ac1c0002row0_col14\" class=\"data row0 col14\" >100.00%</td>\n",
              "            </tr>\n",
              "            <tr>\n",
              "                        <th id=\"T_3fd0fbac_39ca_11ec_9f4c_0242ac1c0002level0_row1\" class=\"row_heading level0 row1\" >Sports</th>\n",
              "                        <td id=\"T_3fd0fbac_39ca_11ec_9f4c_0242ac1c0002row1_col0\" class=\"data row1 col0\" >99.96%</td>\n",
              "                        <td id=\"T_3fd0fbac_39ca_11ec_9f4c_0242ac1c0002row1_col1\" class=\"data row1 col1\" >0.00%</td>\n",
              "                        <td id=\"T_3fd0fbac_39ca_11ec_9f4c_0242ac1c0002row1_col2\" class=\"data row1 col2\" >0.00%</td>\n",
              "                        <td id=\"T_3fd0fbac_39ca_11ec_9f4c_0242ac1c0002row1_col3\" class=\"data row1 col3\" >99.94%</td>\n",
              "                        <td id=\"T_3fd0fbac_39ca_11ec_9f4c_0242ac1c0002row1_col4\" class=\"data row1 col4\" >0.00%</td>\n",
              "                        <td id=\"T_3fd0fbac_39ca_11ec_9f4c_0242ac1c0002row1_col5\" class=\"data row1 col5\" >0.01%</td>\n",
              "                        <td id=\"T_3fd0fbac_39ca_11ec_9f4c_0242ac1c0002row1_col6\" class=\"data row1 col6\" >99.95%</td>\n",
              "                        <td id=\"T_3fd0fbac_39ca_11ec_9f4c_0242ac1c0002row1_col7\" class=\"data row1 col7\" >98.90%</td>\n",
              "                        <td id=\"T_3fd0fbac_39ca_11ec_9f4c_0242ac1c0002row1_col8\" class=\"data row1 col8\" >0.00%</td>\n",
              "                        <td id=\"T_3fd0fbac_39ca_11ec_9f4c_0242ac1c0002row1_col9\" class=\"data row1 col9\" >0.01%</td>\n",
              "                        <td id=\"T_3fd0fbac_39ca_11ec_9f4c_0242ac1c0002row1_col10\" class=\"data row1 col10\" >0.00%</td>\n",
              "                        <td id=\"T_3fd0fbac_39ca_11ec_9f4c_0242ac1c0002row1_col11\" class=\"data row1 col11\" >0.00%</td>\n",
              "                        <td id=\"T_3fd0fbac_39ca_11ec_9f4c_0242ac1c0002row1_col12\" class=\"data row1 col12\" >0.00%</td>\n",
              "                        <td id=\"T_3fd0fbac_39ca_11ec_9f4c_0242ac1c0002row1_col13\" class=\"data row1 col13\" >0.09%</td>\n",
              "                        <td id=\"T_3fd0fbac_39ca_11ec_9f4c_0242ac1c0002row1_col14\" class=\"data row1 col14\" >0.00%</td>\n",
              "            </tr>\n",
              "            <tr>\n",
              "                        <th id=\"T_3fd0fbac_39ca_11ec_9f4c_0242ac1c0002level0_row2\" class=\"row_heading level0 row2\" >Business</th>\n",
              "                        <td id=\"T_3fd0fbac_39ca_11ec_9f4c_0242ac1c0002row2_col0\" class=\"data row2 col0\" >0.02%</td>\n",
              "                        <td id=\"T_3fd0fbac_39ca_11ec_9f4c_0242ac1c0002row2_col1\" class=\"data row2 col1\" >0.00%</td>\n",
              "                        <td id=\"T_3fd0fbac_39ca_11ec_9f4c_0242ac1c0002row2_col2\" class=\"data row2 col2\" >0.80%</td>\n",
              "                        <td id=\"T_3fd0fbac_39ca_11ec_9f4c_0242ac1c0002row2_col3\" class=\"data row2 col3\" >0.00%</td>\n",
              "                        <td id=\"T_3fd0fbac_39ca_11ec_9f4c_0242ac1c0002row2_col4\" class=\"data row2 col4\" >0.47%</td>\n",
              "                        <td id=\"T_3fd0fbac_39ca_11ec_9f4c_0242ac1c0002row2_col5\" class=\"data row2 col5\" >1.37%</td>\n",
              "                        <td id=\"T_3fd0fbac_39ca_11ec_9f4c_0242ac1c0002row2_col6\" class=\"data row2 col6\" >0.02%</td>\n",
              "                        <td id=\"T_3fd0fbac_39ca_11ec_9f4c_0242ac1c0002row2_col7\" class=\"data row2 col7\" >0.02%</td>\n",
              "                        <td id=\"T_3fd0fbac_39ca_11ec_9f4c_0242ac1c0002row2_col8\" class=\"data row2 col8\" >0.00%</td>\n",
              "                        <td id=\"T_3fd0fbac_39ca_11ec_9f4c_0242ac1c0002row2_col9\" class=\"data row2 col9\" >97.50%</td>\n",
              "                        <td id=\"T_3fd0fbac_39ca_11ec_9f4c_0242ac1c0002row2_col10\" class=\"data row2 col10\" >0.00%</td>\n",
              "                        <td id=\"T_3fd0fbac_39ca_11ec_9f4c_0242ac1c0002row2_col11\" class=\"data row2 col11\" >0.06%</td>\n",
              "                        <td id=\"T_3fd0fbac_39ca_11ec_9f4c_0242ac1c0002row2_col12\" class=\"data row2 col12\" >99.76%</td>\n",
              "                        <td id=\"T_3fd0fbac_39ca_11ec_9f4c_0242ac1c0002row2_col13\" class=\"data row2 col13\" >0.00%</td>\n",
              "                        <td id=\"T_3fd0fbac_39ca_11ec_9f4c_0242ac1c0002row2_col14\" class=\"data row2 col14\" >0.00%</td>\n",
              "            </tr>\n",
              "            <tr>\n",
              "                        <th id=\"T_3fd0fbac_39ca_11ec_9f4c_0242ac1c0002level0_row3\" class=\"row_heading level0 row3\" >Sci/Tech</th>\n",
              "                        <td id=\"T_3fd0fbac_39ca_11ec_9f4c_0242ac1c0002row3_col0\" class=\"data row3 col0\" >0.00%</td>\n",
              "                        <td id=\"T_3fd0fbac_39ca_11ec_9f4c_0242ac1c0002row3_col1\" class=\"data row3 col1\" >0.00%</td>\n",
              "                        <td id=\"T_3fd0fbac_39ca_11ec_9f4c_0242ac1c0002row3_col2\" class=\"data row3 col2\" >99.08%</td>\n",
              "                        <td id=\"T_3fd0fbac_39ca_11ec_9f4c_0242ac1c0002row3_col3\" class=\"data row3 col3\" >0.00%</td>\n",
              "                        <td id=\"T_3fd0fbac_39ca_11ec_9f4c_0242ac1c0002row3_col4\" class=\"data row3 col4\" >1.83%</td>\n",
              "                        <td id=\"T_3fd0fbac_39ca_11ec_9f4c_0242ac1c0002row3_col5\" class=\"data row3 col5\" >98.55%</td>\n",
              "                        <td id=\"T_3fd0fbac_39ca_11ec_9f4c_0242ac1c0002row3_col6\" class=\"data row3 col6\" >0.01%</td>\n",
              "                        <td id=\"T_3fd0fbac_39ca_11ec_9f4c_0242ac1c0002row3_col7\" class=\"data row3 col7\" >0.01%</td>\n",
              "                        <td id=\"T_3fd0fbac_39ca_11ec_9f4c_0242ac1c0002row3_col8\" class=\"data row3 col8\" >0.00%</td>\n",
              "                        <td id=\"T_3fd0fbac_39ca_11ec_9f4c_0242ac1c0002row3_col9\" class=\"data row3 col9\" >0.34%</td>\n",
              "                        <td id=\"T_3fd0fbac_39ca_11ec_9f4c_0242ac1c0002row3_col10\" class=\"data row3 col10\" >0.00%</td>\n",
              "                        <td id=\"T_3fd0fbac_39ca_11ec_9f4c_0242ac1c0002row3_col11\" class=\"data row3 col11\" >99.89%</td>\n",
              "                        <td id=\"T_3fd0fbac_39ca_11ec_9f4c_0242ac1c0002row3_col12\" class=\"data row3 col12\" >0.19%</td>\n",
              "                        <td id=\"T_3fd0fbac_39ca_11ec_9f4c_0242ac1c0002row3_col13\" class=\"data row3 col13\" >0.00%</td>\n",
              "                        <td id=\"T_3fd0fbac_39ca_11ec_9f4c_0242ac1c0002row3_col14\" class=\"data row3 col14\" >0.00%</td>\n",
              "            </tr>\n",
              "    </tbody></table>"
            ],
            "text/plain": [
              "<pandas.io.formats.style.Styler at 0x7f22108c10d0>"
            ]
          },
          "metadata": {},
          "execution_count": 71
        }
      ]
    },
    {
      "cell_type": "markdown",
      "metadata": {
        "id": "zd5G2VjPmI9s"
      },
      "source": [
        "(b) Editing the Vocabulary: Try unedited most frequent words, VS edit the list by deleting the most frequent words such as articles, ‘the’, ‘a’, etc."
      ]
    },
    {
      "cell_type": "code",
      "metadata": {
        "id": "zUL1ZcAvseJZ"
      },
      "source": [
        "VOCAB_SIZE=1000\n",
        "encoder = tf.keras.layers.experimental.preprocessing.TextVectorization(\n",
        "    max_tokens=VOCAB_SIZE)\n",
        "encoder.adapt(train_dataset.map(lambda text, label: text))"
      ],
      "execution_count": null,
      "outputs": []
    },
    {
      "cell_type": "code",
      "metadata": {
        "colab": {
          "base_uri": "https://localhost:8080/"
        },
        "id": "gmcTRZ-Osj6C",
        "outputId": "3560d714-70b8-490d-e993-01a95609117c"
      },
      "source": [
        "vocab = np.array(encoder.get_vocabulary())\n",
        "len(vocab)"
      ],
      "execution_count": null,
      "outputs": [
        {
          "output_type": "execute_result",
          "data": {
            "text/plain": [
              "1000"
            ]
          },
          "metadata": {},
          "execution_count": 93
        }
      ]
    },
    {
      "cell_type": "code",
      "metadata": {
        "colab": {
          "base_uri": "https://localhost:8080/"
        },
        "id": "F5FBHi0aHfHl",
        "outputId": "c70d38c4-40b9-444f-b6e6-34c76d50f1b5"
      },
      "source": [
        "vocab.shape"
      ],
      "execution_count": null,
      "outputs": [
        {
          "output_type": "execute_result",
          "data": {
            "text/plain": [
              "(1000,)"
            ]
          },
          "metadata": {},
          "execution_count": 94
        }
      ]
    },
    {
      "cell_type": "code",
      "metadata": {
        "colab": {
          "base_uri": "https://localhost:8080/"
        },
        "id": "OCFtc4yVMIXa",
        "outputId": "870e44b8-9923-4178-a45a-74865c0a6144"
      },
      "source": [
        "print(stopwords.words('english'))"
      ],
      "execution_count": null,
      "outputs": [
        {
          "output_type": "stream",
          "name": "stdout",
          "text": [
            "['i', 'me', 'my', 'myself', 'we', 'our', 'ours', 'ourselves', 'you', \"you're\", \"you've\", \"you'll\", \"you'd\", 'your', 'yours', 'yourself', 'yourselves', 'he', 'him', 'his', 'himself', 'she', \"she's\", 'her', 'hers', 'herself', 'it', \"it's\", 'its', 'itself', 'they', 'them', 'their', 'theirs', 'themselves', 'what', 'which', 'who', 'whom', 'this', 'that', \"that'll\", 'these', 'those', 'am', 'is', 'are', 'was', 'were', 'be', 'been', 'being', 'have', 'has', 'had', 'having', 'do', 'does', 'did', 'doing', 'a', 'an', 'the', 'and', 'but', 'if', 'or', 'because', 'as', 'until', 'while', 'of', 'at', 'by', 'for', 'with', 'about', 'against', 'between', 'into', 'through', 'during', 'before', 'after', 'above', 'below', 'to', 'from', 'up', 'down', 'in', 'out', 'on', 'off', 'over', 'under', 'again', 'further', 'then', 'once', 'here', 'there', 'when', 'where', 'why', 'how', 'all', 'any', 'both', 'each', 'few', 'more', 'most', 'other', 'some', 'such', 'no', 'nor', 'not', 'only', 'own', 'same', 'so', 'than', 'too', 'very', 's', 't', 'can', 'will', 'just', 'don', \"don't\", 'should', \"should've\", 'now', 'd', 'll', 'm', 'o', 're', 've', 'y', 'ain', 'aren', \"aren't\", 'couldn', \"couldn't\", 'didn', \"didn't\", 'doesn', \"doesn't\", 'hadn', \"hadn't\", 'hasn', \"hasn't\", 'haven', \"haven't\", 'isn', \"isn't\", 'ma', 'mightn', \"mightn't\", 'mustn', \"mustn't\", 'needn', \"needn't\", 'shan', \"shan't\", 'shouldn', \"shouldn't\", 'wasn', \"wasn't\", 'weren', \"weren't\", 'won', \"won't\", 'wouldn', \"wouldn't\"]\n"
          ]
        }
      ]
    },
    {
      "cell_type": "code",
      "metadata": {
        "id": "Ox9XV565YBhM"
      },
      "source": [
        "stop_words = set(stopwords.words('english'))"
      ],
      "execution_count": null,
      "outputs": []
    },
    {
      "cell_type": "code",
      "metadata": {
        "id": "ebTxpEIeRuUT"
      },
      "source": [
        "vocab_wo_stop = [word for word in vocab if not word in stop_words]"
      ],
      "execution_count": null,
      "outputs": []
    },
    {
      "cell_type": "code",
      "metadata": {
        "colab": {
          "base_uri": "https://localhost:8080/"
        },
        "id": "tdRbtXqtRu3b",
        "outputId": "95d5d24d-0b71-498d-a9ed-5cda85578189"
      },
      "source": [
        "len(vocab_wo_stop)"
      ],
      "execution_count": null,
      "outputs": [
        {
          "output_type": "execute_result",
          "data": {
            "text/plain": [
              "898"
            ]
          },
          "metadata": {},
          "execution_count": 98
        }
      ]
    },
    {
      "cell_type": "code",
      "metadata": {
        "colab": {
          "base_uri": "https://localhost:8080/"
        },
        "id": "-ErLVu6dqCdP",
        "outputId": "5139876a-bf24-437b-efc4-843a64c597fd"
      },
      "source": [
        "len(vocab)"
      ],
      "execution_count": null,
      "outputs": [
        {
          "output_type": "execute_result",
          "data": {
            "text/plain": [
              "1000"
            ]
          },
          "metadata": {},
          "execution_count": 102
        }
      ]
    },
    {
      "cell_type": "code",
      "metadata": {
        "colab": {
          "base_uri": "https://localhost:8080/"
        },
        "id": "_r15Cf4mpAvT",
        "outputId": "950e8ee7-da7b-4129-9fab-e9b102b3573e"
      },
      "source": [
        "vocab[:20]"
      ],
      "execution_count": null,
      "outputs": [
        {
          "output_type": "execute_result",
          "data": {
            "text/plain": [
              "array(['', '[UNK]', 'the', 'a', 'to', 'of', 'in', 'and', 'on', 'for',\n",
              "       'that', '39s', 'with', 'its', 'as', 'at', 'is', 'said', 'by', 'it'],\n",
              "      dtype='<U14')"
            ]
          },
          "metadata": {},
          "execution_count": 104
        }
      ]
    },
    {
      "cell_type": "code",
      "metadata": {
        "colab": {
          "base_uri": "https://localhost:8080/"
        },
        "id": "oyirT8JupA2f",
        "outputId": "e02b6def-4b82-47f3-a80a-f30108ae0a1c"
      },
      "source": [
        "# See vocabulary without the common \"stop-words\"\n",
        "vocab_wo_stop[:20]"
      ],
      "execution_count": null,
      "outputs": [
        {
          "output_type": "execute_result",
          "data": {
            "text/plain": [
              "['',\n",
              " '[UNK]',\n",
              " '39s',\n",
              " 'said',\n",
              " 'new',\n",
              " 'us',\n",
              " 'reuters',\n",
              " 'ap',\n",
              " 'two',\n",
              " 'first',\n",
              " 'monday',\n",
              " 'wednesday',\n",
              " 'tuesday',\n",
              " 'thursday',\n",
              " 'company',\n",
              " 'friday',\n",
              " 'inc',\n",
              " 'one',\n",
              " 'world',\n",
              " 'yesterday']"
            ]
          },
          "metadata": {},
          "execution_count": 105
        }
      ]
    },
    {
      "cell_type": "code",
      "metadata": {
        "id": "mDbrsUgD5KCr"
      },
      "source": [
        "VOCAB_SIZE=1000\n",
        "encoder_wo_stop = tf.keras.layers.experimental.preprocessing.TextVectorization(\n",
        "    max_tokens=VOCAB_SIZE, vocabulary = vocab_wo_stop)\n",
        "encoder.adapt(train_dataset.map(lambda text, label: text))"
      ],
      "execution_count": null,
      "outputs": []
    },
    {
      "cell_type": "code",
      "metadata": {
        "id": "oIwM0SXQpBAL"
      },
      "source": [
        "num_classes = 4\n",
        "model = tf.keras.Sequential([\n",
        "                              encoder\n",
        "                              ,tf.keras.layers.Embedding(input_dim=len(encoder.get_vocabulary())\n",
        "                              ,output_dim=64\n",
        "                                # Use masking to handle the variable sequence lengths\n",
        "                              ,mask_zero=True)\n",
        "                              ,tf.keras.layers.Bidirectional(tf.keras.layers.LSTM(64))\n",
        "                              ,tf.keras.layers.Dense(64, activation='relu')\n",
        "                              ,tf.keras.layers.Dense(num_classes,activation='softmax')   # num_classes = 4\n",
        "])"
      ],
      "execution_count": null,
      "outputs": []
    },
    {
      "cell_type": "code",
      "metadata": {
        "id": "L6V38piEYwmy"
      },
      "source": [
        "model.compile(optimizer=tf.keras.optimizers.Adam(1e-4)\n",
        "              ,loss=tf.keras.losses.SparseCategoricalCrossentropy() # if we set from_logits=True we don not have specify a softmax activation function in the last layer\n",
        "              ,metrics=['accuracy'])"
      ],
      "execution_count": null,
      "outputs": []
    },
    {
      "cell_type": "code",
      "metadata": {
        "colab": {
          "base_uri": "https://localhost:8080/"
        },
        "id": "Ep-2XhSBYwvN",
        "outputId": "2fecb012-0e12-4432-ecc1-e2400efc6472"
      },
      "source": [
        "history = model.fit(train_dataset\n",
        "                    ,epochs = 200\n",
        "                    ,validation_data=validation_dataset\n",
        "                    ,callbacks=[tf.keras.callbacks.EarlyStopping(monitor='val_accuracy', patience=2)]\n",
        "                    )"
      ],
      "execution_count": null,
      "outputs": [
        {
          "output_type": "stream",
          "name": "stdout",
          "text": [
            "Epoch 1/200\n",
            "1782/1782 [==============================] - 246s 133ms/step - loss: 0.7463 - accuracy: 0.7164 - val_loss: 0.5074 - val_accuracy: 0.8273\n",
            "Epoch 2/200\n",
            "1782/1782 [==============================] - 224s 125ms/step - loss: 0.4651 - accuracy: 0.8347 - val_loss: 0.4326 - val_accuracy: 0.8495\n",
            "Epoch 3/200\n",
            "1782/1782 [==============================] - 222s 124ms/step - loss: 0.4221 - accuracy: 0.8489 - val_loss: 0.4055 - val_accuracy: 0.8585\n",
            "Epoch 4/200\n",
            "1782/1782 [==============================] - 233s 130ms/step - loss: 0.4003 - accuracy: 0.8562 - val_loss: 0.3997 - val_accuracy: 0.8565\n",
            "Epoch 5/200\n",
            "1782/1782 [==============================] - 231s 130ms/step - loss: 0.3899 - accuracy: 0.8585 - val_loss: 0.3877 - val_accuracy: 0.8630\n",
            "Epoch 6/200\n",
            "1782/1782 [==============================] - 233s 130ms/step - loss: 0.3822 - accuracy: 0.8609 - val_loss: 0.3908 - val_accuracy: 0.8583\n",
            "Epoch 7/200\n",
            "1782/1782 [==============================] - 235s 132ms/step - loss: 0.3768 - accuracy: 0.8622 - val_loss: 0.3921 - val_accuracy: 0.8612\n"
          ]
        }
      ]
    },
    {
      "cell_type": "code",
      "metadata": {
        "colab": {
          "base_uri": "https://localhost:8080/"
        },
        "id": "5Z85K9_hYwzi",
        "outputId": "df662c6b-66a8-44de-d838-00ac6cc88fb7"
      },
      "source": [
        "test_loss, test_acc = model.evaluate(test_dataset)\n",
        "\n",
        "print('Test Loss: {}'.format(test_loss))\n",
        "print('Test Accuracy: {}'.format(test_acc))"
      ],
      "execution_count": null,
      "outputs": [
        {
          "output_type": "stream",
          "name": "stdout",
          "text": [
            "119/119 [==============================] - 4s 32ms/step - loss: 0.4148 - accuracy: 0.8475\n",
            "Test Loss: 0.414760559797287\n",
            "Test Accuracy: 0.8475000262260437\n"
          ]
        }
      ]
    },
    {
      "cell_type": "code",
      "metadata": {
        "id": "bGHBhU_8Yw6e"
      },
      "source": [
        "preds = model.predict(test_dataset)"
      ],
      "execution_count": null,
      "outputs": []
    },
    {
      "cell_type": "code",
      "metadata": {
        "id": "NkbhZ1R9-RQ3"
      },
      "source": [
        "cm = sns.light_palette((260, 75, 60), input=\"husl\", as_cmap=True)"
      ],
      "execution_count": null,
      "outputs": []
    },
    {
      "cell_type": "code",
      "metadata": {
        "colab": {
          "base_uri": "https://localhost:8080/",
          "height": 173
        },
        "id": "Op33sdWL-RV0",
        "outputId": "5ea82f8d-766d-47c4-8882-c63877cdefed"
      },
      "source": [
        "df = pd.DataFrame(preds[0:15]\n",
        "                  ,columns = ['World','Sports','Business','Sci/Tech']).T\n",
        "df.style.format(\"{:.2%}\").background_gradient(cmap=cm)"
      ],
      "execution_count": null,
      "outputs": [
        {
          "output_type": "execute_result",
          "data": {
            "text/html": [
              "<style  type=\"text/css\" >\n",
              "#T_df6f84ae_39a1_11ec_9b3d_0242ac1c0002row0_col0,#T_df6f84ae_39a1_11ec_9b3d_0242ac1c0002row0_col2,#T_df6f84ae_39a1_11ec_9b3d_0242ac1c0002row0_col5,#T_df6f84ae_39a1_11ec_9b3d_0242ac1c0002row1_col1,#T_df6f84ae_39a1_11ec_9b3d_0242ac1c0002row1_col2,#T_df6f84ae_39a1_11ec_9b3d_0242ac1c0002row1_col4,#T_df6f84ae_39a1_11ec_9b3d_0242ac1c0002row1_col5,#T_df6f84ae_39a1_11ec_9b3d_0242ac1c0002row1_col8,#T_df6f84ae_39a1_11ec_9b3d_0242ac1c0002row1_col9,#T_df6f84ae_39a1_11ec_9b3d_0242ac1c0002row1_col10,#T_df6f84ae_39a1_11ec_9b3d_0242ac1c0002row1_col11,#T_df6f84ae_39a1_11ec_9b3d_0242ac1c0002row1_col12,#T_df6f84ae_39a1_11ec_9b3d_0242ac1c0002row1_col13,#T_df6f84ae_39a1_11ec_9b3d_0242ac1c0002row1_col14,#T_df6f84ae_39a1_11ec_9b3d_0242ac1c0002row2_col0,#T_df6f84ae_39a1_11ec_9b3d_0242ac1c0002row2_col1,#T_df6f84ae_39a1_11ec_9b3d_0242ac1c0002row2_col3,#T_df6f84ae_39a1_11ec_9b3d_0242ac1c0002row2_col4,#T_df6f84ae_39a1_11ec_9b3d_0242ac1c0002row2_col6,#T_df6f84ae_39a1_11ec_9b3d_0242ac1c0002row2_col7,#T_df6f84ae_39a1_11ec_9b3d_0242ac1c0002row2_col10,#T_df6f84ae_39a1_11ec_9b3d_0242ac1c0002row2_col11,#T_df6f84ae_39a1_11ec_9b3d_0242ac1c0002row2_col14,#T_df6f84ae_39a1_11ec_9b3d_0242ac1c0002row3_col0,#T_df6f84ae_39a1_11ec_9b3d_0242ac1c0002row3_col1,#T_df6f84ae_39a1_11ec_9b3d_0242ac1c0002row3_col3,#T_df6f84ae_39a1_11ec_9b3d_0242ac1c0002row3_col4,#T_df6f84ae_39a1_11ec_9b3d_0242ac1c0002row3_col6,#T_df6f84ae_39a1_11ec_9b3d_0242ac1c0002row3_col10,#T_df6f84ae_39a1_11ec_9b3d_0242ac1c0002row3_col14{\n",
              "            background-color:  #f0f1f2;\n",
              "            color:  #000000;\n",
              "        }#T_df6f84ae_39a1_11ec_9b3d_0242ac1c0002row0_col1,#T_df6f84ae_39a1_11ec_9b3d_0242ac1c0002row0_col4,#T_df6f84ae_39a1_11ec_9b3d_0242ac1c0002row0_col8,#T_df6f84ae_39a1_11ec_9b3d_0242ac1c0002row0_col10,#T_df6f84ae_39a1_11ec_9b3d_0242ac1c0002row0_col13,#T_df6f84ae_39a1_11ec_9b3d_0242ac1c0002row0_col14,#T_df6f84ae_39a1_11ec_9b3d_0242ac1c0002row1_col0,#T_df6f84ae_39a1_11ec_9b3d_0242ac1c0002row1_col3,#T_df6f84ae_39a1_11ec_9b3d_0242ac1c0002row1_col6,#T_df6f84ae_39a1_11ec_9b3d_0242ac1c0002row1_col7,#T_df6f84ae_39a1_11ec_9b3d_0242ac1c0002row2_col9,#T_df6f84ae_39a1_11ec_9b3d_0242ac1c0002row2_col12,#T_df6f84ae_39a1_11ec_9b3d_0242ac1c0002row3_col2,#T_df6f84ae_39a1_11ec_9b3d_0242ac1c0002row3_col5,#T_df6f84ae_39a1_11ec_9b3d_0242ac1c0002row3_col11{\n",
              "            background-color:  #778ce4;\n",
              "            color:  #000000;\n",
              "        }#T_df6f84ae_39a1_11ec_9b3d_0242ac1c0002row0_col3,#T_df6f84ae_39a1_11ec_9b3d_0242ac1c0002row0_col6,#T_df6f84ae_39a1_11ec_9b3d_0242ac1c0002row0_col11,#T_df6f84ae_39a1_11ec_9b3d_0242ac1c0002row0_col12,#T_df6f84ae_39a1_11ec_9b3d_0242ac1c0002row2_col2,#T_df6f84ae_39a1_11ec_9b3d_0242ac1c0002row2_col13{\n",
              "            background-color:  #f0f0f2;\n",
              "            color:  #000000;\n",
              "        }#T_df6f84ae_39a1_11ec_9b3d_0242ac1c0002row0_col7{\n",
              "            background-color:  #ced4ee;\n",
              "            color:  #000000;\n",
              "        }#T_df6f84ae_39a1_11ec_9b3d_0242ac1c0002row0_col9{\n",
              "            background-color:  #edeef2;\n",
              "            color:  #000000;\n",
              "        }#T_df6f84ae_39a1_11ec_9b3d_0242ac1c0002row2_col5{\n",
              "            background-color:  #e2e5f0;\n",
              "            color:  #000000;\n",
              "        }#T_df6f84ae_39a1_11ec_9b3d_0242ac1c0002row2_col8,#T_df6f84ae_39a1_11ec_9b3d_0242ac1c0002row3_col12,#T_df6f84ae_39a1_11ec_9b3d_0242ac1c0002row3_col13{\n",
              "            background-color:  #eff0f2;\n",
              "            color:  #000000;\n",
              "        }#T_df6f84ae_39a1_11ec_9b3d_0242ac1c0002row3_col7{\n",
              "            background-color:  #ecedf2;\n",
              "            color:  #000000;\n",
              "        }#T_df6f84ae_39a1_11ec_9b3d_0242ac1c0002row3_col8{\n",
              "            background-color:  #ebecf2;\n",
              "            color:  #000000;\n",
              "        }#T_df6f84ae_39a1_11ec_9b3d_0242ac1c0002row3_col9{\n",
              "            background-color:  #d3d8ef;\n",
              "            color:  #000000;\n",
              "        }</style><table id=\"T_df6f84ae_39a1_11ec_9b3d_0242ac1c0002\" class=\"dataframe\"><thead>    <tr>        <th class=\"blank level0\" ></th>        <th class=\"col_heading level0 col0\" >0</th>        <th class=\"col_heading level0 col1\" >1</th>        <th class=\"col_heading level0 col2\" >2</th>        <th class=\"col_heading level0 col3\" >3</th>        <th class=\"col_heading level0 col4\" >4</th>        <th class=\"col_heading level0 col5\" >5</th>        <th class=\"col_heading level0 col6\" >6</th>        <th class=\"col_heading level0 col7\" >7</th>        <th class=\"col_heading level0 col8\" >8</th>        <th class=\"col_heading level0 col9\" >9</th>        <th class=\"col_heading level0 col10\" >10</th>        <th class=\"col_heading level0 col11\" >11</th>        <th class=\"col_heading level0 col12\" >12</th>        <th class=\"col_heading level0 col13\" >13</th>        <th class=\"col_heading level0 col14\" >14</th>    </tr></thead><tbody>\n",
              "                <tr>\n",
              "                        <th id=\"T_df6f84ae_39a1_11ec_9b3d_0242ac1c0002level0_row0\" class=\"row_heading level0 row0\" >World</th>\n",
              "                        <td id=\"T_df6f84ae_39a1_11ec_9b3d_0242ac1c0002row0_col0\" class=\"data row0 col0\" >0.14%</td>\n",
              "                        <td id=\"T_df6f84ae_39a1_11ec_9b3d_0242ac1c0002row0_col1\" class=\"data row0 col1\" >99.86%</td>\n",
              "                        <td id=\"T_df6f84ae_39a1_11ec_9b3d_0242ac1c0002row0_col2\" class=\"data row0 col2\" >0.02%</td>\n",
              "                        <td id=\"T_df6f84ae_39a1_11ec_9b3d_0242ac1c0002row0_col3\" class=\"data row0 col3\" >0.66%</td>\n",
              "                        <td id=\"T_df6f84ae_39a1_11ec_9b3d_0242ac1c0002row0_col4\" class=\"data row0 col4\" >99.77%</td>\n",
              "                        <td id=\"T_df6f84ae_39a1_11ec_9b3d_0242ac1c0002row0_col5\" class=\"data row0 col5\" >0.23%</td>\n",
              "                        <td id=\"T_df6f84ae_39a1_11ec_9b3d_0242ac1c0002row0_col6\" class=\"data row0 col6\" >0.69%</td>\n",
              "                        <td id=\"T_df6f84ae_39a1_11ec_9b3d_0242ac1c0002row0_col7\" class=\"data row0 col7\" >21.65%</td>\n",
              "                        <td id=\"T_df6f84ae_39a1_11ec_9b3d_0242ac1c0002row0_col8\" class=\"data row0 col8\" >93.31%</td>\n",
              "                        <td id=\"T_df6f84ae_39a1_11ec_9b3d_0242ac1c0002row0_col9\" class=\"data row0 col9\" >2.50%</td>\n",
              "                        <td id=\"T_df6f84ae_39a1_11ec_9b3d_0242ac1c0002row0_col10\" class=\"data row0 col10\" >99.93%</td>\n",
              "                        <td id=\"T_df6f84ae_39a1_11ec_9b3d_0242ac1c0002row0_col11\" class=\"data row0 col11\" >0.58%</td>\n",
              "                        <td id=\"T_df6f84ae_39a1_11ec_9b3d_0242ac1c0002row0_col12\" class=\"data row0 col12\" >0.44%</td>\n",
              "                        <td id=\"T_df6f84ae_39a1_11ec_9b3d_0242ac1c0002row0_col13\" class=\"data row0 col13\" >93.79%</td>\n",
              "                        <td id=\"T_df6f84ae_39a1_11ec_9b3d_0242ac1c0002row0_col14\" class=\"data row0 col14\" >99.81%</td>\n",
              "            </tr>\n",
              "            <tr>\n",
              "                        <th id=\"T_df6f84ae_39a1_11ec_9b3d_0242ac1c0002level0_row1\" class=\"row_heading level0 row1\" >Sports</th>\n",
              "                        <td id=\"T_df6f84ae_39a1_11ec_9b3d_0242ac1c0002row1_col0\" class=\"data row1 col0\" >99.72%</td>\n",
              "                        <td id=\"T_df6f84ae_39a1_11ec_9b3d_0242ac1c0002row1_col1\" class=\"data row1 col1\" >0.01%</td>\n",
              "                        <td id=\"T_df6f84ae_39a1_11ec_9b3d_0242ac1c0002row1_col2\" class=\"data row1 col2\" >0.00%</td>\n",
              "                        <td id=\"T_df6f84ae_39a1_11ec_9b3d_0242ac1c0002row1_col3\" class=\"data row1 col3\" >99.14%</td>\n",
              "                        <td id=\"T_df6f84ae_39a1_11ec_9b3d_0242ac1c0002row1_col4\" class=\"data row1 col4\" >0.01%</td>\n",
              "                        <td id=\"T_df6f84ae_39a1_11ec_9b3d_0242ac1c0002row1_col5\" class=\"data row1 col5\" >0.11%</td>\n",
              "                        <td id=\"T_df6f84ae_39a1_11ec_9b3d_0242ac1c0002row1_col6\" class=\"data row1 col6\" >99.04%</td>\n",
              "                        <td id=\"T_df6f84ae_39a1_11ec_9b3d_0242ac1c0002row1_col7\" class=\"data row1 col7\" >75.55%</td>\n",
              "                        <td id=\"T_df6f84ae_39a1_11ec_9b3d_0242ac1c0002row1_col8\" class=\"data row1 col8\" >0.45%</td>\n",
              "                        <td id=\"T_df6f84ae_39a1_11ec_9b3d_0242ac1c0002row1_col9\" class=\"data row1 col9\" >0.07%</td>\n",
              "                        <td id=\"T_df6f84ae_39a1_11ec_9b3d_0242ac1c0002row1_col10\" class=\"data row1 col10\" >0.00%</td>\n",
              "                        <td id=\"T_df6f84ae_39a1_11ec_9b3d_0242ac1c0002row1_col11\" class=\"data row1 col11\" >0.19%</td>\n",
              "                        <td id=\"T_df6f84ae_39a1_11ec_9b3d_0242ac1c0002row1_col12\" class=\"data row1 col12\" >0.05%</td>\n",
              "                        <td id=\"T_df6f84ae_39a1_11ec_9b3d_0242ac1c0002row1_col13\" class=\"data row1 col13\" >1.52%</td>\n",
              "                        <td id=\"T_df6f84ae_39a1_11ec_9b3d_0242ac1c0002row1_col14\" class=\"data row1 col14\" >0.00%</td>\n",
              "            </tr>\n",
              "            <tr>\n",
              "                        <th id=\"T_df6f84ae_39a1_11ec_9b3d_0242ac1c0002level0_row2\" class=\"row_heading level0 row2\" >Business</th>\n",
              "                        <td id=\"T_df6f84ae_39a1_11ec_9b3d_0242ac1c0002row2_col0\" class=\"data row2 col0\" >0.07%</td>\n",
              "                        <td id=\"T_df6f84ae_39a1_11ec_9b3d_0242ac1c0002row2_col1\" class=\"data row2 col1\" >0.07%</td>\n",
              "                        <td id=\"T_df6f84ae_39a1_11ec_9b3d_0242ac1c0002row2_col2\" class=\"data row2 col2\" >0.60%</td>\n",
              "                        <td id=\"T_df6f84ae_39a1_11ec_9b3d_0242ac1c0002row2_col3\" class=\"data row2 col3\" >0.06%</td>\n",
              "                        <td id=\"T_df6f84ae_39a1_11ec_9b3d_0242ac1c0002row2_col4\" class=\"data row2 col4\" >0.09%</td>\n",
              "                        <td id=\"T_df6f84ae_39a1_11ec_9b3d_0242ac1c0002row2_col5\" class=\"data row2 col5\" >10.57%</td>\n",
              "                        <td id=\"T_df6f84ae_39a1_11ec_9b3d_0242ac1c0002row2_col6\" class=\"data row2 col6\" >0.05%</td>\n",
              "                        <td id=\"T_df6f84ae_39a1_11ec_9b3d_0242ac1c0002row2_col7\" class=\"data row2 col7\" >0.15%</td>\n",
              "                        <td id=\"T_df6f84ae_39a1_11ec_9b3d_0242ac1c0002row2_col8\" class=\"data row2 col8\" >1.46%</td>\n",
              "                        <td id=\"T_df6f84ae_39a1_11ec_9b3d_0242ac1c0002row2_col9\" class=\"data row2 col9\" >78.35%</td>\n",
              "                        <td id=\"T_df6f84ae_39a1_11ec_9b3d_0242ac1c0002row2_col10\" class=\"data row2 col10\" >0.04%</td>\n",
              "                        <td id=\"T_df6f84ae_39a1_11ec_9b3d_0242ac1c0002row2_col11\" class=\"data row2 col11\" >0.47%</td>\n",
              "                        <td id=\"T_df6f84ae_39a1_11ec_9b3d_0242ac1c0002row2_col12\" class=\"data row2 col12\" >98.69%</td>\n",
              "                        <td id=\"T_df6f84ae_39a1_11ec_9b3d_0242ac1c0002row2_col13\" class=\"data row2 col13\" >2.12%</td>\n",
              "                        <td id=\"T_df6f84ae_39a1_11ec_9b3d_0242ac1c0002row2_col14\" class=\"data row2 col14\" >0.08%</td>\n",
              "            </tr>\n",
              "            <tr>\n",
              "                        <th id=\"T_df6f84ae_39a1_11ec_9b3d_0242ac1c0002level0_row3\" class=\"row_heading level0 row3\" >Sci/Tech</th>\n",
              "                        <td id=\"T_df6f84ae_39a1_11ec_9b3d_0242ac1c0002row3_col0\" class=\"data row3 col0\" >0.08%</td>\n",
              "                        <td id=\"T_df6f84ae_39a1_11ec_9b3d_0242ac1c0002row3_col1\" class=\"data row3 col1\" >0.05%</td>\n",
              "                        <td id=\"T_df6f84ae_39a1_11ec_9b3d_0242ac1c0002row3_col2\" class=\"data row3 col2\" >99.37%</td>\n",
              "                        <td id=\"T_df6f84ae_39a1_11ec_9b3d_0242ac1c0002row3_col3\" class=\"data row3 col3\" >0.13%</td>\n",
              "                        <td id=\"T_df6f84ae_39a1_11ec_9b3d_0242ac1c0002row3_col4\" class=\"data row3 col4\" >0.13%</td>\n",
              "                        <td id=\"T_df6f84ae_39a1_11ec_9b3d_0242ac1c0002row3_col5\" class=\"data row3 col5\" >89.08%</td>\n",
              "                        <td id=\"T_df6f84ae_39a1_11ec_9b3d_0242ac1c0002row3_col6\" class=\"data row3 col6\" >0.21%</td>\n",
              "                        <td id=\"T_df6f84ae_39a1_11ec_9b3d_0242ac1c0002row3_col7\" class=\"data row3 col7\" >2.66%</td>\n",
              "                        <td id=\"T_df6f84ae_39a1_11ec_9b3d_0242ac1c0002row3_col8\" class=\"data row3 col8\" >4.78%</td>\n",
              "                        <td id=\"T_df6f84ae_39a1_11ec_9b3d_0242ac1c0002row3_col9\" class=\"data row3 col9\" >19.08%</td>\n",
              "                        <td id=\"T_df6f84ae_39a1_11ec_9b3d_0242ac1c0002row3_col10\" class=\"data row3 col10\" >0.03%</td>\n",
              "                        <td id=\"T_df6f84ae_39a1_11ec_9b3d_0242ac1c0002row3_col11\" class=\"data row3 col11\" >98.75%</td>\n",
              "                        <td id=\"T_df6f84ae_39a1_11ec_9b3d_0242ac1c0002row3_col12\" class=\"data row3 col12\" >0.83%</td>\n",
              "                        <td id=\"T_df6f84ae_39a1_11ec_9b3d_0242ac1c0002row3_col13\" class=\"data row3 col13\" >2.56%</td>\n",
              "                        <td id=\"T_df6f84ae_39a1_11ec_9b3d_0242ac1c0002row3_col14\" class=\"data row3 col14\" >0.11%</td>\n",
              "            </tr>\n",
              "    </tbody></table>"
            ],
            "text/plain": [
              "<pandas.io.formats.style.Styler at 0x7f9a5082b790>"
            ]
          },
          "metadata": {},
          "execution_count": 121
        }
      ]
    },
    {
      "cell_type": "markdown",
      "metadata": {
        "id": "96aPTRExmMrG"
      },
      "source": [
        "(c) Output sequence length: Use the default VS set it to a fixed number\n"
      ]
    },
    {
      "cell_type": "code",
      "metadata": {
        "colab": {
          "base_uri": "https://localhost:8080/"
        },
        "id": "dK4QtBI9mPkN",
        "outputId": "e2f83616-ff3d-4be3-abbc-5071e9cbc69c"
      },
      "source": [
        "%%time\n",
        "encoder_1000 = tf.keras.layers.experimental.preprocessing.TextVectorization(max_tokens=1000, output_sequence_length=40)\n",
        "encoder_1000.adapt(dataset_all.map(lambda text, label: text))\n",
        "vocab_1000 = np.array(encoder_1000.get_vocabulary());"
      ],
      "execution_count": null,
      "outputs": [
        {
          "output_type": "stream",
          "name": "stdout",
          "text": [
            "WARNING:tensorflow:AutoGraph could not transform <function <lambda> at 0x7f9a6f41e290> and will run it as-is.\n",
            "Cause: could not parse the source code of <function <lambda> at 0x7f9a6f41e290>: no matching AST found\n",
            "To silence this warning, decorate the function with @tf.autograph.experimental.do_not_convert\n"
          ]
        },
        {
          "output_type": "stream",
          "name": "stderr",
          "text": [
            "WARNING:tensorflow:AutoGraph could not transform <function <lambda> at 0x7f9a6f41e290> and will run it as-is.\n",
            "Cause: could not parse the source code of <function <lambda> at 0x7f9a6f41e290>: no matching AST found\n",
            "To silence this warning, decorate the function with @tf.autograph.experimental.do_not_convert\n"
          ]
        },
        {
          "output_type": "stream",
          "name": "stdout",
          "text": [
            "WARNING: AutoGraph could not transform <function <lambda> at 0x7f9a6f41e290> and will run it as-is.\n",
            "Cause: could not parse the source code of <function <lambda> at 0x7f9a6f41e290>: no matching AST found\n",
            "To silence this warning, decorate the function with @tf.autograph.experimental.do_not_convert\n",
            "CPU times: user 1min 40s, sys: 11.6 s, total: 1min 52s\n",
            "Wall time: 1min 22s\n"
          ]
        }
      ]
    },
    {
      "cell_type": "code",
      "metadata": {
        "colab": {
          "base_uri": "https://localhost:8080/"
        },
        "id": "sNTkrv7cmP6X",
        "outputId": "8ffb292c-3c83-4a9f-b248-2951dee8f760"
      },
      "source": [
        "vocab_1000[:20]"
      ],
      "execution_count": null,
      "outputs": [
        {
          "output_type": "execute_result",
          "data": {
            "text/plain": [
              "array(['', '[UNK]', 'the', 'a', 'to', 'of', 'in', 'and', 'on', 'for',\n",
              "       'that', '39s', 'with', 'its', 'as', 'at', 'is', 'said', 'by', 'it'],\n",
              "      dtype='<U14')"
            ]
          },
          "metadata": {},
          "execution_count": 107
        }
      ]
    },
    {
      "cell_type": "code",
      "metadata": {
        "colab": {
          "base_uri": "https://localhost:8080/"
        },
        "id": "LFZyL4rYE7HD",
        "outputId": "40ca35d3-ee70-488e-830b-ebf7e79b006f"
      },
      "source": [
        "example = \"the dog ran after a red ball as it rolled by the hat on the ground.\"\n",
        "encoder_1000(example)"
      ],
      "execution_count": null,
      "outputs": [
        {
          "output_type": "execute_result",
          "data": {
            "text/plain": [
              "<tf.Tensor: shape=(40,), dtype=int64, numpy=\n",
              "array([  2,   1,   1,  29,   3, 232,   1,  14,  19,   1,  18,   2,   1,\n",
              "         8,   2, 999,   0,   0,   0,   0,   0,   0,   0,   0,   0,   0,\n",
              "         0,   0,   0,   0,   0,   0,   0,   0,   0,   0,   0,   0,   0,\n",
              "         0])>"
            ]
          },
          "metadata": {},
          "execution_count": 108
        }
      ]
    },
    {
      "cell_type": "code",
      "metadata": {
        "colab": {
          "base_uri": "https://localhost:8080/"
        },
        "id": "eQIqnBUFE7Kz",
        "outputId": "9291ba01-8a02-4dc6-a065-c13c580febcd"
      },
      "source": [
        "for word in example.split():\n",
        "  print(f'\"{word}\" is {\"*not* \" if word not in vocab_1000  else \"\"}in the vocabulary.')"
      ],
      "execution_count": null,
      "outputs": [
        {
          "output_type": "stream",
          "name": "stdout",
          "text": [
            "\"the\" is in the vocabulary.\n",
            "\"dog\" is *not* in the vocabulary.\n",
            "\"ran\" is *not* in the vocabulary.\n",
            "\"after\" is in the vocabulary.\n",
            "\"a\" is in the vocabulary.\n",
            "\"red\" is in the vocabulary.\n",
            "\"ball\" is *not* in the vocabulary.\n",
            "\"as\" is in the vocabulary.\n",
            "\"it\" is in the vocabulary.\n",
            "\"rolled\" is *not* in the vocabulary.\n",
            "\"by\" is in the vocabulary.\n",
            "\"the\" is in the vocabulary.\n",
            "\"hat\" is *not* in the vocabulary.\n",
            "\"on\" is in the vocabulary.\n",
            "\"the\" is in the vocabulary.\n",
            "\"ground.\" is *not* in the vocabulary.\n"
          ]
        }
      ]
    },
    {
      "cell_type": "code",
      "metadata": {
        "id": "SDHyGO4xE7Oj"
      },
      "source": [
        "num_classes = 4\n",
        "model = tf.keras.Sequential([\n",
        "                              encoder_1000\n",
        "                              ,tf.keras.layers.Embedding(input_dim=len(encoder_1000.get_vocabulary())\n",
        "                              ,output_dim=64\n",
        "                                # Use masking to handle the variable sequence lengths\n",
        "                              ,mask_zero=True)\n",
        "                              ,tf.keras.layers.Bidirectional(tf.keras.layers.LSTM(64))\n",
        "                              ,tf.keras.layers.Dense(64, activation='relu')\n",
        "                              ,tf.keras.layers.Dense(num_classes,activation='softmax')   # num_classes = 4\n",
        "])"
      ],
      "execution_count": null,
      "outputs": []
    },
    {
      "cell_type": "code",
      "metadata": {
        "id": "JOjEbachE7UH"
      },
      "source": [
        "model.compile(optimizer=tf.keras.optimizers.Adam(1e-4)\n",
        "              ,loss=tf.keras.losses.SparseCategoricalCrossentropy() # if we set from_logits=True we don not have specify a softmax activation function in the last layer\n",
        "              ,metrics=['accuracy'])"
      ],
      "execution_count": null,
      "outputs": []
    },
    {
      "cell_type": "code",
      "metadata": {
        "colab": {
          "base_uri": "https://localhost:8080/"
        },
        "id": "dbP9zOuAE7aP",
        "outputId": "aedeea62-069d-4f54-d0e9-f68e0eaf2617"
      },
      "source": [
        "history = model.fit(train_dataset\n",
        "                    ,epochs = 200\n",
        "                    ,validation_data=validation_dataset\n",
        "                    ,callbacks=[tf.keras.callbacks.EarlyStopping(monitor='val_accuracy', patience=2)]\n",
        "                    )"
      ],
      "execution_count": null,
      "outputs": [
        {
          "output_type": "stream",
          "name": "stdout",
          "text": [
            "Epoch 1/200\n",
            "1782/1782 [==============================] - 156s 82ms/step - loss: 0.7613 - accuracy: 0.7050 - val_loss: 0.4971 - val_accuracy: 0.8307\n",
            "Epoch 2/200\n",
            "1782/1782 [==============================] - 143s 80ms/step - loss: 0.4510 - accuracy: 0.8428 - val_loss: 0.4287 - val_accuracy: 0.8488\n",
            "Epoch 3/200\n",
            "1782/1782 [==============================] - 143s 80ms/step - loss: 0.4155 - accuracy: 0.8517 - val_loss: 0.4164 - val_accuracy: 0.8553\n",
            "Epoch 4/200\n",
            "1782/1782 [==============================] - 144s 81ms/step - loss: 0.4026 - accuracy: 0.8554 - val_loss: 0.4064 - val_accuracy: 0.8577\n",
            "Epoch 5/200\n",
            "1782/1782 [==============================] - 143s 80ms/step - loss: 0.3949 - accuracy: 0.8574 - val_loss: 0.3991 - val_accuracy: 0.8598\n",
            "Epoch 6/200\n",
            "1782/1782 [==============================] - 143s 80ms/step - loss: 0.3893 - accuracy: 0.8592 - val_loss: 0.3957 - val_accuracy: 0.8608\n",
            "Epoch 7/200\n",
            "1782/1782 [==============================] - 145s 81ms/step - loss: 0.3859 - accuracy: 0.8596 - val_loss: 0.3953 - val_accuracy: 0.8583\n",
            "Epoch 8/200\n",
            "1782/1782 [==============================] - 144s 81ms/step - loss: 0.3826 - accuracy: 0.8605 - val_loss: 0.4061 - val_accuracy: 0.8583\n"
          ]
        }
      ]
    },
    {
      "cell_type": "code",
      "metadata": {
        "colab": {
          "base_uri": "https://localhost:8080/"
        },
        "id": "WC_5M47lE7gY",
        "outputId": "d8874d97-0711-431c-d4e5-0e97525a4e29"
      },
      "source": [
        "test_loss, test_acc = model.evaluate(test_dataset)\n",
        "\n",
        "print('Test Loss: {}'.format(test_loss))\n",
        "print('Test Accuracy: {}'.format(test_acc))"
      ],
      "execution_count": null,
      "outputs": [
        {
          "output_type": "stream",
          "name": "stdout",
          "text": [
            "119/119 [==============================] - 3s 21ms/step - loss: 0.4194 - accuracy: 0.8446\n",
            "Test Loss: 0.4193532168865204\n",
            "Test Accuracy: 0.8446052670478821\n"
          ]
        }
      ]
    }
  ]
}